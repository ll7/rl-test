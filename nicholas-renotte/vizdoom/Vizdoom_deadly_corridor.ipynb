{
 "cells": [
  {
   "cell_type": "markdown",
   "metadata": {},
   "source": [
    "# Vizdoom Deadly Corridor\n",
    "\n",
    "https://youtu.be/eBCU-tqLGfQ\n",
    "\n"
   ]
  },
  {
   "cell_type": "code",
   "execution_count": 2,
   "metadata": {},
   "outputs": [],
   "source": [
    "from vizdoom import *\n",
    "\n",
    "import random\n",
    "import time\n",
    "\n",
    "import numpy as np"
   ]
  },
  {
   "cell_type": "code",
   "execution_count": 3,
   "metadata": {},
   "outputs": [],
   "source": [
    "env_name = 'github/VizDoom/scenarios/deadly_corridor.cfg'\n",
    "game = DoomGame()\n",
    "game.load_config(env_name)\n",
    "game.init()"
   ]
  },
  {
   "cell_type": "code",
   "execution_count": 5,
   "metadata": {},
   "outputs": [
    {
     "name": "stdout",
     "output_type": "stream",
     "text": [
      "reward:  0.0\n",
      "reward:  0.0\n",
      "reward:  0.0\n",
      "reward:  0.0\n",
      "reward:  0.0\n",
      "reward:  0.0\n",
      "reward:  0.0\n",
      "reward:  0.0\n",
      "reward:  0.0\n",
      "reward:  0.0\n",
      "reward:  0.0\n",
      "reward:  0.0\n",
      "reward:  -4.108184814453125\n",
      "reward:  -6.1451568603515625\n",
      "reward:  -4.1450958251953125\n",
      "reward:  -1.5829620361328125\n",
      "reward:  0.0\n",
      "reward:  0.0\n",
      "reward:  0.0\n",
      "reward:  0.0\n",
      "reward:  0.0\n",
      "reward:  0.0\n",
      "reward:  0.0\n",
      "reward:  0.0\n",
      "reward:  0.0\n",
      "reward:  0.0\n",
      "reward:  0.0\n",
      "reward:  0.0\n",
      "reward:  0.0\n",
      "reward:  0.0\n",
      "reward:  0.0\n",
      "reward:  0.0\n",
      "reward:  0.0\n",
      "reward:  0.0\n",
      "reward:  0.0\n",
      "reward:  0.0\n",
      "reward:  0.0\n",
      "reward:  -100.0\n"
     ]
    }
   ],
   "source": [
    "game.new_episode()\n",
    "\n",
    "# This is the set of actions we can take in the environment.\n",
    "actions = np.identity(3, dtype=np.uint8)\n",
    "\n",
    "episodes = 1\n",
    "for episode in range(episodes):\n",
    "    game.new_episode()\n",
    "    while not game.is_episode_finished():\n",
    "        # get the state\n",
    "        state = game.get_state()\n",
    "        \n",
    "        # get the screen buffer\n",
    "        img = state.screen_buffer\n",
    "        \n",
    "        \n",
    "        info = state.game_variables\n",
    "        \n",
    "        # choose action\n",
    "        action = random.choice(actions)\n",
    "        \n",
    "        # take action and get reward\n",
    "        reward = game.make_action(action, 4)\n",
    "        \n",
    "        # print reward\n",
    "        print('reward: ', reward)\n",
    "        time.sleep(0.02)\n",
    "    time.sleep(2)"
   ]
  },
  {
   "cell_type": "code",
   "execution_count": 6,
   "metadata": {},
   "outputs": [],
   "source": [
    "game.get_state()"
   ]
  },
  {
   "cell_type": "code",
   "execution_count": 4,
   "metadata": {},
   "outputs": [
    {
     "name": "stdout",
     "output_type": "stream",
     "text": [
      "(3, 240, 320)\n"
     ]
    }
   ],
   "source": [
    "game.new_episode()\n",
    "print(game.get_state().screen_buffer.shape)\n",
    "game.close()"
   ]
  },
  {
   "cell_type": "markdown",
   "metadata": {},
   "source": [
    "## 2. Converting it in a Gym environment"
   ]
  },
  {
   "cell_type": "code",
   "execution_count": 1,
   "metadata": {},
   "outputs": [],
   "source": [
    "from gym import Env\n",
    "from gym.spaces import Discrete, Box\n",
    "import cv2"
   ]
  },
  {
   "cell_type": "code",
   "execution_count": 5,
   "metadata": {},
   "outputs": [],
   "source": [
    "class VizDoomGym(Env):\n",
    "    \"\"\"VizDoom OpenAI Gym environment\"\"\"\n",
    "    \n",
    "    def __init__(\n",
    "        self, \n",
    "        render=False, \n",
    "        config='github/VizDoom/scenarios/deadly_corridor_s1.cfg'\n",
    "        ):\n",
    "        \"\"\"Initialize the environment\"\"\"\n",
    "        \n",
    "        # inherit from the base class\n",
    "        super().__init__()\n",
    "        \n",
    "        # Setup the game\n",
    "        self.game = DoomGame()\n",
    "        self.game.load_config(config)\n",
    "        \n",
    "        # Render frame logic\n",
    "        if render == False:\n",
    "            self.game.set_window_visible(False)\n",
    "        else:\n",
    "            self.game.set_window_visible(True)\n",
    "            \n",
    "        self.game.init()\n",
    "        \n",
    "        # create the action space and observation space\n",
    "        self.observation_space = Box(\n",
    "            low=0, \n",
    "            high=255, \n",
    "            shape=(100, 160, 1), \n",
    "            dtype=np.uint8\n",
    "            )\n",
    "        self.action_space = Discrete(7)\n",
    "        \n",
    "        # Game variables: HEALTH DAMAGE_TAKEN HITCOUNT SELECTED_WEAPON_AMMO\n",
    "        self.damage_taken = 0\n",
    "        self.hit_count = 0\n",
    "        self.selected_weapon_ammo = 60\n",
    "        \n",
    "        \n",
    "        \n",
    "        \n",
    "    def step(self, action):\n",
    "        \"\"\"Take a step in the environment\"\"\"\n",
    "        \n",
    "        actions = np.identity(7, dtype=np.uint8)\n",
    "        movement_reward = self.game.make_action(actions[action], 4)\n",
    "        \n",
    "        if self.game.get_state():\n",
    "            # if we get a state\n",
    "            \n",
    "            state = self.game.get_state().screen_buffer\n",
    "            state = self.grayscale(state) # transform the image to grayscale\n",
    "            \n",
    "            # reward shaping\n",
    "            game_variables = self.game.get_state().game_variables\n",
    "            health, damage_taken, hit_count, selected_weapon_ammo = game_variables\n",
    "            \n",
    "            damage_taken_delta = -damage_taken + self.damage_taken\n",
    "            self.damage_taken = damage_taken\n",
    "            \n",
    "            hitcount_delta = hit_count - self.hit_count\n",
    "            self.hit_count = hit_count\n",
    "            \n",
    "            ammo_delta = -selected_weapon_ammo + self.selected_weapon_ammo\n",
    "            self.selected_weapon_ammo = selected_weapon_ammo\n",
    "\n",
    "            reward = (\n",
    "                movement_reward + \n",
    "                damage_taken * 10 + \n",
    "                hitcount_delta * 10 + \n",
    "                ammo_delta * 10\n",
    "                )\n",
    "            info = self.game.get_state().game_variables\n",
    "\n",
    "        else:\n",
    "            state = np.zeros(self.observation_space.shape)\n",
    "            info = 0\n",
    "\n",
    "        info = {\"info\": info}\n",
    "        done = self.game.is_episode_finished()\n",
    "\n",
    "        return state, reward, done, info # our state is the image\n",
    "        \n",
    "    def close(self):\n",
    "        \"\"\"close the environment\"\"\"\n",
    "        \n",
    "        self.game.close()\n",
    "        \n",
    "    def render():\n",
    "        \"\"\"Render the environment\"\"\"\n",
    "        pass\n",
    "    def grayscale(self, observation):\n",
    "        \"\"\"Transform the image to grayscale\"\"\"\n",
    "        \n",
    "        gray = cv2.cvtColor(\n",
    "            np.moveaxis(observation, 0, -1), # reorders observation shape from (3, 240, 320) to (240, 320, 3)\n",
    "            cv2.COLOR_RGB2GRAY\n",
    "            )\n",
    "        \n",
    "        # make image smaller\n",
    "        resize = cv2.resize(gray, (160, 100), interpolation=cv2.INTER_CUBIC)\n",
    "        state = np.reshape(resize, (100, 160, 1))\n",
    "        \n",
    "        return state\n",
    "    \n",
    "    def reset(self):\n",
    "        \"\"\"Reset the environment\"\"\"\n",
    "        \n",
    "        self.game.new_episode()\n",
    "        state = self.game.get_state().screen_buffer\n",
    "        return self.grayscale(state)\n",
    "    "
   ]
  },
  {
   "cell_type": "code",
   "execution_count": 6,
   "metadata": {},
   "outputs": [],
   "source": [
    "env=VizDoomGym()"
   ]
  },
  {
   "cell_type": "code",
   "execution_count": 7,
   "metadata": {},
   "outputs": [],
   "source": [
    "state = env.reset()"
   ]
  },
  {
   "cell_type": "code",
   "execution_count": 8,
   "metadata": {},
   "outputs": [
    {
     "data": {
      "text/plain": [
       "(100, 160, 1)"
      ]
     },
     "execution_count": 8,
     "metadata": {},
     "output_type": "execute_result"
    }
   ],
   "source": [
    "state.shape"
   ]
  },
  {
   "cell_type": "code",
   "execution_count": 9,
   "metadata": {},
   "outputs": [
    {
     "name": "stdout",
     "output_type": "stream",
     "text": [
      "[[[39]\n",
      "  [40]\n",
      "  [32]\n",
      "  ...\n",
      "  [34]\n",
      "  [29]\n",
      "  [30]]\n",
      "\n",
      " [[34]\n",
      "  [40]\n",
      "  [30]\n",
      "  ...\n",
      "  [31]\n",
      "  [31]\n",
      "  [31]]\n",
      "\n",
      " [[24]\n",
      "  [42]\n",
      "  [30]\n",
      "  ...\n",
      "  [32]\n",
      "  [31]\n",
      "  [31]]\n",
      "\n",
      " ...\n",
      "\n",
      " [[75]\n",
      "  [63]\n",
      "  [62]\n",
      "  ...\n",
      "  [44]\n",
      "  [71]\n",
      "  [60]]\n",
      "\n",
      " [[15]\n",
      "  [48]\n",
      "  [47]\n",
      "  ...\n",
      "  [49]\n",
      "  [69]\n",
      "  [47]]\n",
      "\n",
      " [[22]\n",
      "  [14]\n",
      "  [26]\n",
      "  ...\n",
      "  [57]\n",
      "  [37]\n",
      "  [39]]]\n"
     ]
    }
   ],
   "source": [
    "print(state)"
   ]
  },
  {
   "cell_type": "markdown",
   "metadata": {},
   "source": [
    "### 2.1 Environment checker"
   ]
  },
  {
   "cell_type": "code",
   "execution_count": 10,
   "metadata": {},
   "outputs": [],
   "source": [
    "from stable_baselines3.common import env_checker"
   ]
  },
  {
   "cell_type": "code",
   "execution_count": 11,
   "metadata": {},
   "outputs": [],
   "source": [
    "env_checker.check_env(env)"
   ]
  },
  {
   "cell_type": "code",
   "execution_count": null,
   "metadata": {},
   "outputs": [],
   "source": []
  },
  {
   "cell_type": "code",
   "execution_count": null,
   "metadata": {},
   "outputs": [],
   "source": []
  },
  {
   "cell_type": "markdown",
   "metadata": {},
   "source": [
    "## 3. View Environment"
   ]
  },
  {
   "cell_type": "code",
   "execution_count": 12,
   "metadata": {},
   "outputs": [
    {
     "data": {
      "text/plain": [
       "<matplotlib.image.AxesImage at 0x212b3ad55b0>"
      ]
     },
     "execution_count": 12,
     "metadata": {},
     "output_type": "execute_result"
    },
    {
     "data": {
      "image/png": "[encoded data removed]",
      "text/plain": [
       "<Figure size 432x288 with 1 Axes>"
      ]
     },
     "metadata": {
      "needs_background": "light"
     },
     "output_type": "display_data"
    }
   ],
   "source": [
    "from matplotlib import pyplot as plt\n",
    "plt.imshow(cv2.cvtColor(state, cv2.COLOR_BGR2RGB))"
   ]
  },
  {
   "cell_type": "code",
   "execution_count": 13,
   "metadata": {},
   "outputs": [],
   "source": [
    "env.close()"
   ]
  },
  {
   "cell_type": "markdown",
   "metadata": {},
   "source": [
    "## 4. Setup Callback"
   ]
  },
  {
   "cell_type": "code",
   "execution_count": 14,
   "metadata": {},
   "outputs": [],
   "source": [
    "import os\n",
    "from stable_baselines3.common.callbacks import BaseCallback"
   ]
  },
  {
   "cell_type": "code",
   "execution_count": 15,
   "metadata": {},
   "outputs": [],
   "source": [
    "class TrainAndLoggingCallback(BaseCallback):\n",
    "    \n",
    "    def __init__(self, check_freq, save_path, verbose=1):\n",
    "        super(TrainAndLoggingCallback, self).__init__(verbose)\n",
    "        self.check_freq = check_freq\n",
    "        self.save_path = save_path\n",
    "        \n",
    "    def _init_callback(self):\n",
    "        if self.save_path is not None:\n",
    "            os.makedirs(self.save_path, exist_ok = True)\n",
    "            \n",
    "    def _on_step(self):\n",
    "        if self.n_calls % self.check_freq == 0:\n",
    "            model_path = os.path.join(self.save_path, 'best_model_{}'.format(self.n_calls))\n",
    "            self.model.save(model_path)\n",
    "            \n",
    "        return True"
   ]
  },
  {
   "cell_type": "code",
   "execution_count": 17,
   "metadata": {},
   "outputs": [],
   "source": [
    "CHECKPOINT_DIR = './train/train_corridor'\n",
    "LOG_DIR = './train/log_corridor'\n"
   ]
  },
  {
   "cell_type": "code",
   "execution_count": 18,
   "metadata": {},
   "outputs": [],
   "source": [
    "callback = TrainAndLoggingCallback(check_freq=10_000, save_path=CHECKPOINT_DIR)"
   ]
  },
  {
   "cell_type": "markdown",
   "metadata": {},
   "source": [
    "## 5. Train Model"
   ]
  },
  {
   "cell_type": "code",
   "execution_count": 19,
   "metadata": {},
   "outputs": [],
   "source": [
    "from stable_baselines3 import PPO"
   ]
  },
  {
   "cell_type": "code",
   "execution_count": 23,
   "metadata": {},
   "outputs": [],
   "source": [
    "env = VizDoomGym(config='github/VizDoom/scenarios/deadly_corridor_s1.cfg')"
   ]
  },
  {
   "cell_type": "code",
   "execution_count": 24,
   "metadata": {},
   "outputs": [
    {
     "name": "stdout",
     "output_type": "stream",
     "text": [
      "Using cuda device\n",
      "Wrapping the env with a `Monitor` wrapper\n",
      "Wrapping the env in a DummyVecEnv.\n",
      "Wrapping the env in a VecTransposeImage.\n"
     ]
    }
   ],
   "source": [
    "model = PPO(\n",
    "    'CnnPolicy', \n",
    "    env, \n",
    "    tensorboard_log=LOG_DIR, \n",
    "    verbose=1, \n",
    "    learning_rate=0.0001, \n",
    "    n_steps=2048 # batch size you are passing through\n",
    "    )"
   ]
  },
  {
   "cell_type": "code",
   "execution_count": 26,
   "metadata": {},
   "outputs": [
    {
     "name": "stdout",
     "output_type": "stream",
     "text": [
      "Logging to ./train/log_corridor\\PPO_3\n",
      "---------------------------------\n",
      "| rollout/           |          |\n",
      "|    ep_len_mean     | 109      |\n",
      "|    ep_rew_mean     | 99.8     |\n",
      "| time/              |          |\n",
      "|    fps             | 53       |\n",
      "|    iterations      | 1        |\n",
      "|    time_elapsed    | 38       |\n",
      "|    total_timesteps | 2048     |\n",
      "---------------------------------\n",
      "-----------------------------------------\n",
      "| rollout/                |             |\n",
      "|    ep_len_mean          | 135         |\n",
      "|    ep_rew_mean          | 135         |\n",
      "| time/                   |             |\n",
      "|    fps                  | 59          |\n",
      "|    iterations           | 2           |\n",
      "|    time_elapsed         | 69          |\n",
      "|    total_timesteps      | 4096        |\n",
      "| train/                  |             |\n",
      "|    approx_kl            | 0.031200446 |\n",
      "|    clip_fraction        | 0.29        |\n",
      "|    clip_range           | 0.2         |\n",
      "|    entropy_loss         | -1.89       |\n",
      "|    explained_variance   | 0.0382      |\n",
      "|    learning_rate        | 0.0001      |\n",
      "|    loss                 | 935         |\n",
      "|    n_updates            | 20          |\n",
      "|    policy_gradient_loss | -0.0111     |\n",
      "|    value_loss           | 1.73e+03    |\n",
      "-----------------------------------------\n",
      "-----------------------------------------\n",
      "| rollout/                |             |\n",
      "|    ep_len_mean          | 125         |\n",
      "|    ep_rew_mean          | 113         |\n",
      "| time/                   |             |\n",
      "|    fps                  | 55          |\n",
      "|    iterations           | 3           |\n",
      "|    time_elapsed         | 110         |\n",
      "|    total_timesteps      | 6144        |\n",
      "| train/                  |             |\n",
      "|    approx_kl            | 0.021310223 |\n",
      "|    clip_fraction        | 0.237       |\n",
      "|    clip_range           | 0.2         |\n",
      "|    entropy_loss         | -1.88       |\n",
      "|    explained_variance   | 0.114       |\n",
      "|    learning_rate        | 0.0001      |\n",
      "|    loss                 | 1.02e+03    |\n",
      "|    n_updates            | 30          |\n",
      "|    policy_gradient_loss | -0.00604    |\n",
      "|    value_loss           | 1.97e+03    |\n",
      "-----------------------------------------\n",
      "-----------------------------------------\n",
      "| rollout/                |             |\n",
      "|    ep_len_mean          | 117         |\n",
      "|    ep_rew_mean          | 138         |\n",
      "| time/                   |             |\n",
      "|    fps                  | 54          |\n",
      "|    iterations           | 4           |\n",
      "|    time_elapsed         | 149         |\n",
      "|    total_timesteps      | 8192        |\n",
      "| train/                  |             |\n",
      "|    approx_kl            | 0.012804923 |\n",
      "|    clip_fraction        | 0.27        |\n",
      "|    clip_range           | 0.2         |\n",
      "|    entropy_loss         | -1.84       |\n",
      "|    explained_variance   | 0.295       |\n",
      "|    learning_rate        | 0.0001      |\n",
      "|    loss                 | 837         |\n",
      "|    n_updates            | 40          |\n",
      "|    policy_gradient_loss | -0.00664    |\n",
      "|    value_loss           | 1.68e+03    |\n",
      "-----------------------------------------\n",
      "-----------------------------------------\n",
      "| rollout/                |             |\n",
      "|    ep_len_mean          | 112         |\n",
      "|    ep_rew_mean          | 175         |\n",
      "| time/                   |             |\n",
      "|    fps                  | 53          |\n",
      "|    iterations           | 5           |\n",
      "|    time_elapsed         | 190         |\n",
      "|    total_timesteps      | 10240       |\n",
      "| train/                  |             |\n",
      "|    approx_kl            | 0.019859187 |\n",
      "|    clip_fraction        | 0.263       |\n",
      "|    clip_range           | 0.2         |\n",
      "|    entropy_loss         | -1.8        |\n",
      "|    explained_variance   | 0.366       |\n",
      "|    learning_rate        | 0.0001      |\n",
      "|    loss                 | 992         |\n",
      "|    n_updates            | 50          |\n",
      "|    policy_gradient_loss | -0.00696    |\n",
      "|    value_loss           | 2.05e+03    |\n",
      "-----------------------------------------\n"
     ]
    },
    {
     "data": {
      "text/plain": [
       "<stable_baselines3.ppo.ppo.PPO at 0x212b3b9e880>"
      ]
     },
     "execution_count": 26,
     "metadata": {},
     "output_type": "execute_result"
    }
   ],
   "source": [
    "model.learn(\n",
    "    total_timesteps=10_000, \n",
    "    callback=callback\n",
    "    )"
   ]
  },
  {
   "cell_type": "markdown",
   "metadata": {},
   "source": [
    "## 6. Test Model"
   ]
  },
  {
   "cell_type": "code",
   "execution_count": 28,
   "metadata": {},
   "outputs": [],
   "source": [
    "# Import eval policy to test agent\n",
    "from stable_baselines3.common.evaluation import evaluate_policy"
   ]
  },
  {
   "cell_type": "code",
   "execution_count": null,
   "metadata": {},
   "outputs": [],
   "source": []
  },
  {
   "cell_type": "code",
   "execution_count": 36,
   "metadata": {},
   "outputs": [],
   "source": [
    "# Reload model from disc\n",
    "model = PPO.load('./train/train_basic/best_model_200000')"
   ]
  },
  {
   "cell_type": "code",
   "execution_count": 37,
   "metadata": {},
   "outputs": [],
   "source": [
    "# Create rendered environment\n",
    "env = VizDoomGym(render=True)"
   ]
  },
  {
   "cell_type": "code",
   "execution_count": 31,
   "metadata": {},
   "outputs": [
    {
     "name": "stderr",
     "output_type": "stream",
     "text": [
      "C:\\Users\\Luttk\\anaconda3\\envs\\rl-test\\lib\\site-packages\\stable_baselines3\\common\\evaluation.py:65: UserWarning: Evaluation environment is not wrapped with a ``Monitor`` wrapper. This may result in reporting modified episode lengths and rewards, if other wrappers happen to modify these. Consider wrapping environment first with ``Monitor`` wrapper.\n",
      "  warnings.warn(\n"
     ]
    }
   ],
   "source": [
    "# Evaluate mean reward for 10 games\n",
    "mean_reward, _ = evaluate_policy(model, env, n_eval_episodes=10)"
   ]
  },
  {
   "cell_type": "code",
   "execution_count": 32,
   "metadata": {},
   "outputs": [
    {
     "data": {
      "text/plain": [
       "5.8"
      ]
     },
     "execution_count": 32,
     "metadata": {},
     "output_type": "execute_result"
    }
   ],
   "source": [
    "mean_reward"
   ]
  },
  {
   "cell_type": "code",
   "execution_count": 38,
   "metadata": {},
   "outputs": [
    {
     "name": "stdout",
     "output_type": "stream",
     "text": [
      "Total Reward for episode 0: 0.0\n",
      "Total Reward for episode 1: 2.0\n",
      "Total Reward for episode 2: 2.0\n",
      "Total Reward for episode 3: 2.0\n",
      "Total Reward for episode 4: 1.0\n"
     ]
    }
   ],
   "source": [
    "for episode in range(5):\n",
    "    obs = env.reset()\n",
    "    done = False\n",
    "    total_reward = 0.0\n",
    "    while not done:\n",
    "        action, _ = model.predict(obs)\n",
    "        obs, reward, done, info = env.step(action)\n",
    "        time.sleep(0.25)\n",
    "        total_reward += reward\n",
    "    print('Total Reward for episode {}: {}'.format(episode, total_reward))\n",
    "    time.sleep(2)"
   ]
  },
  {
   "cell_type": "code",
   "execution_count": 35,
   "metadata": {},
   "outputs": [],
   "source": [
    "env.close()"
   ]
  },
  {
   "cell_type": "code",
   "execution_count": null,
   "metadata": {},
   "outputs": [],
   "source": []
  }
 ],
 "metadata": {
  "interpreter": {
   "hash": "aff22e454c7c7c2b414196c91e128cfd95ef64f890c08d8c85042177f44e9549"
  },
  "kernelspec": {
   "display_name": "Python 3.9.7 64-bit ('rl-test': conda)",
   "language": "python",
   "name": "python3"
  },
  "language_info": {
   "codemirror_mode": {
    "name": "ipython",
    "version": 3
   },
   "file_extension": ".py",
   "mimetype": "text/x-python",
   "name": "python",
   "nbconvert_exporter": "python",
   "pygments_lexer": "ipython3",
   "version": "3.9.7"
  },
  "orig_nbformat": 4
 },
 "nbformat": 4,
 "nbformat_minor": 2
}
