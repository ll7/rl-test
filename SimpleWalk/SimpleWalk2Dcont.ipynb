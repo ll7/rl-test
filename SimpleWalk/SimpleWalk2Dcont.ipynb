{
 "cells": [
  {
   "cell_type": "markdown",
   "metadata": {},
   "source": [
    "# Simple Walk 2D continuous\n",
    "\n",
    "base environment on https://github.com/nicknochnack/ReinforcementLearningCourse/blob/main/Project%203%20-%20Custom%20Environment.ipynb"
   ]
  },
  {
   "cell_type": "markdown",
   "metadata": {},
   "source": [
    "continuous state space environment\n",
    "\n",
    "action space: BOX in two directions from -1 to 1\n",
    "\n",
    "state space: box with shape(2,1)?\n",
    "\n",
    "goal reached when distance closer than 1\n",
    "\n",
    "\n",
    "\n"
   ]
  },
  {
   "cell_type": "markdown",
   "metadata": {},
   "source": [
    "## 1. Import Dependencies"
   ]
  },
  {
   "cell_type": "code",
   "execution_count": 81,
   "metadata": {},
   "outputs": [],
   "source": [
    "import gym \n",
    "from gym import Env\n",
    "from gym.spaces import Discrete, Box, Dict, Tuple, MultiBinary, MultiDiscrete \n",
    "import numpy as np\n",
    "import random\n",
    "import os\n",
    "from stable_baselines3 import PPO\n",
    "from stable_baselines3.common.vec_env import VecFrameStack\n",
    "from stable_baselines3.common.evaluation import evaluate_policy\n",
    "\n",
    "import matplotlib.pyplot as plt\n",
    "\n",
    "# logging\n",
    "import logging\n",
    "logger = logging.getLogger()\n",
    "logger.setLevel(logging.DEBUG)\n"
   ]
  },
  {
   "cell_type": "code",
   "execution_count": 82,
   "metadata": {},
   "outputs": [
    {
     "name": "stdout",
     "output_type": "stream",
     "text": [
      "Box([[0. 0.]\n",
      " [0. 0.]], [[10. 10.]\n",
      " [10. 10.]], (2, 2), float32)\n",
      "<class 'gym.spaces.box.Box'>\n",
      "[[4.9309607  0.88071537]\n",
      " [3.1604478  0.637375  ]]\n",
      "<class 'numpy.ndarray'>\n",
      "(2, 2)\n"
     ]
    }
   ],
   "source": [
    "test_box = Box(low=0.0, high=10.0, shape=(2,2))\n",
    "print(test_box)\n",
    "print(type(test_box))\n",
    "print(test_box.sample())\n",
    "print(type(test_box.sample()))\n",
    "print(test_box.sample().shape)"
   ]
  },
  {
   "cell_type": "code",
   "execution_count": 83,
   "metadata": {},
   "outputs": [
    {
     "name": "stdout",
     "output_type": "stream",
     "text": [
      "[[4.3416243 5.9690957]\n",
      " [5.3159432 3.3880877]]\n",
      "<class 'numpy.ndarray'>\n",
      "[8.13282961 9.29701575]\n",
      "<class 'numpy.ndarray'>\n"
     ]
    }
   ],
   "source": [
    "state = np.ndarray(shape=(2,2), dtype=np.float32)\n",
    "print(state)\n",
    "print(type(state))\n",
    "state = np.random.uniform(0.0, 10.0, 2)\n",
    "print(state)\n",
    "print(type(state))"
   ]
  },
  {
   "cell_type": "code",
   "execution_count": 84,
   "metadata": {},
   "outputs": [
    {
     "name": "stdout",
     "output_type": "stream",
     "text": [
      "[[1.12106641 6.50546561]\n",
      " [2.04869718 0.6325424 ]]\n",
      "[1.12106641 6.50546561]\n",
      "5.945731733476572\n"
     ]
    }
   ],
   "source": [
    "state = np.random.uniform(0.0, 10.0, (2,2))\n",
    "print(state)\n",
    "print(state[0])\n",
    "distance = np.linalg.norm(state[0] - state[1])\n",
    "print(distance)"
   ]
  },
  {
   "cell_type": "code",
   "execution_count": 85,
   "metadata": {},
   "outputs": [
    {
     "name": "stdout",
     "output_type": "stream",
     "text": [
      "[-1.09710457  4.54145935]\n",
      "True\n"
     ]
    }
   ],
   "source": [
    "def out_of_bounds(state):\n",
    "    return not (0.0 <= state[0] <= 10.0 and 0.0 <= state[1] <= 10.0)\n",
    "\n",
    "position = np.random.uniform(-10.0, 10.0, (2,))\n",
    "print(position)\n",
    "print(out_of_bounds(position))\n"
   ]
  },
  {
   "cell_type": "code",
   "execution_count": 86,
   "metadata": {},
   "outputs": [
    {
     "name": "stdout",
     "output_type": "stream",
     "text": [
      "[]\n",
      "[[3.252626211873727, 2.6723754339261507]]\n",
      "[[3.252626211873727, 2.6723754339261507], [6.82255924418019, 9.750374988964612]]\n"
     ]
    }
   ],
   "source": [
    "# safe array test\n",
    "random_numpy1 = np.random.uniform(0.0, 10.0, (2,))\n",
    "random_numpy2 = np.random.uniform(0.0, 10.0, (2,))\n",
    "state_array = []\n",
    "print(state_array)\n",
    "state_array.append(random_numpy1.tolist())\n",
    "print(state_array)\n",
    "state_array.append(random_numpy2.tolist())\n",
    "print(state_array)\n"
   ]
  },
  {
   "cell_type": "code",
   "execution_count": 87,
   "metadata": {},
   "outputs": [
    {
     "name": "stdout",
     "output_type": "stream",
     "text": [
      "[ 0.43230256 -0.03417097]\n",
      "[[2.7611208 8.555006 ]\n",
      " [8.749513  9.952988 ]]\n"
     ]
    }
   ],
   "source": [
    "class SimpleWalk2Dcont(Env):\n",
    "    \"\"\"simple walk environment in 2D with a continuous action and state space\"\"\"\n",
    "    def __init__(self):\n",
    "        self.x_min = 0.0\n",
    "        self.x_max = 10.0\n",
    "        self.max_steps = 15\n",
    "        self.action_space = Box(low=-1.0, high=1.0, shape=(2, ))\n",
    "        self.observation_space = Box(low=self.x_min, high=self.x_max, shape=(2, 2)) # 0 position, 1 goal\n",
    "        self.state = np.ndarray(shape=(2,2), dtype=np.float32)\n",
    "        # safe past states in an array, safe x and y positions\n",
    "        \n",
    "        \n",
    "        \n",
    "    \n",
    "    def step(self, action):\n",
    "        # update position\n",
    "        self.state[0] += action\n",
    "        self.__append_state()\n",
    "        self.steps_taken += 1\n",
    "        distance_to_goal = np.linalg.norm(state[0] - state[1])\n",
    "    \n",
    "        if self.steps_taken >= self.max_steps:\n",
    "            # maximum number of steps reached\n",
    "            reward = -10.0\n",
    "            done = True\n",
    "        elif self.__out_of_bounds():\n",
    "            # went out of bounds\n",
    "            reward = -10.0\n",
    "            done = True\n",
    "        elif distance_to_goal < 1:\n",
    "            # reached goal\n",
    "            reward = 10.0\n",
    "            logging.debug(\"reached goal\")\n",
    "            done = True\n",
    "        elif self.distance_to_goal > distance_to_goal:\n",
    "            # got closer\n",
    "            reward = 0.1\n",
    "            done = False\n",
    "        else:\n",
    "            # stepped away\n",
    "            reward = -0.1\n",
    "            done = False\n",
    "        \n",
    "        # update distance to goal\n",
    "        self.distance_to_goal = distance_to_goal\n",
    "        \n",
    "        return self.state, reward, done, {}\n",
    "    \n",
    "    def reset(self):\n",
    "        self.state = np.random.uniform(self.x_min, self.x_max, (2,2))\n",
    "        self.state_array = [[], []] # x, y\n",
    "        self.__append_state()\n",
    "        self.steps_taken = 0\n",
    "        self.distance_to_goal = self.x_max - self.x_min\n",
    "        return self.state\n",
    "    \n",
    "    def render(self):\n",
    "        print(\"visited states: \", self.state_array)\n",
    "        goal = self.state[1]\n",
    "        print(goal)\n",
    "        print(\"goal: \" + np.array2string(self.state[1]))\n",
    "        \n",
    "        \n",
    "        # plot\n",
    "        fig, ax = plt.subplots()\n",
    "\n",
    "        ax.plot(self.state_array[0], self.state_array[1], linewidth=2.0)\n",
    "        ax.plot(self.state[1][0], self.state[1][1], 'ro')\n",
    "        ax.set(\n",
    "            xlim=(self.x_min, self.x_max), #xticks=np.arange(1, 8),\n",
    "            ylim=(self.x_min, self.x_max), #yticks=np.arange(1, 8))\n",
    "            )\n",
    "        circle1 = plt.Circle((self.state[1][0], self.state[1][1]), 1, color='r', fill=False)\n",
    "        ax.add_patch(circle1)\n",
    "\n",
    "        plt.show()\n",
    "        \n",
    "    \n",
    "    def __out_of_bounds(self):\n",
    "        \"\"\"check if the current state is out of bounds\"\"\"\n",
    "        position = self.state[0]\n",
    "        for element in position:\n",
    "            if not (self.x_min <= element <= self.x_max):\n",
    "                logging.debug(\"out of bounds\")\n",
    "                return True\n",
    "            else:\n",
    "                return False\n",
    "            \n",
    "    def __append_state(self):\n",
    "        self.state_array[0].append(self.state[0][0])\n",
    "        self.state_array[1].append(self.state[0][1])\n",
    "    \n",
    "env = SimpleWalk2Dcont()\n",
    "\n",
    "print(env.action_space.sample())\n",
    "print(env.observation_space.sample())"
   ]
  },
  {
   "cell_type": "code",
   "execution_count": 88,
   "metadata": {},
   "outputs": [
    {
     "name": "stdout",
     "output_type": "stream",
     "text": [
      "Test:  [10. 10.]\n"
     ]
    }
   ],
   "source": [
    "print('Test: ', env.state[1])"
   ]
  },
  {
   "cell_type": "markdown",
   "metadata": {},
   "source": [
    "## Check Environment"
   ]
  },
  {
   "cell_type": "code",
   "execution_count": 89,
   "metadata": {},
   "outputs": [
    {
     "name": "stderr",
     "output_type": "stream",
     "text": [
      "DEBUG:root:out of bounds\n",
      "INFO:root:Episode:1 Score:-10.1\n"
     ]
    },
    {
     "name": "stdout",
     "output_type": "stream",
     "text": [
      "visited states:  [[6.8564150086552145, 6.398850833526278, 6.372557404911542, 6.489458951628232, 7.451724204695249, 7.817089799320722, 8.163064661896254, 7.715561303770567, 8.34181723324063, 8.566206607496763, 9.009627673304106, 9.096023369109655, 8.83648784784081, 9.478414315259482, 10.182640987908865], [3.4120380715306933, 3.136914624350899, 2.396489752906197, 2.0298402444299395, 3.016708506720894, 3.237223057525986, 2.238837330120438, 1.2452134177859957, 0.7728531048473055, 1.6261713192638094, 2.5405935928996737, 3.303152470367783, 2.893372891920441, 3.0526991323407824, 2.2035636142667467]]\n",
      "[6.689309   8.13862219]\n",
      "goal: [6.689309   8.13862219]\n"
     ]
    },
    {
     "data": {
      "image/png": "[encoded data removed]",
      "text/plain": [
       "<Figure size 432x288 with 1 Axes>"
      ]
     },
     "metadata": {
      "needs_background": "light"
     },
     "output_type": "display_data"
    }
   ],
   "source": [
    "env = SimpleWalk2Dcont()\n",
    "episodes = 1\n",
    "for episode in range(1, episodes+1):\n",
    "    state = env.reset()\n",
    "    done = False\n",
    "    score = 0 \n",
    "    \n",
    "    while not done:\n",
    "        # env.render()\n",
    "        action = env.action_space.sample()\n",
    "        n_state, reward, done, info = env.step(action)\n",
    "        score+=reward\n",
    "    logging.info('Episode:{} Score:{}'.format(episode, score))\n",
    "    env.render()\n",
    "env.close()"
   ]
  },
  {
   "cell_type": "code",
   "execution_count": 90,
   "metadata": {},
   "outputs": [],
   "source": [
    "from stable_baselines3.common import env_checker\n",
    "env_checker.check_env(env)"
   ]
  },
  {
   "cell_type": "markdown",
   "metadata": {},
   "source": [
    "## Callback"
   ]
  },
  {
   "cell_type": "code",
   "execution_count": 91,
   "metadata": {},
   "outputs": [],
   "source": [
    "# create callback fun\n",
    "\n",
    "import os\n",
    "from stable_baselines3.common.callbacks import BaseCallback\n",
    "\n",
    "class TrainAndLoggingCallback(BaseCallback):\n",
    "    \n",
    "    def __init__(self, check_freq, save_path, verbose=1):\n",
    "        super(TrainAndLoggingCallback, self).__init__(verbose)\n",
    "        self.check_freq = check_freq\n",
    "        self.save_path = save_path\n",
    "        \n",
    "    def _init_callback(self):\n",
    "        if self.save_path is not None:\n",
    "            os.makedirs(self.save_path, exist_ok = True)\n",
    "            \n",
    "    def _on_step(self):\n",
    "        if self.n_calls % self.check_freq == 0:\n",
    "            model_path = os.path.join(self.save_path, 'best_model_{}'.format(self.n_calls))\n",
    "            self.model.save(model_path)\n",
    "            \n",
    "        return True\n",
    "\n",
    "env_name = 'Walk2Dcont'\n",
    "\n",
    "CHECKPOINT_DIR = './train/train_' + env_name\n",
    "LOG_DIR = './train/log_' + env_name\n",
    "\n",
    "callback = TrainAndLoggingCallback(check_freq=10_000, save_path=CHECKPOINT_DIR)"
   ]
  },
  {
   "cell_type": "markdown",
   "metadata": {},
   "source": [
    "## Train"
   ]
  },
  {
   "cell_type": "code",
   "execution_count": 92,
   "metadata": {},
   "outputs": [],
   "source": [
    "log_path = os.path.join('Training', 'Logs')"
   ]
  },
  {
   "cell_type": "code",
   "execution_count": 93,
   "metadata": {},
   "outputs": [
    {
     "name": "stdout",
     "output_type": "stream",
     "text": [
      "Using cuda device\n",
      "Wrapping the env with a `Monitor` wrapper\n",
      "Wrapping the env in a DummyVecEnv.\n"
     ]
    }
   ],
   "source": [
    "model = PPO(\"MlpPolicy\", env, verbose=1, tensorboard_log=log_path)"
   ]
  },
  {
   "cell_type": "code",
   "execution_count": 94,
   "metadata": {},
   "outputs": [
    {
     "name": "stdout",
     "output_type": "stream",
     "text": [
      "Logging to Training\\Logs\\PPO_13\n"
     ]
    },
    {
     "name": "stderr",
     "output_type": "stream",
     "text": [
      "DEBUG:root:out of bounds\n",
      "DEBUG:root:out of bounds\n",
      "DEBUG:root:out of bounds\n",
      "DEBUG:root:out of bounds\n",
      "DEBUG:root:out of bounds\n",
      "DEBUG:root:out of bounds\n",
      "DEBUG:root:out of bounds\n",
      "DEBUG:root:out of bounds\n",
      "DEBUG:root:out of bounds\n",
      "DEBUG:root:out of bounds\n",
      "DEBUG:root:out of bounds\n",
      "DEBUG:root:out of bounds\n",
      "DEBUG:root:out of bounds\n",
      "DEBUG:root:out of bounds\n",
      "DEBUG:root:out of bounds\n",
      "DEBUG:root:out of bounds\n",
      "DEBUG:root:out of bounds\n",
      "DEBUG:root:out of bounds\n",
      "DEBUG:root:out of bounds\n",
      "DEBUG:root:out of bounds\n",
      "DEBUG:root:out of bounds\n",
      "DEBUG:root:out of bounds\n",
      "DEBUG:root:out of bounds\n",
      "DEBUG:root:out of bounds\n",
      "DEBUG:root:out of bounds\n",
      "DEBUG:root:out of bounds\n",
      "DEBUG:root:out of bounds\n",
      "DEBUG:root:out of bounds\n",
      "DEBUG:root:out of bounds\n",
      "DEBUG:root:out of bounds\n",
      "DEBUG:root:out of bounds\n",
      "DEBUG:root:out of bounds\n",
      "DEBUG:root:out of bounds\n",
      "DEBUG:root:out of bounds\n",
      "DEBUG:root:out of bounds\n",
      "DEBUG:root:out of bounds\n",
      "DEBUG:root:out of bounds\n",
      "DEBUG:root:out of bounds\n",
      "DEBUG:root:out of bounds\n",
      "DEBUG:root:out of bounds\n",
      "DEBUG:root:out of bounds\n",
      "DEBUG:root:out of bounds\n",
      "DEBUG:root:out of bounds\n",
      "DEBUG:root:out of bounds\n",
      "DEBUG:root:out of bounds\n",
      "DEBUG:root:out of bounds\n",
      "DEBUG:root:out of bounds\n",
      "DEBUG:root:out of bounds\n",
      "DEBUG:root:out of bounds\n",
      "DEBUG:root:out of bounds\n",
      "DEBUG:root:out of bounds\n",
      "DEBUG:root:out of bounds\n",
      "DEBUG:root:out of bounds\n",
      "DEBUG:root:out of bounds\n",
      "DEBUG:root:out of bounds\n",
      "DEBUG:root:out of bounds\n",
      "DEBUG:root:out of bounds\n",
      "DEBUG:root:out of bounds\n",
      "DEBUG:root:out of bounds\n",
      "DEBUG:root:out of bounds\n",
      "DEBUG:root:out of bounds\n",
      "DEBUG:root:out of bounds\n",
      "DEBUG:root:out of bounds\n",
      "DEBUG:root:out of bounds\n",
      "DEBUG:root:out of bounds\n",
      "DEBUG:root:out of bounds\n",
      "DEBUG:root:out of bounds\n",
      "DEBUG:root:out of bounds\n",
      "DEBUG:root:out of bounds\n",
      "DEBUG:root:out of bounds\n"
     ]
    },
    {
     "name": "stdout",
     "output_type": "stream",
     "text": [
      "---------------------------------\n",
      "| rollout/           |          |\n",
      "|    ep_len_mean     | 11.5     |\n",
      "|    ep_rew_mean     | -10.9    |\n",
      "| time/              |          |\n",
      "|    fps             | 280      |\n",
      "|    iterations      | 1        |\n",
      "|    time_elapsed    | 7        |\n",
      "|    total_timesteps | 2048     |\n",
      "---------------------------------\n"
     ]
    },
    {
     "name": "stderr",
     "output_type": "stream",
     "text": [
      "DEBUG:root:out of bounds\n",
      "DEBUG:root:out of bounds\n",
      "DEBUG:root:out of bounds\n",
      "DEBUG:root:out of bounds\n",
      "DEBUG:root:out of bounds\n",
      "DEBUG:root:out of bounds\n",
      "DEBUG:root:out of bounds\n",
      "DEBUG:root:out of bounds\n",
      "DEBUG:root:out of bounds\n",
      "DEBUG:root:out of bounds\n",
      "DEBUG:root:out of bounds\n",
      "DEBUG:root:out of bounds\n",
      "DEBUG:root:out of bounds\n",
      "DEBUG:root:out of bounds\n",
      "DEBUG:root:out of bounds\n",
      "DEBUG:root:out of bounds\n",
      "DEBUG:root:out of bounds\n",
      "DEBUG:root:out of bounds\n",
      "DEBUG:root:out of bounds\n",
      "DEBUG:root:out of bounds\n",
      "DEBUG:root:out of bounds\n",
      "DEBUG:root:out of bounds\n",
      "DEBUG:root:out of bounds\n",
      "DEBUG:root:out of bounds\n",
      "DEBUG:root:out of bounds\n",
      "DEBUG:root:out of bounds\n",
      "DEBUG:root:out of bounds\n",
      "DEBUG:root:out of bounds\n",
      "DEBUG:root:out of bounds\n",
      "DEBUG:root:out of bounds\n",
      "DEBUG:root:out of bounds\n",
      "DEBUG:root:out of bounds\n",
      "DEBUG:root:out of bounds\n",
      "DEBUG:root:out of bounds\n",
      "DEBUG:root:out of bounds\n",
      "DEBUG:root:out of bounds\n",
      "DEBUG:root:out of bounds\n",
      "DEBUG:root:out of bounds\n",
      "DEBUG:root:out of bounds\n",
      "DEBUG:root:out of bounds\n",
      "DEBUG:root:out of bounds\n"
     ]
    },
    {
     "name": "stdout",
     "output_type": "stream",
     "text": [
      "-----------------------------------------\n",
      "| rollout/                |             |\n",
      "|    ep_len_mean          | 12.2        |\n",
      "|    ep_rew_mean          | -10.9       |\n",
      "| time/                   |             |\n",
      "|    fps                  | 317         |\n",
      "|    iterations           | 2           |\n",
      "|    time_elapsed         | 12          |\n",
      "|    total_timesteps      | 4096        |\n",
      "| train/                  |             |\n",
      "|    approx_kl            | 0.010509497 |\n",
      "|    clip_fraction        | 0.11        |\n",
      "|    clip_range           | 0.2         |\n",
      "|    entropy_loss         | -2.82       |\n",
      "|    explained_variance   | 0.0083      |\n",
      "|    learning_rate        | 0.0003      |\n",
      "|    loss                 | 1.2         |\n",
      "|    n_updates            | 10          |\n",
      "|    policy_gradient_loss | -0.0171     |\n",
      "|    std                  | 0.99        |\n",
      "|    value_loss           | 11.1        |\n",
      "-----------------------------------------\n"
     ]
    },
    {
     "name": "stderr",
     "output_type": "stream",
     "text": [
      "DEBUG:root:out of bounds\n",
      "DEBUG:root:out of bounds\n",
      "DEBUG:root:out of bounds\n",
      "DEBUG:root:out of bounds\n",
      "DEBUG:root:out of bounds\n",
      "DEBUG:root:out of bounds\n",
      "DEBUG:root:out of bounds\n",
      "DEBUG:root:out of bounds\n",
      "DEBUG:root:out of bounds\n",
      "DEBUG:root:out of bounds\n",
      "DEBUG:root:out of bounds\n",
      "DEBUG:root:out of bounds\n",
      "DEBUG:root:out of bounds\n",
      "DEBUG:root:out of bounds\n",
      "DEBUG:root:out of bounds\n",
      "DEBUG:root:out of bounds\n",
      "DEBUG:root:out of bounds\n",
      "DEBUG:root:out of bounds\n",
      "DEBUG:root:out of bounds\n",
      "DEBUG:root:out of bounds\n",
      "DEBUG:root:out of bounds\n",
      "DEBUG:root:out of bounds\n",
      "DEBUG:root:out of bounds\n"
     ]
    },
    {
     "name": "stdout",
     "output_type": "stream",
     "text": [
      "-----------------------------------------\n",
      "| rollout/                |             |\n",
      "|    ep_len_mean          | 13.6        |\n",
      "|    ep_rew_mean          | -11.1       |\n",
      "| time/                   |             |\n",
      "|    fps                  | 329         |\n",
      "|    iterations           | 3           |\n",
      "|    time_elapsed         | 18          |\n",
      "|    total_timesteps      | 6144        |\n",
      "| train/                  |             |\n",
      "|    approx_kl            | 0.010188578 |\n",
      "|    clip_fraction        | 0.112       |\n",
      "|    clip_range           | 0.2         |\n",
      "|    entropy_loss         | -2.8        |\n",
      "|    explained_variance   | -0.0548     |\n",
      "|    learning_rate        | 0.0003      |\n",
      "|    loss                 | 0.07        |\n",
      "|    n_updates            | 20          |\n",
      "|    policy_gradient_loss | -0.0138     |\n",
      "|    std                  | 0.975       |\n",
      "|    value_loss           | 0.441       |\n",
      "-----------------------------------------\n"
     ]
    },
    {
     "name": "stderr",
     "output_type": "stream",
     "text": [
      "DEBUG:root:out of bounds\n",
      "DEBUG:root:out of bounds\n",
      "DEBUG:root:out of bounds\n",
      "DEBUG:root:out of bounds\n",
      "DEBUG:root:out of bounds\n",
      "DEBUG:root:out of bounds\n",
      "DEBUG:root:out of bounds\n",
      "DEBUG:root:out of bounds\n",
      "DEBUG:root:out of bounds\n",
      "DEBUG:root:out of bounds\n",
      "DEBUG:root:out of bounds\n",
      "DEBUG:root:out of bounds\n",
      "DEBUG:root:out of bounds\n",
      "DEBUG:root:out of bounds\n",
      "DEBUG:root:out of bounds\n",
      "DEBUG:root:out of bounds\n",
      "DEBUG:root:out of bounds\n"
     ]
    },
    {
     "name": "stdout",
     "output_type": "stream",
     "text": [
      "-----------------------------------------\n",
      "| rollout/                |             |\n",
      "|    ep_len_mean          | 14.1        |\n",
      "|    ep_rew_mean          | -11.1       |\n",
      "| time/                   |             |\n",
      "|    fps                  | 338         |\n",
      "|    iterations           | 4           |\n",
      "|    time_elapsed         | 24          |\n",
      "|    total_timesteps      | 8192        |\n",
      "| train/                  |             |\n",
      "|    approx_kl            | 0.007888971 |\n",
      "|    clip_fraction        | 0.0877      |\n",
      "|    clip_range           | 0.2         |\n",
      "|    entropy_loss         | -2.77       |\n",
      "|    explained_variance   | -0.552      |\n",
      "|    learning_rate        | 0.0003      |\n",
      "|    loss                 | 0.0145      |\n",
      "|    n_updates            | 30          |\n",
      "|    policy_gradient_loss | -0.00917    |\n",
      "|    std                  | 0.963       |\n",
      "|    value_loss           | 0.0316      |\n",
      "-----------------------------------------\n"
     ]
    },
    {
     "name": "stderr",
     "output_type": "stream",
     "text": [
      "DEBUG:root:out of bounds\n",
      "DEBUG:root:out of bounds\n",
      "DEBUG:root:out of bounds\n",
      "DEBUG:root:out of bounds\n",
      "DEBUG:root:out of bounds\n",
      "DEBUG:root:out of bounds\n",
      "DEBUG:root:out of bounds\n",
      "DEBUG:root:out of bounds\n",
      "DEBUG:root:out of bounds\n",
      "DEBUG:root:out of bounds\n",
      "DEBUG:root:out of bounds\n",
      "DEBUG:root:out of bounds\n",
      "DEBUG:root:out of bounds\n"
     ]
    },
    {
     "name": "stdout",
     "output_type": "stream",
     "text": [
      "-----------------------------------------\n",
      "| rollout/                |             |\n",
      "|    ep_len_mean          | 14.5        |\n",
      "|    ep_rew_mean          | -11.2       |\n",
      "| time/                   |             |\n",
      "|    fps                  | 340         |\n",
      "|    iterations           | 5           |\n",
      "|    time_elapsed         | 30          |\n",
      "|    total_timesteps      | 10240       |\n",
      "| train/                  |             |\n",
      "|    approx_kl            | 0.007920016 |\n",
      "|    clip_fraction        | 0.0627      |\n",
      "|    clip_range           | 0.2         |\n",
      "|    entropy_loss         | -2.74       |\n",
      "|    explained_variance   | -2.3        |\n",
      "|    learning_rate        | 0.0003      |\n",
      "|    loss                 | -0.0113     |\n",
      "|    n_updates            | 40          |\n",
      "|    policy_gradient_loss | -0.00745    |\n",
      "|    std                  | 0.942       |\n",
      "|    value_loss           | 0.0115      |\n",
      "-----------------------------------------\n"
     ]
    },
    {
     "name": "stderr",
     "output_type": "stream",
     "text": [
      "DEBUG:root:out of bounds\n",
      "DEBUG:root:out of bounds\n",
      "DEBUG:root:out of bounds\n",
      "DEBUG:root:out of bounds\n",
      "DEBUG:root:out of bounds\n",
      "DEBUG:root:out of bounds\n",
      "DEBUG:root:out of bounds\n",
      "DEBUG:root:out of bounds\n",
      "DEBUG:root:out of bounds\n",
      "DEBUG:root:out of bounds\n",
      "DEBUG:root:out of bounds\n",
      "DEBUG:root:out of bounds\n",
      "DEBUG:root:out of bounds\n",
      "DEBUG:root:out of bounds\n",
      "DEBUG:root:out of bounds\n",
      "DEBUG:root:out of bounds\n",
      "DEBUG:root:out of bounds\n",
      "DEBUG:root:out of bounds\n",
      "DEBUG:root:out of bounds\n"
     ]
    },
    {
     "name": "stdout",
     "output_type": "stream",
     "text": [
      "------------------------------------------\n",
      "| rollout/                |              |\n",
      "|    ep_len_mean          | 13.5         |\n",
      "|    ep_rew_mean          | -11.1        |\n",
      "| time/                   |              |\n",
      "|    fps                  | 342          |\n",
      "|    iterations           | 6            |\n",
      "|    time_elapsed         | 35           |\n",
      "|    total_timesteps      | 12288        |\n",
      "| train/                  |              |\n",
      "|    approx_kl            | 0.0069527477 |\n",
      "|    clip_fraction        | 0.081        |\n",
      "|    clip_range           | 0.2          |\n",
      "|    entropy_loss         | -2.7         |\n",
      "|    explained_variance   | -0.616       |\n",
      "|    learning_rate        | 0.0003       |\n",
      "|    loss                 | -0.0352      |\n",
      "|    n_updates            | 50           |\n",
      "|    policy_gradient_loss | -0.00596     |\n",
      "|    std                  | 0.928        |\n",
      "|    value_loss           | 0.00449      |\n",
      "------------------------------------------\n"
     ]
    },
    {
     "name": "stderr",
     "output_type": "stream",
     "text": [
      "DEBUG:root:out of bounds\n",
      "DEBUG:root:out of bounds\n",
      "DEBUG:root:out of bounds\n",
      "DEBUG:root:out of bounds\n",
      "DEBUG:root:out of bounds\n",
      "DEBUG:root:out of bounds\n",
      "DEBUG:root:out of bounds\n",
      "DEBUG:root:out of bounds\n",
      "DEBUG:root:out of bounds\n",
      "DEBUG:root:out of bounds\n",
      "DEBUG:root:out of bounds\n",
      "DEBUG:root:out of bounds\n",
      "DEBUG:root:out of bounds\n"
     ]
    },
    {
     "name": "stdout",
     "output_type": "stream",
     "text": [
      "-----------------------------------------\n",
      "| rollout/                |             |\n",
      "|    ep_len_mean          | 14.1        |\n",
      "|    ep_rew_mean          | -11.1       |\n",
      "| time/                   |             |\n",
      "|    fps                  | 346         |\n",
      "|    iterations           | 7           |\n",
      "|    time_elapsed         | 41          |\n",
      "|    total_timesteps      | 14336       |\n",
      "| train/                  |             |\n",
      "|    approx_kl            | 0.007154964 |\n",
      "|    clip_fraction        | 0.0528      |\n",
      "|    clip_range           | 0.2         |\n",
      "|    entropy_loss         | -2.66       |\n",
      "|    explained_variance   | -0.638      |\n",
      "|    learning_rate        | 0.0003      |\n",
      "|    loss                 | 0.0237      |\n",
      "|    n_updates            | 60          |\n",
      "|    policy_gradient_loss | -0.00618    |\n",
      "|    std                  | 0.906       |\n",
      "|    value_loss           | 0.00419     |\n",
      "-----------------------------------------\n"
     ]
    },
    {
     "name": "stderr",
     "output_type": "stream",
     "text": [
      "DEBUG:root:out of bounds\n",
      "DEBUG:root:out of bounds\n",
      "DEBUG:root:out of bounds\n",
      "DEBUG:root:out of bounds\n",
      "DEBUG:root:out of bounds\n",
      "DEBUG:root:out of bounds\n",
      "DEBUG:root:out of bounds\n",
      "DEBUG:root:out of bounds\n",
      "DEBUG:root:out of bounds\n",
      "DEBUG:root:out of bounds\n",
      "DEBUG:root:out of bounds\n",
      "DEBUG:root:out of bounds\n",
      "DEBUG:root:out of bounds\n",
      "DEBUG:root:out of bounds\n",
      "DEBUG:root:out of bounds\n"
     ]
    },
    {
     "name": "stdout",
     "output_type": "stream",
     "text": [
      "-----------------------------------------\n",
      "| rollout/                |             |\n",
      "|    ep_len_mean          | 14.2        |\n",
      "|    ep_rew_mean          | -11.1       |\n",
      "| time/                   |             |\n",
      "|    fps                  | 350         |\n",
      "|    iterations           | 8           |\n",
      "|    time_elapsed         | 46          |\n",
      "|    total_timesteps      | 16384       |\n",
      "| train/                  |             |\n",
      "|    approx_kl            | 0.007213124 |\n",
      "|    clip_fraction        | 0.0832      |\n",
      "|    clip_range           | 0.2         |\n",
      "|    entropy_loss         | -2.63       |\n",
      "|    explained_variance   | -0.0198     |\n",
      "|    learning_rate        | 0.0003      |\n",
      "|    loss                 | 0.0123      |\n",
      "|    n_updates            | 70          |\n",
      "|    policy_gradient_loss | -0.00704    |\n",
      "|    std                  | 0.895       |\n",
      "|    value_loss           | 0.00267     |\n",
      "-----------------------------------------\n"
     ]
    },
    {
     "name": "stderr",
     "output_type": "stream",
     "text": [
      "DEBUG:root:out of bounds\n",
      "DEBUG:root:out of bounds\n",
      "DEBUG:root:out of bounds\n",
      "DEBUG:root:out of bounds\n",
      "DEBUG:root:out of bounds\n",
      "DEBUG:root:out of bounds\n",
      "DEBUG:root:out of bounds\n"
     ]
    },
    {
     "name": "stdout",
     "output_type": "stream",
     "text": [
      "------------------------------------------\n",
      "| rollout/                |              |\n",
      "|    ep_len_mean          | 14.5         |\n",
      "|    ep_rew_mean          | -11.2        |\n",
      "| time/                   |              |\n",
      "|    fps                  | 352          |\n",
      "|    iterations           | 9            |\n",
      "|    time_elapsed         | 52           |\n",
      "|    total_timesteps      | 18432        |\n",
      "| train/                  |              |\n",
      "|    approx_kl            | 0.0067967884 |\n",
      "|    clip_fraction        | 0.055        |\n",
      "|    clip_range           | 0.2          |\n",
      "|    entropy_loss         | -2.61        |\n",
      "|    explained_variance   | -0.0113      |\n",
      "|    learning_rate        | 0.0003       |\n",
      "|    loss                 | -0.0115      |\n",
      "|    n_updates            | 80           |\n",
      "|    policy_gradient_loss | -0.00527     |\n",
      "|    std                  | 0.885        |\n",
      "|    value_loss           | 0.00268      |\n",
      "------------------------------------------\n"
     ]
    },
    {
     "name": "stderr",
     "output_type": "stream",
     "text": [
      "DEBUG:root:out of bounds\n",
      "DEBUG:root:out of bounds\n",
      "DEBUG:root:out of bounds\n",
      "DEBUG:root:out of bounds\n"
     ]
    },
    {
     "name": "stdout",
     "output_type": "stream",
     "text": [
      "-----------------------------------------\n",
      "| rollout/                |             |\n",
      "|    ep_len_mean          | 14.6        |\n",
      "|    ep_rew_mean          | -11.2       |\n",
      "| time/                   |             |\n",
      "|    fps                  | 355         |\n",
      "|    iterations           | 10          |\n",
      "|    time_elapsed         | 57          |\n",
      "|    total_timesteps      | 20480       |\n",
      "| train/                  |             |\n",
      "|    approx_kl            | 0.007788897 |\n",
      "|    clip_fraction        | 0.0527      |\n",
      "|    clip_range           | 0.2         |\n",
      "|    entropy_loss         | -2.58       |\n",
      "|    explained_variance   | -0.316      |\n",
      "|    learning_rate        | 0.0003      |\n",
      "|    loss                 | -0.00925    |\n",
      "|    n_updates            | 90          |\n",
      "|    policy_gradient_loss | -0.00836    |\n",
      "|    std                  | 0.868       |\n",
      "|    value_loss           | 0.00326     |\n",
      "-----------------------------------------\n"
     ]
    },
    {
     "name": "stderr",
     "output_type": "stream",
     "text": [
      "DEBUG:root:out of bounds\n",
      "DEBUG:root:out of bounds\n",
      "DEBUG:root:out of bounds\n",
      "DEBUG:root:out of bounds\n"
     ]
    },
    {
     "name": "stdout",
     "output_type": "stream",
     "text": [
      "-----------------------------------------\n",
      "| rollout/                |             |\n",
      "|    ep_len_mean          | 14.9        |\n",
      "|    ep_rew_mean          | -11.2       |\n",
      "| time/                   |             |\n",
      "|    fps                  | 355         |\n",
      "|    iterations           | 11          |\n",
      "|    time_elapsed         | 63          |\n",
      "|    total_timesteps      | 22528       |\n",
      "| train/                  |             |\n",
      "|    approx_kl            | 0.006003343 |\n",
      "|    clip_fraction        | 0.0523      |\n",
      "|    clip_range           | 0.2         |\n",
      "|    entropy_loss         | -2.54       |\n",
      "|    explained_variance   | -0.125      |\n",
      "|    learning_rate        | 0.0003      |\n",
      "|    loss                 | 0.00397     |\n",
      "|    n_updates            | 100         |\n",
      "|    policy_gradient_loss | -0.00621    |\n",
      "|    std                  | 0.856       |\n",
      "|    value_loss           | 0.00291     |\n",
      "-----------------------------------------\n"
     ]
    },
    {
     "name": "stderr",
     "output_type": "stream",
     "text": [
      "DEBUG:root:out of bounds\n",
      "DEBUG:root:out of bounds\n",
      "DEBUG:root:out of bounds\n",
      "DEBUG:root:out of bounds\n",
      "DEBUG:root:out of bounds\n"
     ]
    },
    {
     "name": "stdout",
     "output_type": "stream",
     "text": [
      "-----------------------------------------\n",
      "| rollout/                |             |\n",
      "|    ep_len_mean          | 14.6        |\n",
      "|    ep_rew_mean          | -11.2       |\n",
      "| time/                   |             |\n",
      "|    fps                  | 357         |\n",
      "|    iterations           | 12          |\n",
      "|    time_elapsed         | 68          |\n",
      "|    total_timesteps      | 24576       |\n",
      "| train/                  |             |\n",
      "|    approx_kl            | 0.007841272 |\n",
      "|    clip_fraction        | 0.066       |\n",
      "|    clip_range           | 0.2         |\n",
      "|    entropy_loss         | -2.5        |\n",
      "|    explained_variance   | 0.0439      |\n",
      "|    learning_rate        | 0.0003      |\n",
      "|    loss                 | -0.0053     |\n",
      "|    n_updates            | 110         |\n",
      "|    policy_gradient_loss | -0.00579    |\n",
      "|    std                  | 0.834       |\n",
      "|    value_loss           | 0.00251     |\n",
      "-----------------------------------------\n"
     ]
    },
    {
     "name": "stderr",
     "output_type": "stream",
     "text": [
      "DEBUG:root:out of bounds\n",
      "DEBUG:root:out of bounds\n",
      "DEBUG:root:out of bounds\n",
      "DEBUG:root:out of bounds\n",
      "DEBUG:root:out of bounds\n",
      "DEBUG:root:out of bounds\n",
      "DEBUG:root:out of bounds\n",
      "DEBUG:root:out of bounds\n",
      "DEBUG:root:out of bounds\n",
      "DEBUG:root:out of bounds\n"
     ]
    },
    {
     "name": "stdout",
     "output_type": "stream",
     "text": [
      "-----------------------------------------\n",
      "| rollout/                |             |\n",
      "|    ep_len_mean          | 14          |\n",
      "|    ep_rew_mean          | -11.1       |\n",
      "| time/                   |             |\n",
      "|    fps                  | 358         |\n",
      "|    iterations           | 13          |\n",
      "|    time_elapsed         | 74          |\n",
      "|    total_timesteps      | 26624       |\n",
      "| train/                  |             |\n",
      "|    approx_kl            | 0.007425179 |\n",
      "|    clip_fraction        | 0.0896      |\n",
      "|    clip_range           | 0.2         |\n",
      "|    entropy_loss         | -2.45       |\n",
      "|    explained_variance   | 0.0193      |\n",
      "|    learning_rate        | 0.0003      |\n",
      "|    loss                 | -0.012      |\n",
      "|    n_updates            | 120         |\n",
      "|    policy_gradient_loss | -0.007      |\n",
      "|    std                  | 0.814       |\n",
      "|    value_loss           | 0.00266     |\n",
      "-----------------------------------------\n"
     ]
    },
    {
     "name": "stderr",
     "output_type": "stream",
     "text": [
      "DEBUG:root:out of bounds\n",
      "DEBUG:root:out of bounds\n",
      "DEBUG:root:out of bounds\n",
      "DEBUG:root:out of bounds\n",
      "DEBUG:root:out of bounds\n",
      "DEBUG:root:out of bounds\n",
      "DEBUG:root:out of bounds\n"
     ]
    },
    {
     "name": "stdout",
     "output_type": "stream",
     "text": [
      "------------------------------------------\n",
      "| rollout/                |              |\n",
      "|    ep_len_mean          | 14.5         |\n",
      "|    ep_rew_mean          | -11.2        |\n",
      "| time/                   |              |\n",
      "|    fps                  | 359          |\n",
      "|    iterations           | 14           |\n",
      "|    time_elapsed         | 79           |\n",
      "|    total_timesteps      | 28672        |\n",
      "| train/                  |              |\n",
      "|    approx_kl            | 0.0070151677 |\n",
      "|    clip_fraction        | 0.0582       |\n",
      "|    clip_range           | 0.2          |\n",
      "|    entropy_loss         | -2.41        |\n",
      "|    explained_variance   | 0.0283       |\n",
      "|    learning_rate        | 0.0003       |\n",
      "|    loss                 | -0.00289     |\n",
      "|    n_updates            | 130          |\n",
      "|    policy_gradient_loss | -0.00536     |\n",
      "|    std                  | 0.801        |\n",
      "|    value_loss           | 0.0027       |\n",
      "------------------------------------------\n"
     ]
    },
    {
     "name": "stderr",
     "output_type": "stream",
     "text": [
      "DEBUG:root:out of bounds\n",
      "DEBUG:root:out of bounds\n",
      "DEBUG:root:out of bounds\n",
      "DEBUG:root:out of bounds\n",
      "DEBUG:root:out of bounds\n",
      "DEBUG:root:out of bounds\n",
      "DEBUG:root:out of bounds\n"
     ]
    },
    {
     "name": "stdout",
     "output_type": "stream",
     "text": [
      "-----------------------------------------\n",
      "| rollout/                |             |\n",
      "|    ep_len_mean          | 14.7        |\n",
      "|    ep_rew_mean          | -11.2       |\n",
      "| time/                   |             |\n",
      "|    fps                  | 359         |\n",
      "|    iterations           | 15          |\n",
      "|    time_elapsed         | 85          |\n",
      "|    total_timesteps      | 30720       |\n",
      "| train/                  |             |\n",
      "|    approx_kl            | 0.005935795 |\n",
      "|    clip_fraction        | 0.0464      |\n",
      "|    clip_range           | 0.2         |\n",
      "|    entropy_loss         | -2.37       |\n",
      "|    explained_variance   | 0.0419      |\n",
      "|    learning_rate        | 0.0003      |\n",
      "|    loss                 | -0.00958    |\n",
      "|    n_updates            | 140         |\n",
      "|    policy_gradient_loss | -0.00424    |\n",
      "|    std                  | 0.784       |\n",
      "|    value_loss           | 0.00263     |\n",
      "-----------------------------------------\n"
     ]
    },
    {
     "name": "stderr",
     "output_type": "stream",
     "text": [
      "DEBUG:root:out of bounds\n",
      "DEBUG:root:out of bounds\n",
      "DEBUG:root:out of bounds\n",
      "DEBUG:root:out of bounds\n",
      "DEBUG:root:out of bounds\n"
     ]
    },
    {
     "name": "stdout",
     "output_type": "stream",
     "text": [
      "------------------------------------------\n",
      "| rollout/                |              |\n",
      "|    ep_len_mean          | 14.6         |\n",
      "|    ep_rew_mean          | -11.2        |\n",
      "| time/                   |              |\n",
      "|    fps                  | 360          |\n",
      "|    iterations           | 16           |\n",
      "|    time_elapsed         | 91           |\n",
      "|    total_timesteps      | 32768        |\n",
      "| train/                  |              |\n",
      "|    approx_kl            | 0.0071145585 |\n",
      "|    clip_fraction        | 0.0646       |\n",
      "|    clip_range           | 0.2          |\n",
      "|    entropy_loss         | -2.33        |\n",
      "|    explained_variance   | 0.0546       |\n",
      "|    learning_rate        | 0.0003       |\n",
      "|    loss                 | -0.00386     |\n",
      "|    n_updates            | 150          |\n",
      "|    policy_gradient_loss | -0.00457     |\n",
      "|    std                  | 0.769        |\n",
      "|    value_loss           | 0.00253      |\n",
      "------------------------------------------\n"
     ]
    },
    {
     "name": "stderr",
     "output_type": "stream",
     "text": [
      "DEBUG:root:out of bounds\n",
      "DEBUG:root:out of bounds\n",
      "DEBUG:root:out of bounds\n",
      "DEBUG:root:out of bounds\n",
      "DEBUG:root:out of bounds\n",
      "DEBUG:root:out of bounds\n",
      "DEBUG:root:out of bounds\n",
      "DEBUG:root:out of bounds\n",
      "DEBUG:root:out of bounds\n",
      "DEBUG:root:out of bounds\n"
     ]
    },
    {
     "name": "stdout",
     "output_type": "stream",
     "text": [
      "-----------------------------------------\n",
      "| rollout/                |             |\n",
      "|    ep_len_mean          | 14.6        |\n",
      "|    ep_rew_mean          | -11.2       |\n",
      "| time/                   |             |\n",
      "|    fps                  | 361         |\n",
      "|    iterations           | 17          |\n",
      "|    time_elapsed         | 96          |\n",
      "|    total_timesteps      | 34816       |\n",
      "| train/                  |             |\n",
      "|    approx_kl            | 0.010878414 |\n",
      "|    clip_fraction        | 0.109       |\n",
      "|    clip_range           | 0.2         |\n",
      "|    entropy_loss         | -2.29       |\n",
      "|    explained_variance   | 0.0259      |\n",
      "|    learning_rate        | 0.0003      |\n",
      "|    loss                 | -0.00729    |\n",
      "|    n_updates            | 160         |\n",
      "|    policy_gradient_loss | -0.00712    |\n",
      "|    std                  | 0.752       |\n",
      "|    value_loss           | 0.00259     |\n",
      "-----------------------------------------\n"
     ]
    },
    {
     "name": "stderr",
     "output_type": "stream",
     "text": [
      "DEBUG:root:out of bounds\n",
      "DEBUG:root:out of bounds\n",
      "DEBUG:root:out of bounds\n",
      "DEBUG:root:out of bounds\n",
      "DEBUG:root:out of bounds\n",
      "DEBUG:root:out of bounds\n",
      "DEBUG:root:out of bounds\n",
      "DEBUG:root:out of bounds\n",
      "DEBUG:root:out of bounds\n",
      "DEBUG:root:out of bounds\n",
      "DEBUG:root:out of bounds\n"
     ]
    },
    {
     "name": "stdout",
     "output_type": "stream",
     "text": [
      "-----------------------------------------\n",
      "| rollout/                |             |\n",
      "|    ep_len_mean          | 14.3        |\n",
      "|    ep_rew_mean          | -11.1       |\n",
      "| time/                   |             |\n",
      "|    fps                  | 361         |\n",
      "|    iterations           | 18          |\n",
      "|    time_elapsed         | 101         |\n",
      "|    total_timesteps      | 36864       |\n",
      "| train/                  |             |\n",
      "|    approx_kl            | 0.006679872 |\n",
      "|    clip_fraction        | 0.0636      |\n",
      "|    clip_range           | 0.2         |\n",
      "|    entropy_loss         | -2.25       |\n",
      "|    explained_variance   | 0.0665      |\n",
      "|    learning_rate        | 0.0003      |\n",
      "|    loss                 | -0.0172     |\n",
      "|    n_updates            | 170         |\n",
      "|    policy_gradient_loss | -0.00555    |\n",
      "|    std                  | 0.74        |\n",
      "|    value_loss           | 0.00254     |\n",
      "-----------------------------------------\n"
     ]
    },
    {
     "name": "stderr",
     "output_type": "stream",
     "text": [
      "DEBUG:root:out of bounds\n",
      "DEBUG:root:out of bounds\n",
      "DEBUG:root:out of bounds\n",
      "DEBUG:root:out of bounds\n",
      "DEBUG:root:out of bounds\n"
     ]
    },
    {
     "name": "stdout",
     "output_type": "stream",
     "text": [
      "-----------------------------------------\n",
      "| rollout/                |             |\n",
      "|    ep_len_mean          | 14.7        |\n",
      "|    ep_rew_mean          | -11.2       |\n",
      "| time/                   |             |\n",
      "|    fps                  | 362         |\n",
      "|    iterations           | 19          |\n",
      "|    time_elapsed         | 107         |\n",
      "|    total_timesteps      | 38912       |\n",
      "| train/                  |             |\n",
      "|    approx_kl            | 0.008542493 |\n",
      "|    clip_fraction        | 0.0875      |\n",
      "|    clip_range           | 0.2         |\n",
      "|    entropy_loss         | -2.23       |\n",
      "|    explained_variance   | 0.0734      |\n",
      "|    learning_rate        | 0.0003      |\n",
      "|    loss                 | -0.011      |\n",
      "|    n_updates            | 180         |\n",
      "|    policy_gradient_loss | -0.00904    |\n",
      "|    std                  | 0.739       |\n",
      "|    value_loss           | 0.00251     |\n",
      "-----------------------------------------\n"
     ]
    },
    {
     "name": "stderr",
     "output_type": "stream",
     "text": [
      "DEBUG:root:out of bounds\n",
      "DEBUG:root:out of bounds\n",
      "DEBUG:root:out of bounds\n",
      "DEBUG:root:out of bounds\n",
      "DEBUG:root:out of bounds\n",
      "DEBUG:root:out of bounds\n",
      "DEBUG:root:out of bounds\n",
      "DEBUG:root:out of bounds\n",
      "DEBUG:root:out of bounds\n",
      "DEBUG:root:out of bounds\n"
     ]
    },
    {
     "name": "stdout",
     "output_type": "stream",
     "text": [
      "------------------------------------------\n",
      "| rollout/                |              |\n",
      "|    ep_len_mean          | 14.2         |\n",
      "|    ep_rew_mean          | -11.1        |\n",
      "| time/                   |              |\n",
      "|    fps                  | 363          |\n",
      "|    iterations           | 20           |\n",
      "|    time_elapsed         | 112          |\n",
      "|    total_timesteps      | 40960        |\n",
      "| train/                  |              |\n",
      "|    approx_kl            | 0.0049313437 |\n",
      "|    clip_fraction        | 0.0511       |\n",
      "|    clip_range           | 0.2          |\n",
      "|    entropy_loss         | -2.21        |\n",
      "|    explained_variance   | -0.154       |\n",
      "|    learning_rate        | 0.0003       |\n",
      "|    loss                 | -0.0161      |\n",
      "|    n_updates            | 190          |\n",
      "|    policy_gradient_loss | -0.00499     |\n",
      "|    std                  | 0.722        |\n",
      "|    value_loss           | 0.00293      |\n",
      "------------------------------------------\n"
     ]
    },
    {
     "data": {
      "text/plain": [
       "<stable_baselines3.ppo.ppo.PPO at 0x2403fb80eb0>"
      ]
     },
     "execution_count": 94,
     "metadata": {},
     "output_type": "execute_result"
    }
   ],
   "source": [
    "model.learn(\n",
    "    total_timesteps=40_000, \n",
    "    callback = callback\n",
    "    )"
   ]
  },
  {
   "cell_type": "code",
   "execution_count": 95,
   "metadata": {},
   "outputs": [],
   "source": [
    "model.save('PPO')"
   ]
  },
  {
   "cell_type": "markdown",
   "metadata": {},
   "source": [
    "## Test Model"
   ]
  },
  {
   "cell_type": "code",
   "execution_count": 96,
   "metadata": {},
   "outputs": [
    {
     "name": "stdout",
     "output_type": "stream",
     "text": [
      "info {}\n",
      "visited states:  [[1.5989342078273605, 1.500252459914, 1.7326155498330902, 1.6822860732381653, 2.0954427614515136, 1.7471680834596466, 2.4018556073015045, 1.7971754863565277, 2.494053561956198, 3.2507635548417877, 2.407646913797171, 2.6274317696397613, 2.407962401181967, 1.9334400787656616, 2.3849365010564636, 2.650710125238211], [0.06491039362545137, -0.45763935479526396, 0.25931511488552217, -0.7406848851144778, -0.7281216565073001, -1.0257132831514346, -0.8978391471803653, -0.012814778417395312, -0.13901184830074187, 0.28899205890293245, 0.629550826221658, -0.37044917377834197, -0.1653682920635211, 0.8095082309543622, 1.0766050186454785, 1.684351321726991]]\n",
      "[8.96866927 2.89024106]\n",
      "goal: [8.96866927 2.89024106]\n"
     ]
    },
    {
     "data": {
      "image/png": "[encoded data removed]",
      "text/plain": [
       "<Figure size 432x288 with 1 Axes>"
      ]
     },
     "metadata": {
      "needs_background": "light"
     },
     "output_type": "display_data"
    }
   ],
   "source": [
    "# test prediction\n",
    "env = SimpleWalk2Dcont()\n",
    "env.reset()\n",
    "\n",
    "while True:\n",
    "    action, _states = model.predict(env.state)\n",
    "    obs, rewards, done, info = env.step(action)\n",
    "    if done:\n",
    "        print(\"info\", info)\n",
    "        break\n",
    "env.render()\n"
   ]
  },
  {
   "cell_type": "code",
   "execution_count": null,
   "metadata": {},
   "outputs": [
    {
     "name": "stdout",
     "output_type": "stream",
     "text": [
      "info {}\n",
      "visited states:  [[1.5989342078273605, 1.500252459914, 1.7326155498330902, 1.6822860732381653, 2.0954427614515136, 1.7471680834596466, 2.4018556073015045, 1.7971754863565277, 2.494053561956198, 3.2507635548417877, 2.407646913797171, 2.6274317696397613, 2.407962401181967, 1.9334400787656616, 2.3849365010564636, 2.650710125238211], [0.06491039362545137, -0.45763935479526396, 0.25931511488552217, -0.7406848851144778, -0.7281216565073001, -1.0257132831514346, -0.8978391471803653, -0.012814778417395312, -0.13901184830074187, 0.28899205890293245, 0.629550826221658, -0.37044917377834197, -0.1653682920635211, 0.8095082309543622, 1.0766050186454785, 1.684351321726991]]\n",
      "[8.96866927 2.89024106]\n",
      "goal: [8.96866927 2.89024106]\n"
     ]
    },
    {
     "data": {
      "image/png": "[encoded data removed]",
      "text/plain": [
       "<Figure size 432x288 with 1 Axes>"
      ]
     },
     "metadata": {},
     "output_type": "display_data"
    }
   ],
   "source": [
    "# test prediction\n",
    "env = SimpleWalk2Dcont()\n",
    "env.reset()\n",
    "\n",
    "while True:\n",
    "    action, _states = model.predict(env.state)\n",
    "    obs, rewards, done, info = env.step(action)\n",
    "    if done:\n",
    "        print(\"info\", info)\n",
    "        break\n",
    "env.render()\n"
   ]
  },
  {
   "cell_type": "code",
   "execution_count": 97,
   "metadata": {},
   "outputs": [
    {
     "name": "stderr",
     "output_type": "stream",
     "text": [
      "C:\\Users\\Luttk\\anaconda3\\envs\\rl-test\\lib\\site-packages\\stable_baselines3\\common\\evaluation.py:65: UserWarning: Evaluation environment is not wrapped with a ``Monitor`` wrapper. This may result in reporting modified episode lengths and rewards, if other wrappers happen to modify these. Consider wrapping environment first with ``Monitor`` wrapper.\n",
      "  warnings.warn(\n"
     ]
    },
    {
     "data": {
      "text/plain": [
       "(-11.200000017881393, 0.0)"
      ]
     },
     "execution_count": 97,
     "metadata": {},
     "output_type": "execute_result"
    }
   ],
   "source": [
    "evaluate_policy(model, env, n_eval_episodes=10, render=False)"
   ]
  },
  {
   "cell_type": "markdown",
   "metadata": {},
   "source": [
    "## TODO\n",
    "\n",
    "```shell\n",
    "C:\\Users\\Luttk\\anaconda3\\envs\\rl-test\\lib\\site-packages\\stable_baselines3\\common\\env_checker.py:130: UserWarning: Your observation  has an unconventional shape (neither an image, nor a 1D vector). We recommend you to flatten the observation to have only a 1D vector or use a custom policy to properly process the data.\n",
    "  warnings.warn(\n",
    "```"
   ]
  }
 ],
 "metadata": {
  "interpreter": {
   "hash": "aff22e454c7c7c2b414196c91e128cfd95ef64f890c08d8c85042177f44e9549"
  },
  "kernelspec": {
   "display_name": "Python 3.9.7 64-bit ('rl-test': conda)",
   "language": "python",
   "name": "python3"
  },
  "language_info": {
   "codemirror_mode": {
    "name": "ipython",
    "version": 3
   },
   "file_extension": ".py",
   "mimetype": "text/x-python",
   "name": "python",
   "nbconvert_exporter": "python",
   "pygments_lexer": "ipython3",
   "version": "3.9.7"
  },
  "orig_nbformat": 4
 },
 "nbformat": 4,
 "nbformat_minor": 2
}
