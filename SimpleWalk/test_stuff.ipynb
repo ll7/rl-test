{
 "cells": [
  {
   "cell_type": "markdown",
   "metadata": {},
   "source": [
    "## calculate angle **correctly**"
   ]
  },
  {
   "cell_type": "code",
   "execution_count": 16,
   "metadata": {},
   "outputs": [],
   "source": [
    "import numpy as np\n",
    "import logging\n",
    "import sys\n",
    "\n",
    "def calculate_angle(vector_1, vector_2):\n",
    "        \"\"\"calculate the angle between two vectors in radians\"\"\"\n",
    "        # https://www.kite.com/python/answers/how-to-get-the-angle-between-two-vectors-in-python\n",
    "        # TODO something is going wroing\n",
    "        \n",
    "        logging.debug(\"vector 1: {}\".format(vector_1))\n",
    "        logging.debug(\"vector 2: {}\".format(vector_2))\n",
    "        try:\n",
    "            angle = np.arccos(np.dot(vector_1, vector_2) / (np.linalg.norm(vector_1) * np.linalg.norm(vector_2)))\n",
    "        except:\n",
    "            print(\"Oops!\", sys.exc_info()[0], \"occurred.\")\n",
    "            logging.error('an error occured while calculating the angle between two vectors')\n",
    "            logging.error('vector 1: {}'.format(vector_1))\n",
    "            logging.error('vector 2: {}'.format(vector_2))\n",
    "            \n",
    "        return angle"
   ]
  },
  {
   "cell_type": "code",
   "execution_count": 17,
   "metadata": {},
   "outputs": [
    {
     "name": "stdout",
     "output_type": "stream",
     "text": [
      "-2\n",
      "3.1415926325163688\n"
     ]
    }
   ],
   "source": [
    "vector_1 = np.array([1, 1])\n",
    "vector_2 = np.array([1, -1])\n",
    "\n",
    "\n",
    "\n",
    "print(np.dot(vector_1, vector_2))\n",
    "print(calculate_angle(vector_1, vector_2))"
   ]
  },
  {
   "cell_type": "code",
   "execution_count": 22,
   "metadata": {},
   "outputs": [
    {
     "name": "stdout",
     "output_type": "stream",
     "text": [
      "2.4845426874900913\n"
     ]
    }
   ],
   "source": [
    "vector_1 = [-1., 1.0000005]\n",
    "vector_2 = [0.6744108, -0.08703804]\n",
    "\n",
    "unit_vector_1 = vector_1 / np.linalg.norm(vector_1)\n",
    "unit_vector_2 = vector_2 / np.linalg.norm(vector_2)\n",
    "dot_product = np.dot(unit_vector_1, unit_vector_2)\n",
    "angle = np.arccos(dot_product)\n",
    "\n",
    "print(angle)"
   ]
  }
 ],
 "metadata": {
  "interpreter": {
   "hash": "e9e60918770726085cb8af52fcf721483d216e54725aaf2e5694162f2c52f93a"
  },
  "kernelspec": {
   "display_name": "Python 3.9.10 ('rl-test')",
   "language": "python",
   "name": "python3"
  },
  "language_info": {
   "codemirror_mode": {
    "name": "ipython",
    "version": 3
   },
   "file_extension": ".py",
   "mimetype": "text/x-python",
   "name": "python",
   "nbconvert_exporter": "python",
   "pygments_lexer": "ipython3",
   "version": "3.9.10"
  },
  "orig_nbformat": 4
 },
 "nbformat": 4,
 "nbformat_minor": 2
}
