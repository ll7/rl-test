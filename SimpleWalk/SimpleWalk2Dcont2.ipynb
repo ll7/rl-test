{
 "cells": [
  {
   "cell_type": "markdown",
   "metadata": {},
   "source": [
    "# Simple Walk 2D continuous\n",
    "\n",
    "base environment on https://github.com/nicknochnack/ReinforcementLearningCourse/blob/main/Project%203%20-%20Custom%20Environment.ipynb"
   ]
  },
  {
   "cell_type": "markdown",
   "metadata": {},
   "source": [
    "continuous state space environment\n",
    "\n",
    "action space: BOX in two directions from -1 to 1\n",
    "\n",
    "state space: box with shape(2,1)?\n",
    "\n",
    "goal reached when distance closer than 1\n",
    "\n",
    "\n",
    "\n"
   ]
  },
  {
   "cell_type": "markdown",
   "metadata": {},
   "source": [
    "## 1. Import Dependencies"
   ]
  },
  {
   "cell_type": "code",
   "execution_count": 44,
   "metadata": {},
   "outputs": [],
   "source": [
    "import gym \n",
    "from gym import Env\n",
    "from gym.spaces import Discrete, Box, Dict, Tuple, MultiBinary, MultiDiscrete \n",
    "import numpy as np\n",
    "import random\n",
    "import os\n",
    "from stable_baselines3 import PPO\n",
    "from stable_baselines3.common.vec_env import VecFrameStack\n",
    "from stable_baselines3.common.evaluation import evaluate_policy\n",
    "\n",
    "import matplotlib.pyplot as plt\n",
    "\n",
    "# logging\n",
    "import logging\n",
    "logger = logging.getLogger()\n",
    "logger.setLevel(logging.DEBUG)\n"
   ]
  },
  {
   "cell_type": "code",
   "execution_count": 45,
   "metadata": {},
   "outputs": [
    {
     "name": "stdout",
     "output_type": "stream",
     "text": [
      "[-0.9300965  -0.46275163]\n",
      "[0.7590737  0.34742686 3.4354107  9.687635  ]\n"
     ]
    }
   ],
   "source": [
    "class SimpleWalk2Dcont(Env):\n",
    "    \"\"\"simple walk environment in 2D with a continuous action and state space\"\"\"\n",
    "    def __init__(self):\n",
    "        self.x_min = 0.0\n",
    "        self.x_max = 10.0\n",
    "        self.max_steps = 15\n",
    "        self.action_space = Box(low=-1.0, high=1.0, shape=(2, ))\n",
    "        self.observation_space = Box(low=self.x_min, high=self.x_max, shape=(4, )) # x,y position, x,y goal\n",
    "        self.state = np.ndarray(shape=(4,), dtype=np.float32)\n",
    "        # safe past states in an array, safe x and y positions\n",
    "        \n",
    "    def __out_of_bounds(self):\n",
    "        \"\"\"check if the current state is out of bounds\"\"\"\n",
    "        position = self.state[0:2]\n",
    "        for element in position:\n",
    "            if not (self.x_min <= element <= self.x_max):\n",
    "                \n",
    "                return True\n",
    "            else:\n",
    "                return False\n",
    "            \n",
    "    def __append_state(self):\n",
    "        self.state_array[0].append(self.state[0])\n",
    "        self.state_array[1].append(self.state[1])\n",
    "        \n",
    "    def __distance_to_goal(self):\n",
    "        distance_to_goal = np.linalg.norm(self.state[0:2] - self.state[2:4])\n",
    "        return distance_to_goal     \n",
    "        \n",
    "    \n",
    "    def step(self, action):\n",
    "        previouse_state = self.state\n",
    "        # update position\n",
    "        self.state[0] += action[0] # update x\n",
    "        self.state[1] += action[1] # update y\n",
    "        self.__append_state()\n",
    "        new_state = self.state\n",
    "        self.steps_taken += 1\n",
    "        distance_to_goal = self.__distance_to_goal()\n",
    "    \n",
    "        if self.steps_taken >= self.max_steps:\n",
    "            # maximum number of steps reached\n",
    "            logging.debug(\"maximum number of steps reached\")\n",
    "            reward = -100.0\n",
    "            done = True\n",
    "        elif self.__out_of_bounds():\n",
    "            # went out of bounds\n",
    "            logging.debug(\"out of bounds\")\n",
    "            reward = -100.0\n",
    "            done = True\n",
    "        elif distance_to_goal < 1:\n",
    "            # reached goal\n",
    "            reward = 1000.0\n",
    "            logging.debug(\"reached goal\")\n",
    "            done = True\n",
    "        elif self.distance_to_goal > distance_to_goal:\n",
    "            # got closer\n",
    "            logging.debug(\"got closer\")\n",
    "            reward = 10.0\n",
    "            done = False\n",
    "        else:\n",
    "            # stepped away\n",
    "            logging.debug(\"stepped away\")\n",
    "            reward = -2.0\n",
    "            done = False\n",
    "        \n",
    "        # update distance to goal\n",
    "        self.distance_to_goal = distance_to_goal\n",
    "        info = {'distance_to_goal': self.distance_to_goal, \n",
    "                'steps_taken': self.steps_taken,\n",
    "                'previous_state': previouse_state,\n",
    "                'new_state': new_state}\n",
    "        \n",
    "        return self.state, reward, done, info\n",
    "    \n",
    "    def reset(self):\n",
    "        \"\"\"reset and initalize the environment\"\"\"\n",
    "        \n",
    "        self.state = np.random.uniform(self.x_min, self.x_max, (4,))\n",
    "        self.state_array = [[], []] # x, y\n",
    "        self.__append_state()\n",
    "        self.steps_taken = 0\n",
    "        self.distance_to_goal = self.__distance_to_goal()\n",
    "        return self.state\n",
    "    \n",
    "    def render(self):\n",
    "        \n",
    "        logging.debug(\"visited states: \", self.state_array)\n",
    "        logging.debug(\"x: {}\".format(self.state_array[0]))\n",
    "        logging.debug(\"y: {}\".format(self.state_array[1]))\n",
    "        goal = self.state[2:4]\n",
    "        logging.debug(\"goal: {}\".format(goal))\n",
    "        \n",
    "        \n",
    "        # plot\n",
    "        fig, ax = plt.subplots()\n",
    "\n",
    "        # plot the visited states\n",
    "        ax.plot(self.state_array[0], self.state_array[1], linewidth=2.0)\n",
    "        \n",
    "        # plot the goal\n",
    "        ax.plot(goal[0], goal[1], 'ro')\n",
    "        circle1 = plt.Circle((goal[0], goal[1]), 1, color='r', fill=False)\n",
    "        ax.add_patch(circle1)\n",
    "        ax.set(\n",
    "            xlim=(self.x_min, self.x_max), #xticks=np.arange(1, 8),\n",
    "            ylim=(self.x_min, self.x_max), #yticks=np.arange(1, 8))\n",
    "            )\n",
    "        plt.show()\n",
    "        \n",
    "    \n",
    "\n",
    "    \n",
    "env = SimpleWalk2Dcont()\n",
    "\n",
    "print(env.action_space.sample())\n",
    "print(env.observation_space.sample())"
   ]
  },
  {
   "cell_type": "code",
   "execution_count": 46,
   "metadata": {},
   "outputs": [
    {
     "data": {
      "text/plain": [
       "[0.2729502, 8.326116]"
      ]
     },
     "execution_count": 46,
     "metadata": {},
     "output_type": "execute_result"
    }
   ],
   "source": [
    "a= [5.450801, 3.7648005, 0.2729502, 8.326116,]\n",
    "a[2:4]"
   ]
  },
  {
   "cell_type": "markdown",
   "metadata": {},
   "source": [
    "## Check Environment"
   ]
  },
  {
   "cell_type": "code",
   "execution_count": 47,
   "metadata": {},
   "outputs": [
    {
     "name": "stderr",
     "output_type": "stream",
     "text": [
      "DEBUG:root:got closer\n",
      "DEBUG:root:Steps taken: 1\n",
      "DEBUG:root:distance to goal: 5.48327692234817\n",
      "DEBUG:root:got closer\n",
      "DEBUG:root:Steps taken: 2\n",
      "DEBUG:root:distance to goal: 4.477491537499786\n",
      "DEBUG:root:stepped away\n",
      "DEBUG:root:Steps taken: 3\n",
      "DEBUG:root:distance to goal: 4.635276536185452\n",
      "DEBUG:root:got closer\n",
      "DEBUG:root:Steps taken: 4\n",
      "DEBUG:root:distance to goal: 3.5741984691784765\n",
      "DEBUG:root:got closer\n",
      "DEBUG:root:Steps taken: 5\n",
      "DEBUG:root:distance to goal: 2.6210695143982097\n",
      "DEBUG:root:got closer\n",
      "DEBUG:root:Steps taken: 6\n",
      "DEBUG:root:distance to goal: 1.6725122717691425\n",
      "DEBUG:root:stepped away\n",
      "DEBUG:root:Steps taken: 7\n",
      "DEBUG:root:distance to goal: 2.534232730265157\n",
      "DEBUG:root:got closer\n",
      "DEBUG:root:Steps taken: 8\n",
      "DEBUG:root:distance to goal: 1.92132543087034\n",
      "DEBUG:root:got closer\n",
      "DEBUG:root:Steps taken: 9\n",
      "DEBUG:root:distance to goal: 1.8560792974886968\n",
      "DEBUG:root:got closer\n",
      "DEBUG:root:Steps taken: 10\n",
      "DEBUG:root:distance to goal: 1.7383401775506975\n",
      "DEBUG:root:got closer\n",
      "DEBUG:root:Steps taken: 11\n",
      "DEBUG:root:distance to goal: 1.480101434947806\n",
      "DEBUG:root:stepped away\n",
      "DEBUG:root:Steps taken: 12\n",
      "DEBUG:root:distance to goal: 2.0329202122200347\n",
      "DEBUG:root:stepped away\n",
      "DEBUG:root:Steps taken: 13\n",
      "DEBUG:root:distance to goal: 2.5142548266452667\n",
      "DEBUG:root:stepped away\n",
      "DEBUG:root:Steps taken: 14\n",
      "DEBUG:root:distance to goal: 2.6588662315855727\n",
      "DEBUG:root:maximum number of steps reached\n",
      "DEBUG:root:Steps taken: 15\n",
      "DEBUG:root:distance to goal: 3.280545263342519\n",
      "INFO:root:Episode:1 Score:-20.0\n",
      "--- Logging error ---\n",
      "Traceback (most recent call last):\n",
      "  File \"C:\\Users\\Luttk\\anaconda3\\envs\\rl-test\\lib\\logging\\__init__.py\", line 1083, in emit\n",
      "    msg = self.format(record)\n",
      "  File \"C:\\Users\\Luttk\\anaconda3\\envs\\rl-test\\lib\\logging\\__init__.py\", line 927, in format\n",
      "    return fmt.format(record)\n",
      "  File \"C:\\Users\\Luttk\\anaconda3\\envs\\rl-test\\lib\\logging\\__init__.py\", line 663, in format\n",
      "    record.message = record.getMessage()\n",
      "  File \"C:\\Users\\Luttk\\anaconda3\\envs\\rl-test\\lib\\logging\\__init__.py\", line 367, in getMessage\n",
      "    msg = msg % self.args\n",
      "TypeError: not all arguments converted during string formatting\n",
      "Call stack:\n",
      "  File \"c:\\Users\\Luttk\\.vscode-insiders\\extensions\\ms-toolsai.jupyter-2022.1.1001614873\\pythonFiles\\vscode_datascience_helpers\\kernel_prewarm_starter.py\", line 31, in <module>\n",
      "    runpy.run_module(module, run_name=\"__main__\", alter_sys=False)\n",
      "  File \"C:\\Users\\Luttk\\anaconda3\\envs\\rl-test\\lib\\runpy.py\", line 213, in run_module\n",
      "    return _run_code(code, {}, init_globals, run_name, mod_spec)\n",
      "  File \"C:\\Users\\Luttk\\anaconda3\\envs\\rl-test\\lib\\runpy.py\", line 87, in _run_code\n",
      "    exec(code, run_globals)\n",
      "  File \"C:\\Users\\Luttk\\anaconda3\\envs\\rl-test\\lib\\site-packages\\ipykernel_launcher.py\", line 16, in <module>\n",
      "    app.launch_new_instance()\n",
      "  File \"C:\\Users\\Luttk\\anaconda3\\envs\\rl-test\\lib\\site-packages\\traitlets\\config\\application.py\", line 846, in launch_instance\n",
      "    app.start()\n",
      "  File \"C:\\Users\\Luttk\\anaconda3\\envs\\rl-test\\lib\\site-packages\\ipykernel\\kernelapp.py\", line 677, in start\n",
      "    self.io_loop.start()\n",
      "  File \"C:\\Users\\Luttk\\anaconda3\\envs\\rl-test\\lib\\site-packages\\tornado\\platform\\asyncio.py\", line 199, in start\n",
      "    self.asyncio_loop.run_forever()\n",
      "  File \"C:\\Users\\Luttk\\anaconda3\\envs\\rl-test\\lib\\asyncio\\base_events.py\", line 596, in run_forever\n",
      "    self._run_once()\n",
      "  File \"C:\\Users\\Luttk\\anaconda3\\envs\\rl-test\\lib\\asyncio\\base_events.py\", line 1890, in _run_once\n",
      "    handle._run()\n",
      "  File \"C:\\Users\\Luttk\\anaconda3\\envs\\rl-test\\lib\\asyncio\\events.py\", line 80, in _run\n",
      "    self._context.run(self._callback, *self._args)\n",
      "  File \"C:\\Users\\Luttk\\anaconda3\\envs\\rl-test\\lib\\site-packages\\ipykernel\\kernelbase.py\", line 457, in dispatch_queue\n",
      "    await self.process_one()\n",
      "  File \"C:\\Users\\Luttk\\anaconda3\\envs\\rl-test\\lib\\site-packages\\ipykernel\\kernelbase.py\", line 446, in process_one\n",
      "    await dispatch(*args)\n",
      "  File \"C:\\Users\\Luttk\\anaconda3\\envs\\rl-test\\lib\\site-packages\\ipykernel\\kernelbase.py\", line 353, in dispatch_shell\n",
      "    await result\n",
      "  File \"C:\\Users\\Luttk\\anaconda3\\envs\\rl-test\\lib\\site-packages\\ipykernel\\kernelbase.py\", line 648, in execute_request\n",
      "    reply_content = await reply_content\n",
      "  File \"C:\\Users\\Luttk\\anaconda3\\envs\\rl-test\\lib\\site-packages\\ipykernel\\ipkernel.py\", line 353, in do_execute\n",
      "    res = shell.run_cell(code, store_history=store_history, silent=silent)\n",
      "  File \"C:\\Users\\Luttk\\anaconda3\\envs\\rl-test\\lib\\site-packages\\ipykernel\\zmqshell.py\", line 532, in run_cell\n",
      "    return super().run_cell(*args, **kwargs)\n",
      "  File \"C:\\Users\\Luttk\\anaconda3\\envs\\rl-test\\lib\\site-packages\\IPython\\core\\interactiveshell.py\", line 2914, in run_cell\n",
      "    result = self._run_cell(\n",
      "  File \"C:\\Users\\Luttk\\anaconda3\\envs\\rl-test\\lib\\site-packages\\IPython\\core\\interactiveshell.py\", line 2960, in _run_cell\n",
      "    return runner(coro)\n",
      "  File \"C:\\Users\\Luttk\\anaconda3\\envs\\rl-test\\lib\\site-packages\\IPython\\core\\async_helpers.py\", line 78, in _pseudo_sync_runner\n",
      "    coro.send(None)\n",
      "  File \"C:\\Users\\Luttk\\anaconda3\\envs\\rl-test\\lib\\site-packages\\IPython\\core\\interactiveshell.py\", line 3185, in run_cell_async\n",
      "    has_raised = await self.run_ast_nodes(code_ast.body, cell_name,\n",
      "  File \"C:\\Users\\Luttk\\anaconda3\\envs\\rl-test\\lib\\site-packages\\IPython\\core\\interactiveshell.py\", line 3377, in run_ast_nodes\n",
      "    if (await self.run_code(code, result,  async_=asy)):\n",
      "  File \"C:\\Users\\Luttk\\anaconda3\\envs\\rl-test\\lib\\site-packages\\IPython\\core\\interactiveshell.py\", line 3457, in run_code\n",
      "    exec(code_obj, self.user_global_ns, self.user_ns)\n",
      "  File \"C:\\Users\\Luttk\\AppData\\Local\\Temp/ipykernel_24396/3093747574.py\", line 16, in <module>\n",
      "    env.render()\n",
      "  File \"C:\\Users\\Luttk\\AppData\\Local\\Temp/ipykernel_24396/3146099043.py\", line 88, in render\n",
      "    logging.debug(\"visited states: \", self.state_array)\n",
      "Message: 'visited states: '\n",
      "Arguments: ([[8.696976608768729, 9.177777088419226, 8.899743980900077, 9.756679839626578, 9.165236181751517, 8.84163743926647, 7.93393219186428, 8.123628354803351, 7.394388235346106, 7.959912038580207, 8.426671899095801, 8.137436158195761, 8.559498674408225, 8.733092851177481, 9.328246123329428, 9.485085464254645], [5.65405930986811, 5.426169742254508, 4.458421755937827, 4.240729917196525, 3.3561193238775857, 2.4408098351042398, 1.8234249841253884, 2.6657528769056924, 2.145801116136802, 2.007260535268081, 1.6572656970303186, 1.531327147392524, 1.922936935333503, 2.382186819223655, 2.098472822813285, 2.7913098227064737]],)\n",
      "DEBUG:root:x: [8.696976608768729, 9.177777088419226, 8.899743980900077, 9.756679839626578, 9.165236181751517, 8.84163743926647, 7.93393219186428, 8.123628354803351, 7.394388235346106, 7.959912038580207, 8.426671899095801, 8.137436158195761, 8.559498674408225, 8.733092851177481, 9.328246123329428, 9.485085464254645]\n",
      "DEBUG:root:y: [5.65405930986811, 5.426169742254508, 4.458421755937827, 4.240729917196525, 3.3561193238775857, 2.4408098351042398, 1.8234249841253884, 2.6657528769056924, 2.145801116136802, 2.007260535268081, 1.6572656970303186, 1.531327147392524, 1.922936935333503, 2.382186819223655, 2.098472822813285, 2.7913098227064737]\n",
      "DEBUG:root:goal: [7.44148493 0.225053  ]\n"
     ]
    },
    {
     "data": {
      "image/png": "[encoded data removed]",
      "text/plain": [
       "<Figure size 432x288 with 1 Axes>"
      ]
     },
     "metadata": {
      "needs_background": "light"
     },
     "output_type": "display_data"
    }
   ],
   "source": [
    "env = SimpleWalk2Dcont()\n",
    "episodes = 1\n",
    "for episode in range(1, episodes+1):\n",
    "    state = env.reset()\n",
    "    done = False\n",
    "    score = 0 \n",
    "    \n",
    "    while not done:\n",
    "        # env.render()\n",
    "        action = env.action_space.sample()\n",
    "        n_state, reward, done, info = env.step(action)\n",
    "        logging.debug('Steps taken: {}'.format(info['steps_taken']))\n",
    "        logging.debug('distance to goal: {}'.format(info['distance_to_goal']))\n",
    "        score+=reward\n",
    "    logging.info('Episode:{} Score:{}'.format(episode, score))\n",
    "    env.render()\n",
    "env.close()"
   ]
  },
  {
   "cell_type": "code",
   "execution_count": 48,
   "metadata": {},
   "outputs": [
    {
     "name": "stderr",
     "output_type": "stream",
     "text": [
      "DEBUG:root:stepped away\n",
      "DEBUG:root:stepped away\n",
      "DEBUG:root:stepped away\n",
      "DEBUG:root:got closer\n",
      "DEBUG:root:got closer\n",
      "DEBUG:root:stepped away\n",
      "DEBUG:root:stepped away\n",
      "DEBUG:root:got closer\n",
      "DEBUG:root:got closer\n",
      "DEBUG:root:stepped away\n",
      "DEBUG:root:stepped away\n"
     ]
    }
   ],
   "source": [
    "from stable_baselines3.common import env_checker\n",
    "env_checker.check_env(env)"
   ]
  },
  {
   "cell_type": "markdown",
   "metadata": {},
   "source": [
    "## Callback"
   ]
  },
  {
   "cell_type": "code",
   "execution_count": 49,
   "metadata": {},
   "outputs": [],
   "source": [
    "# create callback fun\n",
    "\n",
    "import os\n",
    "from stable_baselines3.common.callbacks import BaseCallback\n",
    "\n",
    "class TrainAndLoggingCallback(BaseCallback):\n",
    "    \n",
    "    def __init__(self, check_freq, save_path, verbose=1):\n",
    "        super(TrainAndLoggingCallback, self).__init__(verbose)\n",
    "        self.check_freq = check_freq\n",
    "        self.save_path = save_path\n",
    "        \n",
    "    def _init_callback(self):\n",
    "        if self.save_path is not None:\n",
    "            os.makedirs(self.save_path, exist_ok = True)\n",
    "            \n",
    "    def _on_step(self):\n",
    "        if self.n_calls % self.check_freq == 0:\n",
    "            model_path = os.path.join(self.save_path, 'best_model_{}'.format(self.n_calls))\n",
    "            self.model.save(model_path)\n",
    "            \n",
    "        return True\n",
    "\n",
    "env_name = 'Walk2Dcont'\n",
    "\n",
    "CHECKPOINT_DIR = './train/train_' + env_name\n",
    "LOG_DIR = './train/log_' + env_name\n",
    "\n",
    "callback = TrainAndLoggingCallback(check_freq=10_000, save_path=CHECKPOINT_DIR)"
   ]
  },
  {
   "cell_type": "markdown",
   "metadata": {},
   "source": [
    "## Train"
   ]
  },
  {
   "cell_type": "code",
   "execution_count": 50,
   "metadata": {},
   "outputs": [],
   "source": [
    "log_path = os.path.join('Training', 'Logs')"
   ]
  },
  {
   "cell_type": "code",
   "execution_count": 51,
   "metadata": {},
   "outputs": [
    {
     "name": "stdout",
     "output_type": "stream",
     "text": [
      "Using cuda device\n",
      "Wrapping the env with a `Monitor` wrapper\n",
      "Wrapping the env in a DummyVecEnv.\n"
     ]
    }
   ],
   "source": [
    "model = PPO(\n",
    "    \"MlpPolicy\", \n",
    "    env, \n",
    "    verbose=1, \n",
    "    tensorboard_log=log_path,\n",
    "    learning_rate=0.001,\n",
    "    n_steps =256\n",
    "    )\n",
    "logger.setLevel(logging.INFO)"
   ]
  },
  {
   "cell_type": "code",
   "execution_count": 52,
   "metadata": {},
   "outputs": [
    {
     "name": "stdout",
     "output_type": "stream",
     "text": [
      "Logging to Training\\Logs\\PPO_26\n",
      "---------------------------------\n",
      "| rollout/           |          |\n",
      "|    ep_len_mean     | 7.84     |\n",
      "|    ep_rew_mean     | 60.6     |\n",
      "| time/              |          |\n",
      "|    fps             | 438      |\n",
      "|    iterations      | 1        |\n",
      "|    time_elapsed    | 0        |\n",
      "|    total_timesteps | 256      |\n",
      "---------------------------------\n",
      "-----------------------------------------\n",
      "| rollout/                |             |\n",
      "|    ep_len_mean          | 10.2        |\n",
      "|    ep_rew_mean          | 22.2        |\n",
      "| time/                   |             |\n",
      "|    fps                  | 353         |\n",
      "|    iterations           | 2           |\n",
      "|    time_elapsed         | 1           |\n",
      "|    total_timesteps      | 512         |\n",
      "| train/                  |             |\n",
      "|    approx_kl            | 0.015477603 |\n",
      "|    clip_fraction        | 0.0949      |\n",
      "|    clip_range           | 0.2         |\n",
      "|    entropy_loss         | -2.82       |\n",
      "|    explained_variance   | -0.000435   |\n",
      "|    learning_rate        | 0.001       |\n",
      "|    loss                 | 2.22e+04    |\n",
      "|    n_updates            | 10          |\n",
      "|    policy_gradient_loss | -0.0145     |\n",
      "|    std                  | 0.987       |\n",
      "|    value_loss           | 4.52e+04    |\n",
      "-----------------------------------------\n",
      "-----------------------------------------\n",
      "| rollout/                |             |\n",
      "|    ep_len_mean          | 10.9        |\n",
      "|    ep_rew_mean          | 45.7        |\n",
      "| time/                   |             |\n",
      "|    fps                  | 359         |\n",
      "|    iterations           | 3           |\n",
      "|    time_elapsed         | 2           |\n",
      "|    total_timesteps      | 768         |\n",
      "| train/                  |             |\n",
      "|    approx_kl            | 0.011958582 |\n",
      "|    clip_fraction        | 0.0977      |\n",
      "|    clip_range           | 0.2         |\n",
      "|    entropy_loss         | -2.8        |\n",
      "|    explained_variance   | -0.00953    |\n",
      "|    learning_rate        | 0.001       |\n",
      "|    loss                 | 1.31e+03    |\n",
      "|    n_updates            | 20          |\n",
      "|    policy_gradient_loss | -0.019      |\n",
      "|    std                  | 0.973       |\n",
      "|    value_loss           | 2.41e+03    |\n",
      "-----------------------------------------\n",
      "-----------------------------------------\n",
      "| rollout/                |             |\n",
      "|    ep_len_mean          | 11.4        |\n",
      "|    ep_rew_mean          | 23.4        |\n",
      "| time/                   |             |\n",
      "|    fps                  | 366         |\n",
      "|    iterations           | 4           |\n",
      "|    time_elapsed         | 2           |\n",
      "|    total_timesteps      | 1024        |\n",
      "| train/                  |             |\n",
      "|    approx_kl            | 0.012451744 |\n",
      "|    clip_fraction        | 0.175       |\n",
      "|    clip_range           | 0.2         |\n",
      "|    entropy_loss         | -2.76       |\n",
      "|    explained_variance   | 0.000962    |\n",
      "|    learning_rate        | 0.001       |\n",
      "|    loss                 | 1.93e+04    |\n",
      "|    n_updates            | 30          |\n",
      "|    policy_gradient_loss | -0.0156     |\n",
      "|    std                  | 0.957       |\n",
      "|    value_loss           | 5.96e+04    |\n",
      "-----------------------------------------\n",
      "-----------------------------------------\n",
      "| rollout/                |             |\n",
      "|    ep_len_mean          | 12.1        |\n",
      "|    ep_rew_mean          | 31.3        |\n",
      "| time/                   |             |\n",
      "|    fps                  | 372         |\n",
      "|    iterations           | 5           |\n",
      "|    time_elapsed         | 3           |\n",
      "|    total_timesteps      | 1280        |\n",
      "| train/                  |             |\n",
      "|    approx_kl            | 0.006966236 |\n",
      "|    clip_fraction        | 0.0449      |\n",
      "|    clip_range           | 0.2         |\n",
      "|    entropy_loss         | -2.74       |\n",
      "|    explained_variance   | 0.0164      |\n",
      "|    learning_rate        | 0.001       |\n",
      "|    loss                 | 1.29e+03    |\n",
      "|    n_updates            | 40          |\n",
      "|    policy_gradient_loss | -0.0116     |\n",
      "|    std                  | 0.944       |\n",
      "|    value_loss           | 2.84e+03    |\n",
      "-----------------------------------------\n"
     ]
    }
   ],
   "source": [
    "model.learn(\n",
    "    total_timesteps=100_000, \n",
    "    callback = callback\n",
    "    )"
   ]
  },
  {
   "cell_type": "code",
   "execution_count": null,
   "metadata": {},
   "outputs": [],
   "source": [
    "model.save('PPO')\n",
    "logger.setLevel(logging.DEBUG)"
   ]
  },
  {
   "cell_type": "markdown",
   "metadata": {},
   "source": [
    "## Test Model"
   ]
  },
  {
   "cell_type": "code",
   "execution_count": null,
   "metadata": {},
   "outputs": [
    {
     "name": "stderr",
     "output_type": "stream",
     "text": [
      "DEBUG:root:reached goal\n",
      "--- Logging error ---\n",
      "Traceback (most recent call last):\n",
      "  File \"C:\\Users\\Luttk\\anaconda3\\envs\\rl-test\\lib\\logging\\__init__.py\", line 1083, in emit\n",
      "    msg = self.format(record)\n",
      "  File \"C:\\Users\\Luttk\\anaconda3\\envs\\rl-test\\lib\\logging\\__init__.py\", line 927, in format\n",
      "    return fmt.format(record)\n",
      "  File \"C:\\Users\\Luttk\\anaconda3\\envs\\rl-test\\lib\\logging\\__init__.py\", line 663, in format\n",
      "    record.message = record.getMessage()\n",
      "  File \"C:\\Users\\Luttk\\anaconda3\\envs\\rl-test\\lib\\logging\\__init__.py\", line 367, in getMessage\n",
      "    msg = msg % self.args\n",
      "TypeError: not all arguments converted during string formatting\n",
      "Call stack:\n",
      "  File \"c:\\Users\\Luttk\\.vscode-insiders\\extensions\\ms-toolsai.jupyter-2022.1.1001614873\\pythonFiles\\vscode_datascience_helpers\\kernel_prewarm_starter.py\", line 31, in <module>\n",
      "    runpy.run_module(module, run_name=\"__main__\", alter_sys=False)\n",
      "  File \"C:\\Users\\Luttk\\anaconda3\\envs\\rl-test\\lib\\runpy.py\", line 213, in run_module\n",
      "    return _run_code(code, {}, init_globals, run_name, mod_spec)\n",
      "  File \"C:\\Users\\Luttk\\anaconda3\\envs\\rl-test\\lib\\runpy.py\", line 87, in _run_code\n",
      "    exec(code, run_globals)\n",
      "  File \"C:\\Users\\Luttk\\anaconda3\\envs\\rl-test\\lib\\site-packages\\ipykernel_launcher.py\", line 16, in <module>\n",
      "    app.launch_new_instance()\n",
      "  File \"C:\\Users\\Luttk\\anaconda3\\envs\\rl-test\\lib\\site-packages\\traitlets\\config\\application.py\", line 846, in launch_instance\n",
      "    app.start()\n",
      "  File \"C:\\Users\\Luttk\\anaconda3\\envs\\rl-test\\lib\\site-packages\\ipykernel\\kernelapp.py\", line 677, in start\n",
      "    self.io_loop.start()\n",
      "  File \"C:\\Users\\Luttk\\anaconda3\\envs\\rl-test\\lib\\site-packages\\tornado\\platform\\asyncio.py\", line 199, in start\n",
      "    self.asyncio_loop.run_forever()\n",
      "  File \"C:\\Users\\Luttk\\anaconda3\\envs\\rl-test\\lib\\asyncio\\base_events.py\", line 596, in run_forever\n",
      "    self._run_once()\n",
      "  File \"C:\\Users\\Luttk\\anaconda3\\envs\\rl-test\\lib\\asyncio\\base_events.py\", line 1890, in _run_once\n",
      "    handle._run()\n",
      "  File \"C:\\Users\\Luttk\\anaconda3\\envs\\rl-test\\lib\\asyncio\\events.py\", line 80, in _run\n",
      "    self._context.run(self._callback, *self._args)\n",
      "  File \"C:\\Users\\Luttk\\anaconda3\\envs\\rl-test\\lib\\site-packages\\ipykernel\\kernelbase.py\", line 457, in dispatch_queue\n",
      "    await self.process_one()\n",
      "  File \"C:\\Users\\Luttk\\anaconda3\\envs\\rl-test\\lib\\site-packages\\ipykernel\\kernelbase.py\", line 446, in process_one\n",
      "    await dispatch(*args)\n",
      "  File \"C:\\Users\\Luttk\\anaconda3\\envs\\rl-test\\lib\\site-packages\\ipykernel\\kernelbase.py\", line 353, in dispatch_shell\n",
      "    await result\n",
      "  File \"C:\\Users\\Luttk\\anaconda3\\envs\\rl-test\\lib\\site-packages\\ipykernel\\kernelbase.py\", line 648, in execute_request\n",
      "    reply_content = await reply_content\n",
      "  File \"C:\\Users\\Luttk\\anaconda3\\envs\\rl-test\\lib\\site-packages\\ipykernel\\ipkernel.py\", line 353, in do_execute\n",
      "    res = shell.run_cell(code, store_history=store_history, silent=silent)\n",
      "  File \"C:\\Users\\Luttk\\anaconda3\\envs\\rl-test\\lib\\site-packages\\ipykernel\\zmqshell.py\", line 532, in run_cell\n",
      "    return super().run_cell(*args, **kwargs)\n",
      "  File \"C:\\Users\\Luttk\\anaconda3\\envs\\rl-test\\lib\\site-packages\\IPython\\core\\interactiveshell.py\", line 2914, in run_cell\n",
      "    result = self._run_cell(\n",
      "  File \"C:\\Users\\Luttk\\anaconda3\\envs\\rl-test\\lib\\site-packages\\IPython\\core\\interactiveshell.py\", line 2960, in _run_cell\n",
      "    return runner(coro)\n",
      "  File \"C:\\Users\\Luttk\\anaconda3\\envs\\rl-test\\lib\\site-packages\\IPython\\core\\async_helpers.py\", line 78, in _pseudo_sync_runner\n",
      "    coro.send(None)\n",
      "  File \"C:\\Users\\Luttk\\anaconda3\\envs\\rl-test\\lib\\site-packages\\IPython\\core\\interactiveshell.py\", line 3185, in run_cell_async\n",
      "    has_raised = await self.run_ast_nodes(code_ast.body, cell_name,\n",
      "  File \"C:\\Users\\Luttk\\anaconda3\\envs\\rl-test\\lib\\site-packages\\IPython\\core\\interactiveshell.py\", line 3377, in run_ast_nodes\n",
      "    if (await self.run_code(code, result,  async_=asy)):\n",
      "  File \"C:\\Users\\Luttk\\anaconda3\\envs\\rl-test\\lib\\site-packages\\IPython\\core\\interactiveshell.py\", line 3457, in run_code\n",
      "    exec(code_obj, self.user_global_ns, self.user_ns)\n",
      "  File \"C:\\Users\\Luttk\\AppData\\Local\\Temp/ipykernel_24396/1726874920.py\", line 11, in <module>\n",
      "    env.render()\n",
      "  File \"C:\\Users\\Luttk\\AppData\\Local\\Temp/ipykernel_24396/3146099043.py\", line 88, in render\n",
      "    logging.debug(\"visited states: \", self.state_array)\n",
      "Message: 'visited states: '\n",
      "Arguments: ([[8.311574578890038, 7.311574578890038], [2.7876480000487036, 3.7876480000487036]],)\n",
      "DEBUG:root:x: [8.311574578890038, 7.311574578890038]\n",
      "DEBUG:root:y: [2.7876480000487036, 3.7876480000487036]\n",
      "DEBUG:root:goal: [6.43981691 3.45528135]\n"
     ]
    },
    {
     "name": "stdout",
     "output_type": "stream",
     "text": [
      "info {'distance_to_goal': 0.9329678530459768, 'steps_taken': 1, 'previous_state': array([7.31157458, 3.787648  , 6.43981691, 3.45528135]), 'new_state': array([7.31157458, 3.787648  , 6.43981691, 3.45528135])}\n"
     ]
    },
    {
     "data": {
      "image/png": "[encoded data removed]",
      "text/plain": [
       "<Figure size 432x288 with 1 Axes>"
      ]
     },
     "metadata": {
      "needs_background": "light"
     },
     "output_type": "display_data"
    }
   ],
   "source": [
    "# test prediction\n",
    "env = SimpleWalk2Dcont()\n",
    "env.reset()\n",
    "\n",
    "while True:\n",
    "    action, _states = model.predict(env.state)\n",
    "    obs, rewards, done, info = env.step(action)\n",
    "    if done:\n",
    "        print(\"info\", info)\n",
    "        break\n",
    "env.render()\n"
   ]
  },
  {
   "cell_type": "code",
   "execution_count": null,
   "metadata": {},
   "outputs": [
    {
     "name": "stderr",
     "output_type": "stream",
     "text": [
      "DEBUG:root:got closer\n",
      "DEBUG:root:got closer\n",
      "DEBUG:root:got closer\n",
      "DEBUG:root:got closer\n",
      "DEBUG:root:got closer\n",
      "DEBUG:root:reached goal\n",
      "--- Logging error ---\n",
      "Traceback (most recent call last):\n",
      "  File \"C:\\Users\\Luttk\\anaconda3\\envs\\rl-test\\lib\\logging\\__init__.py\", line 1083, in emit\n",
      "    msg = self.format(record)\n",
      "  File \"C:\\Users\\Luttk\\anaconda3\\envs\\rl-test\\lib\\logging\\__init__.py\", line 927, in format\n",
      "    return fmt.format(record)\n",
      "  File \"C:\\Users\\Luttk\\anaconda3\\envs\\rl-test\\lib\\logging\\__init__.py\", line 663, in format\n",
      "    record.message = record.getMessage()\n",
      "  File \"C:\\Users\\Luttk\\anaconda3\\envs\\rl-test\\lib\\logging\\__init__.py\", line 367, in getMessage\n",
      "    msg = msg % self.args\n",
      "TypeError: not all arguments converted during string formatting\n",
      "Call stack:\n",
      "  File \"c:\\Users\\Luttk\\.vscode-insiders\\extensions\\ms-toolsai.jupyter-2022.1.1001614873\\pythonFiles\\vscode_datascience_helpers\\kernel_prewarm_starter.py\", line 31, in <module>\n",
      "    runpy.run_module(module, run_name=\"__main__\", alter_sys=False)\n",
      "  File \"C:\\Users\\Luttk\\anaconda3\\envs\\rl-test\\lib\\runpy.py\", line 213, in run_module\n",
      "    return _run_code(code, {}, init_globals, run_name, mod_spec)\n",
      "  File \"C:\\Users\\Luttk\\anaconda3\\envs\\rl-test\\lib\\runpy.py\", line 87, in _run_code\n",
      "    exec(code, run_globals)\n",
      "  File \"C:\\Users\\Luttk\\anaconda3\\envs\\rl-test\\lib\\site-packages\\ipykernel_launcher.py\", line 16, in <module>\n",
      "    app.launch_new_instance()\n",
      "  File \"C:\\Users\\Luttk\\anaconda3\\envs\\rl-test\\lib\\site-packages\\traitlets\\config\\application.py\", line 846, in launch_instance\n",
      "    app.start()\n",
      "  File \"C:\\Users\\Luttk\\anaconda3\\envs\\rl-test\\lib\\site-packages\\ipykernel\\kernelapp.py\", line 677, in start\n",
      "    self.io_loop.start()\n",
      "  File \"C:\\Users\\Luttk\\anaconda3\\envs\\rl-test\\lib\\site-packages\\tornado\\platform\\asyncio.py\", line 199, in start\n",
      "    self.asyncio_loop.run_forever()\n",
      "  File \"C:\\Users\\Luttk\\anaconda3\\envs\\rl-test\\lib\\asyncio\\base_events.py\", line 596, in run_forever\n",
      "    self._run_once()\n",
      "  File \"C:\\Users\\Luttk\\anaconda3\\envs\\rl-test\\lib\\asyncio\\base_events.py\", line 1890, in _run_once\n",
      "    handle._run()\n",
      "  File \"C:\\Users\\Luttk\\anaconda3\\envs\\rl-test\\lib\\asyncio\\events.py\", line 80, in _run\n",
      "    self._context.run(self._callback, *self._args)\n",
      "  File \"C:\\Users\\Luttk\\anaconda3\\envs\\rl-test\\lib\\site-packages\\ipykernel\\kernelbase.py\", line 457, in dispatch_queue\n",
      "    await self.process_one()\n",
      "  File \"C:\\Users\\Luttk\\anaconda3\\envs\\rl-test\\lib\\site-packages\\ipykernel\\kernelbase.py\", line 446, in process_one\n",
      "    await dispatch(*args)\n",
      "  File \"C:\\Users\\Luttk\\anaconda3\\envs\\rl-test\\lib\\site-packages\\ipykernel\\kernelbase.py\", line 353, in dispatch_shell\n",
      "    await result\n",
      "  File \"C:\\Users\\Luttk\\anaconda3\\envs\\rl-test\\lib\\site-packages\\ipykernel\\kernelbase.py\", line 648, in execute_request\n",
      "    reply_content = await reply_content\n",
      "  File \"C:\\Users\\Luttk\\anaconda3\\envs\\rl-test\\lib\\site-packages\\ipykernel\\ipkernel.py\", line 353, in do_execute\n",
      "    res = shell.run_cell(code, store_history=store_history, silent=silent)\n",
      "  File \"C:\\Users\\Luttk\\anaconda3\\envs\\rl-test\\lib\\site-packages\\ipykernel\\zmqshell.py\", line 532, in run_cell\n",
      "    return super().run_cell(*args, **kwargs)\n",
      "  File \"C:\\Users\\Luttk\\anaconda3\\envs\\rl-test\\lib\\site-packages\\IPython\\core\\interactiveshell.py\", line 2914, in run_cell\n",
      "    result = self._run_cell(\n",
      "  File \"C:\\Users\\Luttk\\anaconda3\\envs\\rl-test\\lib\\site-packages\\IPython\\core\\interactiveshell.py\", line 2960, in _run_cell\n",
      "    return runner(coro)\n",
      "  File \"C:\\Users\\Luttk\\anaconda3\\envs\\rl-test\\lib\\site-packages\\IPython\\core\\async_helpers.py\", line 78, in _pseudo_sync_runner\n",
      "    coro.send(None)\n",
      "  File \"C:\\Users\\Luttk\\anaconda3\\envs\\rl-test\\lib\\site-packages\\IPython\\core\\interactiveshell.py\", line 3185, in run_cell_async\n",
      "    has_raised = await self.run_ast_nodes(code_ast.body, cell_name,\n",
      "  File \"C:\\Users\\Luttk\\anaconda3\\envs\\rl-test\\lib\\site-packages\\IPython\\core\\interactiveshell.py\", line 3377, in run_ast_nodes\n",
      "    if (await self.run_code(code, result,  async_=asy)):\n",
      "  File \"C:\\Users\\Luttk\\anaconda3\\envs\\rl-test\\lib\\site-packages\\IPython\\core\\interactiveshell.py\", line 3457, in run_code\n",
      "    exec(code_obj, self.user_global_ns, self.user_ns)\n",
      "  File \"C:\\Users\\Luttk\\AppData\\Local\\Temp/ipykernel_24396/1726874920.py\", line 11, in <module>\n",
      "    env.render()\n",
      "  File \"C:\\Users\\Luttk\\AppData\\Local\\Temp/ipykernel_24396/3146099043.py\", line 88, in render\n",
      "    logging.debug(\"visited states: \", self.state_array)\n",
      "Message: 'visited states: '\n",
      "Arguments: ([[6.145579383050475, 7.145579383050475, 8.006905064260039, 8.260351285611662, 9.225567385827574, 8.889398500596556, 8.144911572610411], [1.268042658622276, 2.268042658622276, 3.268042658622276, 4.268042658622276, 5.268042658622276, 6.268042658622276, 7.268042658622276]],)\n",
      "DEBUG:root:x: [6.145579383050475, 7.145579383050475, 8.006905064260039, 8.260351285611662, 9.225567385827574, 8.889398500596556, 8.144911572610411]\n",
      "DEBUG:root:y: [1.268042658622276, 2.268042658622276, 3.268042658622276, 4.268042658622276, 5.268042658622276, 6.268042658622276, 7.268042658622276]\n",
      "DEBUG:root:goal: [8.54433969 7.77347227]\n"
     ]
    },
    {
     "name": "stdout",
     "output_type": "stream",
     "text": [
      "info {'distance_to_goal': 0.6442064237367089, 'steps_taken': 6, 'previous_state': array([8.14491157, 7.26804266, 8.54433969, 7.77347227]), 'new_state': array([8.14491157, 7.26804266, 8.54433969, 7.77347227])}\n"
     ]
    },
    {
     "data": {
      "image/png": "[encoded data removed]",
      "text/plain": [
       "<Figure size 432x288 with 1 Axes>"
      ]
     },
     "metadata": {
      "needs_background": "light"
     },
     "output_type": "display_data"
    }
   ],
   "source": [
    "# test prediction\n",
    "env = SimpleWalk2Dcont()\n",
    "env.reset()\n",
    "\n",
    "while True:\n",
    "    action, _states = model.predict(env.state)\n",
    "    obs, rewards, done, info = env.step(action)\n",
    "    if done:\n",
    "        print(\"info\", info)\n",
    "        break\n",
    "env.render()\n"
   ]
  },
  {
   "cell_type": "code",
   "execution_count": null,
   "metadata": {},
   "outputs": [
    {
     "name": "stderr",
     "output_type": "stream",
     "text": [
      "C:\\Users\\Luttk\\anaconda3\\envs\\rl-test\\lib\\site-packages\\stable_baselines3\\common\\evaluation.py:65: UserWarning: Evaluation environment is not wrapped with a ``Monitor`` wrapper. This may result in reporting modified episode lengths and rewards, if other wrappers happen to modify these. Consider wrapping environment first with ``Monitor`` wrapper.\n",
      "  warnings.warn(\n",
      "DEBUG:root:reached goal\n",
      "DEBUG:root:got closer\n",
      "DEBUG:root:got closer\n",
      "DEBUG:root:reached goal\n",
      "DEBUG:root:got closer\n",
      "DEBUG:root:got closer\n",
      "DEBUG:root:got closer\n",
      "DEBUG:root:got closer\n",
      "DEBUG:root:got closer\n",
      "DEBUG:root:reached goal\n",
      "DEBUG:root:got closer\n",
      "DEBUG:root:got closer\n",
      "DEBUG:root:got closer\n",
      "DEBUG:root:reached goal\n",
      "DEBUG:root:got closer\n",
      "DEBUG:root:got closer\n",
      "DEBUG:root:reached goal\n",
      "DEBUG:root:got closer\n",
      "DEBUG:root:got closer\n",
      "DEBUG:root:reached goal\n",
      "DEBUG:root:reached goal\n",
      "DEBUG:root:got closer\n",
      "DEBUG:root:got closer\n",
      "DEBUG:root:got closer\n",
      "DEBUG:root:got closer\n",
      "DEBUG:root:got closer\n",
      "DEBUG:root:got closer\n",
      "DEBUG:root:reached goal\n",
      "DEBUG:root:got closer\n",
      "DEBUG:root:got closer\n",
      "DEBUG:root:reached goal\n",
      "DEBUG:root:got closer\n",
      "DEBUG:root:got closer\n",
      "DEBUG:root:reached goal\n"
     ]
    },
    {
     "data": {
      "text/plain": [
       "(1024.0, 18.0)"
      ]
     },
     "execution_count": 40,
     "metadata": {},
     "output_type": "execute_result"
    }
   ],
   "source": [
    "evaluate_policy(model, env, n_eval_episodes=10, render=False)"
   ]
  },
  {
   "cell_type": "code",
   "execution_count": null,
   "metadata": {},
   "outputs": [
    {
     "name": "stderr",
     "output_type": "stream",
     "text": [
      "INFO:root:Episode:1 Score:1080.0\n"
     ]
    },
    {
     "data": {
      "image/png": "[encoded data removed]",
      "text/plain": [
       "<Figure size 432x288 with 1 Axes>"
      ]
     },
     "metadata": {
      "needs_background": "light"
     },
     "output_type": "display_data"
    },
    {
     "name": "stderr",
     "output_type": "stream",
     "text": [
      "INFO:root:Episode:2 Score:1050.0\n"
     ]
    },
    {
     "data": {
      "image/png": "[encoded data removed]",
      "text/plain": [
       "<Figure size 432x288 with 1 Axes>"
      ]
     },
     "metadata": {
      "needs_background": "light"
     },
     "output_type": "display_data"
    },
    {
     "name": "stderr",
     "output_type": "stream",
     "text": [
      "INFO:root:Episode:3 Score:1000.0\n"
     ]
    },
    {
     "data": {
      "image/png": "[encoded data removed]",
      "text/plain": [
       "<Figure size 432x288 with 1 Axes>"
      ]
     },
     "metadata": {
      "needs_background": "light"
     },
     "output_type": "display_data"
    },
    {
     "name": "stderr",
     "output_type": "stream",
     "text": [
      "INFO:root:Episode:4 Score:1020.0\n"
     ]
    },
    {
     "data": {
      "image/png": "[encoded data removed]",
      "text/plain": [
       "<Figure size 432x288 with 1 Axes>"
      ]
     },
     "metadata": {
      "needs_background": "light"
     },
     "output_type": "display_data"
    },
    {
     "name": "stderr",
     "output_type": "stream",
     "text": [
      "INFO:root:Episode:5 Score:1040.0\n"
     ]
    },
    {
     "data": {
      "image/png": "[encoded data removed]",
      "text/plain": [
       "<Figure size 432x288 with 1 Axes>"
      ]
     },
     "metadata": {
      "needs_background": "light"
     },
     "output_type": "display_data"
    },
    {
     "name": "stderr",
     "output_type": "stream",
     "text": [
      "INFO:root:Episode:6 Score:1020.0\n"
     ]
    },
    {
     "data": {
      "image/png": "[encoded data removed]",
      "text/plain": [
       "<Figure size 432x288 with 1 Axes>"
      ]
     },
     "metadata": {
      "needs_background": "light"
     },
     "output_type": "display_data"
    },
    {
     "name": "stderr",
     "output_type": "stream",
     "text": [
      "INFO:root:Episode:7 Score:1050.0\n"
     ]
    },
    {
     "data": {
      "image/png": "[encoded data removed]",
      "text/plain": [
       "<Figure size 432x288 with 1 Axes>"
      ]
     },
     "metadata": {
      "needs_background": "light"
     },
     "output_type": "display_data"
    },
    {
     "name": "stderr",
     "output_type": "stream",
     "text": [
      "INFO:root:Episode:8 Score:1060.0\n"
     ]
    },
    {
     "data": {
      "image/png": "[encoded data removed]",
      "text/plain": [
       "<Figure size 432x288 with 1 Axes>"
      ]
     },
     "metadata": {
      "needs_background": "light"
     },
     "output_type": "display_data"
    },
    {
     "name": "stderr",
     "output_type": "stream",
     "text": [
      "INFO:root:Episode:9 Score:1030.0\n"
     ]
    },
    {
     "data": {
      "image/png": "[encoded data removed]",
      "text/plain": [
       "<Figure size 432x288 with 1 Axes>"
      ]
     },
     "metadata": {
      "needs_background": "light"
     },
     "output_type": "display_data"
    },
    {
     "name": "stderr",
     "output_type": "stream",
     "text": [
      "INFO:root:Episode:10 Score:1050.0\n"
     ]
    },
    {
     "data": {
      "image/png": "[encoded data removed]",
      "text/plain": [
       "<Figure size 432x288 with 1 Axes>"
      ]
     },
     "metadata": {
      "needs_background": "light"
     },
     "output_type": "display_data"
    }
   ],
   "source": [
    "logger.setLevel(logging.INFO)\n",
    "env = SimpleWalk2Dcont()\n",
    "episodes = 10\n",
    "for episode in range(1, episodes+1):\n",
    "    state = env.reset()\n",
    "    done = False\n",
    "    score = 0 \n",
    "    \n",
    "    while not done:\n",
    "        # env.render()\n",
    "        action, _state = model.predict(state)\n",
    "        n_state, reward, done, info = env.step(action)\n",
    "        logging.debug('Steps taken: {}'.format(info['steps_taken']))\n",
    "        logging.debug('distance to goal: {}'.format(info['distance_to_goal']))\n",
    "        score+=reward\n",
    "    logging.info('Episode:{} Score:{}'.format(episode, score))\n",
    "    env.render()\n",
    "env.close()"
   ]
  },
  {
   "cell_type": "markdown",
   "metadata": {},
   "source": [
    "## TODO\n",
    "\n",
    "```shell\n",
    "C:\\Users\\Luttk\\anaconda3\\envs\\rl-test\\lib\\site-packages\\stable_baselines3\\common\\env_checker.py:130: UserWarning: Your observation  has an unconventional shape (neither an image, nor a 1D vector). We recommend you to flatten the observation to have only a 1D vector or use a custom policy to properly process the data.\n",
    "  warnings.warn(\n",
    "```"
   ]
  }
 ],
 "metadata": {
  "interpreter": {
   "hash": "aff22e454c7c7c2b414196c91e128cfd95ef64f890c08d8c85042177f44e9549"
  },
  "kernelspec": {
   "display_name": "Python 3.9.7 64-bit ('rl-test': conda)",
   "language": "python",
   "name": "python3"
  },
  "language_info": {
   "codemirror_mode": {
    "name": "ipython",
    "version": 3
   },
   "file_extension": ".py",
   "mimetype": "text/x-python",
   "name": "python",
   "nbconvert_exporter": "python",
   "pygments_lexer": "ipython3",
   "version": "3.9.7"
  },
  "orig_nbformat": 4
 },
 "nbformat": 4,
 "nbformat_minor": 2
}
