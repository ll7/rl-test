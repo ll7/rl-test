{
 "cells": [
  {
   "cell_type": "markdown",
   "metadata": {},
   "source": [
    "## Train Model"
   ]
  },
  {
   "cell_type": "code",
   "execution_count": 1,
   "metadata": {},
   "outputs": [],
   "source": [
    "import os\n",
    "import logging\n",
    "from stable_baselines3 import PPO\n",
    "from stable_baselines3.common.callbacks import BaseCallback\n",
    "\n",
    "logger = logging.getLogger()\n",
    "logger.setLevel(logging.INFO)\n",
    "\n",
    "from SimpleWalk2D import SimpleWalk2DDynGoal\n",
    "\n",
    "env = SimpleWalk2DDynGoal()"
   ]
  },
  {
   "cell_type": "markdown",
   "metadata": {},
   "source": [
    "### Train Callback"
   ]
  },
  {
   "cell_type": "code",
   "execution_count": 3,
   "metadata": {},
   "outputs": [],
   "source": [
    "class TrainAndLoggingCallback(BaseCallback):\n",
    "    \n",
    "    def __init__(self, check_freq, save_path, verbose=1):\n",
    "        super(TrainAndLoggingCallback, self).__init__(verbose)\n",
    "        self.check_freq = check_freq\n",
    "        self.save_path = save_path\n",
    "        \n",
    "    def _init_callback(self):\n",
    "        if self.save_path is not None:\n",
    "            os.makedirs(self.save_path, exist_ok = True)\n",
    "            \n",
    "    def _on_step(self):\n",
    "        if self.n_calls % self.check_freq == 0:\n",
    "            model_path = os.path.join(self.save_path, 'best_model_{}'.format(self.n_calls))\n",
    "            self.model.save(model_path)\n",
    "            \n",
    "        return True"
   ]
  },
  {
   "cell_type": "markdown",
   "metadata": {},
   "source": [
    "### Optuna\n"
   ]
  },
  {
   "cell_type": "code",
   "execution_count": 4,
   "metadata": {},
   "outputs": [
    {
     "name": "stderr",
     "output_type": "stream",
     "text": [
      "\u001b[32m[I 2022-02-23 15:03:57,154]\u001b[0m A new study created in memory with name: no-name-e95fcb09-307f-452a-8274-7f7fb8b92e75\u001b[0m\n",
      "/home/luttkule/anaconda3/envs/rl-test/lib/python3.9/site-packages/stable_baselines3/common/evaluation.py:65: UserWarning: Evaluation environment is not wrapped with a ``Monitor`` wrapper. This may result in reporting modified episode lengths and rewards, if other wrappers happen to modify these. Consider wrapping environment first with ``Monitor`` wrapper.\n",
      "  warnings.warn(\n",
      "\u001b[32m[I 2022-02-23 15:04:15,574]\u001b[0m Trial 0 finished with value: -2825.951187515259 and parameters: {'n_steps': 2240.0, 'gamma': 0.9262979106018139, 'learning_rate': 1.0866984847424635e-05, 'clip_range': 0.1731952074323872, 'gae_lambda': 0.8330935898388411}. Best is trial 0 with value: -2825.951187515259.\u001b[0m\n",
      "/home/luttkule/anaconda3/envs/rl-test/lib/python3.9/site-packages/stable_baselines3/common/evaluation.py:65: UserWarning: Evaluation environment is not wrapped with a ``Monitor`` wrapper. This may result in reporting modified episode lengths and rewards, if other wrappers happen to modify these. Consider wrapping environment first with ``Monitor`` wrapper.\n",
      "  warnings.warn(\n",
      "\u001b[32m[I 2022-02-23 15:04:36,709]\u001b[0m Trial 1 finished with value: -2611.662469482422 and parameters: {'n_steps': 4864.0, 'gamma': 0.9795389760022079, 'learning_rate': 2.4505466158789565e-05, 'clip_range': 0.27770702801511526, 'gae_lambda': 0.8936983108609834}. Best is trial 1 with value: -2611.662469482422.\u001b[0m\n",
      "/home/luttkule/anaconda3/envs/rl-test/lib/python3.9/site-packages/stable_baselines3/common/evaluation.py:65: UserWarning: Evaluation environment is not wrapped with a ``Monitor`` wrapper. This may result in reporting modified episode lengths and rewards, if other wrappers happen to modify these. Consider wrapping environment first with ``Monitor`` wrapper.\n",
      "  warnings.warn(\n",
      "\u001b[32m[I 2022-02-23 15:04:51,757]\u001b[0m Trial 2 finished with value: -2967.5704330444337 and parameters: {'n_steps': 3520.0, 'gamma': 0.8711331751275085, 'learning_rate': 1.4191708910663331e-05, 'clip_range': 0.14846160582498596, 'gae_lambda': 0.8624159437181244}. Best is trial 1 with value: -2611.662469482422.\u001b[0m\n",
      "/home/luttkule/anaconda3/envs/rl-test/lib/python3.9/site-packages/stable_baselines3/common/evaluation.py:65: UserWarning: Evaluation environment is not wrapped with a ``Monitor`` wrapper. This may result in reporting modified episode lengths and rewards, if other wrappers happen to modify these. Consider wrapping environment first with ``Monitor`` wrapper.\n",
      "  warnings.warn(\n",
      "\u001b[32m[I 2022-02-23 15:05:08,160]\u001b[0m Trial 3 finished with value: -2510.1576362609862 and parameters: {'n_steps': 3904.0, 'gamma': 0.8761069640352156, 'learning_rate': 2.293517437485888e-05, 'clip_range': 0.3939465261561762, 'gae_lambda': 0.849781759269297}. Best is trial 3 with value: -2510.1576362609862.\u001b[0m\n",
      "/home/luttkule/anaconda3/envs/rl-test/lib/python3.9/site-packages/stable_baselines3/common/evaluation.py:65: UserWarning: Evaluation environment is not wrapped with a ``Monitor`` wrapper. This may result in reporting modified episode lengths and rewards, if other wrappers happen to modify these. Consider wrapping environment first with ``Monitor`` wrapper.\n",
      "  warnings.warn(\n",
      "\u001b[32m[I 2022-02-23 15:05:23,916]\u001b[0m Trial 4 finished with value: -2853.866330718994 and parameters: {'n_steps': 1216.0, 'gamma': 0.8760298030702034, 'learning_rate': 1.0088924395269155e-05, 'clip_range': 0.30469922928252857, 'gae_lambda': 0.8023195531809714}. Best is trial 3 with value: -2510.1576362609862.\u001b[0m\n",
      "/home/luttkule/anaconda3/envs/rl-test/lib/python3.9/site-packages/stable_baselines3/common/evaluation.py:65: UserWarning: Evaluation environment is not wrapped with a ``Monitor`` wrapper. This may result in reporting modified episode lengths and rewards, if other wrappers happen to modify these. Consider wrapping environment first with ``Monitor`` wrapper.\n",
      "  warnings.warn(\n",
      "\u001b[32m[I 2022-02-23 15:05:42,252]\u001b[0m Trial 5 finished with value: -2222.246965789795 and parameters: {'n_steps': 4288.0, 'gamma': 0.8397516400648914, 'learning_rate': 7.410761504606029e-05, 'clip_range': 0.22363240058149947, 'gae_lambda': 0.9182514562903682}. Best is trial 5 with value: -2222.246965789795.\u001b[0m\n",
      "/home/luttkule/anaconda3/envs/rl-test/lib/python3.9/site-packages/stable_baselines3/common/evaluation.py:65: UserWarning: Evaluation environment is not wrapped with a ``Monitor`` wrapper. This may result in reporting modified episode lengths and rewards, if other wrappers happen to modify these. Consider wrapping environment first with ``Monitor`` wrapper.\n",
      "  warnings.warn(\n",
      "\u001b[32m[I 2022-02-23 15:05:58,588]\u001b[0m Trial 6 finished with value: -2616.2952211380007 and parameters: {'n_steps': 2880.0, 'gamma': 0.9856470835613286, 'learning_rate': 9.886202956266329e-05, 'clip_range': 0.29493986853278253, 'gae_lambda': 0.8361522595257979}. Best is trial 5 with value: -2222.246965789795.\u001b[0m\n",
      "/home/luttkule/anaconda3/envs/rl-test/lib/python3.9/site-packages/stable_baselines3/common/evaluation.py:65: UserWarning: Evaluation environment is not wrapped with a ``Monitor`` wrapper. This may result in reporting modified episode lengths and rewards, if other wrappers happen to modify these. Consider wrapping environment first with ``Monitor`` wrapper.\n",
      "  warnings.warn(\n",
      "\u001b[32m[I 2022-02-23 15:06:15,055]\u001b[0m Trial 7 finished with value: -2793.6654483795164 and parameters: {'n_steps': 2816.0, 'gamma': 0.9931491403548154, 'learning_rate': 1.1993552902998334e-05, 'clip_range': 0.3449248719143815, 'gae_lambda': 0.878133851563565}. Best is trial 5 with value: -2222.246965789795.\u001b[0m\n",
      "/home/luttkule/anaconda3/envs/rl-test/lib/python3.9/site-packages/stable_baselines3/common/evaluation.py:65: UserWarning: Evaluation environment is not wrapped with a ``Monitor`` wrapper. This may result in reporting modified episode lengths and rewards, if other wrappers happen to modify these. Consider wrapping environment first with ``Monitor`` wrapper.\n",
      "  warnings.warn(\n",
      "\u001b[32m[I 2022-02-23 15:06:38,448]\u001b[0m Trial 8 finished with value: -2556.7217811584474 and parameters: {'n_steps': 8064.0, 'gamma': 0.9515352002382843, 'learning_rate': 1.5601180623411686e-05, 'clip_range': 0.11514071028911729, 'gae_lambda': 0.9411948317422938}. Best is trial 5 with value: -2222.246965789795.\u001b[0m\n",
      "/home/luttkule/anaconda3/envs/rl-test/lib/python3.9/site-packages/stable_baselines3/common/evaluation.py:65: UserWarning: Evaluation environment is not wrapped with a ``Monitor`` wrapper. This may result in reporting modified episode lengths and rewards, if other wrappers happen to modify these. Consider wrapping environment first with ``Monitor`` wrapper.\n",
      "  warnings.warn(\n",
      "\u001b[32m[I 2022-02-23 15:06:59,332]\u001b[0m Trial 9 finished with value: -2854.220204544067 and parameters: {'n_steps': 7232.0, 'gamma': 0.9317068079524846, 'learning_rate': 2.32510247235384e-05, 'clip_range': 0.3975571876002618, 'gae_lambda': 0.9021687274006357}. Best is trial 5 with value: -2222.246965789795.\u001b[0m\n"
     ]
    },
    {
     "data": {
      "text/plain": [
       "FrozenTrial(number=5, values=[-2222.246965789795], datetime_start=datetime.datetime(2022, 2, 23, 15, 5, 23, 917243), datetime_complete=datetime.datetime(2022, 2, 23, 15, 5, 42, 252309), params={'n_steps': 4288.0, 'gamma': 0.8397516400648914, 'learning_rate': 7.410761504606029e-05, 'clip_range': 0.22363240058149947, 'gae_lambda': 0.9182514562903682}, distributions={'n_steps': DiscreteUniformDistribution(high=8192.0, low=256.0, q=64.0), 'gamma': LogUniformDistribution(high=0.9999, low=0.8), 'learning_rate': LogUniformDistribution(high=0.0001, low=1e-05), 'clip_range': UniformDistribution(high=0.4, low=0.1), 'gae_lambda': UniformDistribution(high=0.99, low=0.8)}, user_attrs={}, system_attrs={}, intermediate_values={}, trial_id=5, state=TrialState.COMPLETE, value=None)"
      ]
     },
     "execution_count": 4,
     "metadata": {},
     "output_type": "execute_result"
    }
   ],
   "source": [
    "# Importing the optimzation frame - HPO\n",
    "import optuna\n",
    "# PPO algo for RL\n",
    "from stable_baselines3 import PPO\n",
    "# Bring in the eval policy method for metric calculation\n",
    "from stable_baselines3.common.evaluation import evaluate_policy\n",
    "# Import the sb3 monitor for logging \n",
    "from stable_baselines3.common.monitor import Monitor\n",
    "# Import the vec wrappers to vectorize and frame stack\n",
    "from stable_baselines3.common.vec_env import DummyVecEnv, VecFrameStack\n",
    "# Import os to deal with filepaths\n",
    "import os\n",
    "\n",
    "\n",
    "# Function to return test hyperparameters - define the object function\n",
    "\n",
    "LOG_DIR = './train/logs/'\n",
    "OPT_DIR = './train/opt/'\n",
    "\n",
    "def optimize_ppo(trial): \n",
    "    return {\n",
    "        'n_steps':int(trial.suggest_discrete_uniform('n_steps', 256, 8192, 64)),\n",
    "        'gamma':trial.suggest_loguniform('gamma', 0.8, 0.9999),\n",
    "        'learning_rate':trial.suggest_loguniform('learning_rate', 1e-5, 1e-4),\n",
    "        'clip_range':trial.suggest_uniform('clip_range', 0.1, 0.4),\n",
    "        'gae_lambda':trial.suggest_uniform('gae_lambda', 0.8, 0.99)\n",
    "    }\n",
    "    \n",
    "SAVE_PATH = os.path.join(OPT_DIR, 'trial_{}_best_model'.format(1))\n",
    "\n",
    "# Run a training loop and return mean reward \n",
    "def optimize_agent(trial):\n",
    "    #try:\n",
    "    model_params = optimize_ppo(trial) \n",
    "\n",
    "    # Create environment \n",
    "    \"\"\" env = SimpleWalk2DDynGoal()\n",
    "    env = Monitor(env, LOG_DIR)\n",
    "    env = DummyVecEnv([lambda: env])\n",
    "    env = VecFrameStack(env, 4, channels_order='last') \"\"\"\n",
    "\n",
    "    # Create algo \n",
    "    model = PPO(\n",
    "        'MlpPolicy', \n",
    "        env, \n",
    "        tensorboard_log=LOG_DIR, \n",
    "        verbose=0, \n",
    "        **model_params)\n",
    "    model.learn(total_timesteps=10_000)\n",
    "    #model.learn(total_timesteps=100000)\n",
    "\n",
    "    # Evaluate model \n",
    "    mean_reward, _ = evaluate_policy(model, env, n_eval_episodes=10)\n",
    "    env.close()\n",
    "\n",
    "    SAVE_PATH = os.path.join(OPT_DIR, 'trial_{}_best_model'.format(trial.number))\n",
    "    model.save(SAVE_PATH)\n",
    "\n",
    "    return mean_reward\n",
    "\n",
    "\"\"\"     except Exception as e:\n",
    "        print(e)\n",
    "        return -1000 \"\"\"\n",
    "    \n",
    "# Creating the experiment \n",
    "study = optuna.create_study(direction='maximize')\n",
    "study.optimize(optimize_agent, n_trials=10, n_jobs=1)\n",
    "#study.optimize(optimize_agent, n_trials=100, n_jobs=1)\n",
    "\n",
    "study.best_params\n",
    "\n",
    "study.best_trial\n",
    "\n",
    "#model = PPO.load(os.path.join(OPT_DIR, 'trial_5_best_model.zip'))\n"
   ]
  },
  {
   "cell_type": "markdown",
   "metadata": {},
   "source": []
  },
  {
   "cell_type": "code",
   "execution_count": null,
   "metadata": {},
   "outputs": [],
   "source": [
    "\"\"\"\n",
    "env_name = 'SW2DDynGoal'\n",
    "\n",
    "CHECKPOINT_DIR = './train/train_' + env_name\n",
    "LOG_DIR = './train/log_' + env_name\n",
    "\n",
    "callback = TrainAndLoggingCallback(check_freq=10_000, save_path=CHECKPOINT_DIR)\n",
    "\n",
    "log_path = os.path.join('Training', 'Logs')\n",
    "\n",
    "model = PPO(\n",
    "    \"MlpPolicy\", \n",
    "    env, \n",
    "    verbose=0, \n",
    "    tensorboard_log=log_path,\n",
    "    #learning_rate=0.0001,\n",
    "    #n_steps =2048\n",
    "    )\n",
    "logger.setLevel(logging.INFO)\n",
    "\n",
    "model.learn(\n",
    "    total_timesteps=300_000, \n",
    "    callback = callback\n",
    "    )\n",
    "\n",
    "model.save('PPO')\n",
    "\n",
    "logger.setLevel(logging.DEBUG)\n",
    "\"\"\""
   ]
  },
  {
   "cell_type": "markdown",
   "metadata": {},
   "source": [
    "## Test Model"
   ]
  },
  {
   "cell_type": "code",
   "execution_count": null,
   "metadata": {},
   "outputs": [],
   "source": [
    "from stable_baselines3 import PPO\n",
    "from SimpleWalk2D import SimpleWalk2DDynGoal\n",
    "\n",
    "env = SimpleWalk2DDynGoal()\n",
    "\n",
    "model = PPO.load(\"PPO\", env=env)"
   ]
  },
  {
   "cell_type": "code",
   "execution_count": null,
   "metadata": {},
   "outputs": [],
   "source": [
    "\n",
    "# test prediction\n",
    "logger.setLevel(logging.DEBUG)\n",
    "\n",
    "episodes = 10\n",
    "for episode in range(episodes):\n",
    "    env.reset()\n",
    "\n",
    "    while True:\n",
    "        action, _states = model.predict(env.state)\n",
    "        obs, rewards, done, info = env.step(action)\n",
    "        if done:\n",
    "            print('done')\n",
    "            print(\"info\", info)\n",
    "            break\n",
    "    env.render()"
   ]
  },
  {
   "cell_type": "code",
   "execution_count": null,
   "metadata": {},
   "outputs": [],
   "source": []
  },
  {
   "cell_type": "code",
   "execution_count": null,
   "metadata": {},
   "outputs": [],
   "source": [
    "from stable_baselines3.common.evaluation import evaluate_policy\n",
    "\n",
    "evaluate_policy(model, env, n_eval_episodes=10, render=False)\n",
    "\n",
    "# TODO render doesn't work"
   ]
  }
 ],
 "metadata": {
  "interpreter": {
   "hash": "e9e60918770726085cb8af52fcf721483d216e54725aaf2e5694162f2c52f93a"
  },
  "kernelspec": {
   "display_name": "Python 3.9.10 ('rl-test')",
   "language": "python",
   "name": "python3"
  },
  "language_info": {
   "codemirror_mode": {
    "name": "ipython",
    "version": 3
   },
   "file_extension": ".py",
   "mimetype": "text/x-python",
   "name": "python",
   "nbconvert_exporter": "python",
   "pygments_lexer": "ipython3",
   "version": "3.9.10"
  },
  "orig_nbformat": 4
 },
 "nbformat": 4,
 "nbformat_minor": 2
}
