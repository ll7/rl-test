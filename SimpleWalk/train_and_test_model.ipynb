{
 "cells": [
  {
   "cell_type": "markdown",
   "metadata": {},
   "source": [
    "## Train Model"
   ]
  },
  {
   "cell_type": "code",
   "execution_count": 21,
   "metadata": {},
   "outputs": [],
   "source": [
    "import os\n",
    "import logging\n",
    "from datetime import datetime\n",
    "from stable_baselines3 import PPO\n",
    "from stable_baselines3.common.callbacks import BaseCallback\n",
    "\n",
    "logger = logging.getLogger()\n",
    "logger.setLevel(logging.INFO)\n",
    "\n",
    "from SimpleWalk2D import SimpleWalk2DDynGoal\n",
    "\n",
    "env = SimpleWalk2DDynGoal()"
   ]
  },
  {
   "cell_type": "code",
   "execution_count": 22,
   "metadata": {},
   "outputs": [
    {
     "name": "stdout",
     "output_type": "stream",
     "text": [
      "Date and time: 2022-02-24_0910\n"
     ]
    }
   ],
   "source": [
    "print('Date and time:', datetime.now().strftime('%Y-%m-%d_%H%M'))"
   ]
  },
  {
   "cell_type": "markdown",
   "metadata": {},
   "source": [
    "### Train Callback"
   ]
  },
  {
   "cell_type": "code",
   "execution_count": 23,
   "metadata": {},
   "outputs": [],
   "source": [
    "class TrainAndLoggingCallback(BaseCallback):\n",
    "    \n",
    "    def __init__(self, check_freq, save_path, verbose=1):\n",
    "        super(TrainAndLoggingCallback, self).__init__(verbose)\n",
    "        self.check_freq = check_freq\n",
    "        self.save_path = save_path\n",
    "        \n",
    "    def _init_callback(self):\n",
    "        if self.save_path is not None:\n",
    "            os.makedirs(self.save_path, exist_ok = True)\n",
    "            \n",
    "    def _on_step(self):\n",
    "        if self.n_calls % self.check_freq == 0:\n",
    "            model_path = os.path.join(self.save_path, 'best_model_{}'.format(self.n_calls))\n",
    "            self.model.save(model_path)\n",
    "            \n",
    "        return True"
   ]
  },
  {
   "cell_type": "markdown",
   "metadata": {},
   "source": [
    "### Optuna\n"
   ]
  },
  {
   "cell_type": "code",
   "execution_count": 24,
   "metadata": {},
   "outputs": [
    {
     "name": "stderr",
     "output_type": "stream",
     "text": [
      "\u001b[32m[I 2022-02-24 09:10:25,495]\u001b[0m A new study created in memory with name: no-name-aa85e5e3-acee-4a02-a802-3e381f4b4cb3\u001b[0m\n",
      "/home/luttkule/anaconda3/envs/rl-test/lib/python3.9/site-packages/optuna/progress_bar.py:47: ExperimentalWarning: Progress bar is experimental (supported from v1.2.0). The interface can change in the future.\n",
      "  self._init_valid()\n",
      "  0%|          | 0/1000 [00:00<?, ?it/s]/home/luttkule/anaconda3/envs/rl-test/lib/python3.9/site-packages/stable_baselines3/common/evaluation.py:65: UserWarning: Evaluation environment is not wrapped with a ``Monitor`` wrapper. This may result in reporting modified episode lengths and rewards, if other wrappers happen to modify these. Consider wrapping environment first with ``Monitor`` wrapper.\n",
      "  warnings.warn(\n",
      "/home/luttkule/anaconda3/envs/rl-test/lib/python3.9/site-packages/stable_baselines3/common/save_util.py:276: UserWarning: Path 'train/opt/2022-02-24_0910' does not exist. Will create it.\n",
      "  warnings.warn(f\"Path '{path.parent}' does not exist. Will create it.\")\n",
      "  0%|          | 1/1000 [01:12<20:11:05, 72.74s/it, 72.74/3600 seconds]"
     ]
    },
    {
     "name": "stdout",
     "output_type": "stream",
     "text": [
      "\u001b[32m[I 2022-02-24 09:11:38,237]\u001b[0m Trial 0 finished with value: -1920.7687418937683 and parameters: {'n_steps': 5696, 'gamma': 0.9582611351983121, 'learning_rate': 3.318644866318253e-05, 'clip_range': 0.15986993397716537, 'gae_lambda': 0.8863496158176362}. Best is trial 0 with value: -1920.7687418937683.\u001b[0m\n"
     ]
    },
    {
     "name": "stderr",
     "output_type": "stream",
     "text": [
      "/home/luttkule/anaconda3/envs/rl-test/lib/python3.9/site-packages/stable_baselines3/common/evaluation.py:65: UserWarning: Evaluation environment is not wrapped with a ``Monitor`` wrapper. This may result in reporting modified episode lengths and rewards, if other wrappers happen to modify these. Consider wrapping environment first with ``Monitor`` wrapper.\n",
      "  warnings.warn(\n",
      "  0%|          | 2/1000 [02:25<20:12:59, 72.93s/it, 145.80/3600 seconds]"
     ]
    },
    {
     "name": "stdout",
     "output_type": "stream",
     "text": [
      "\u001b[32m[I 2022-02-24 09:12:51,293]\u001b[0m Trial 1 finished with value: 946.3818915713579 and parameters: {'n_steps': 1152, 'gamma': 0.8281372162716393, 'learning_rate': 5.947225351527409e-05, 'clip_range': 0.34107143500589554, 'gae_lambda': 0.8940888101428192}. Best is trial 1 with value: 946.3818915713579.\u001b[0m\n"
     ]
    },
    {
     "name": "stderr",
     "output_type": "stream",
     "text": [
      "/home/luttkule/anaconda3/envs/rl-test/lib/python3.9/site-packages/stable_baselines3/common/evaluation.py:65: UserWarning: Evaluation environment is not wrapped with a ``Monitor`` wrapper. This may result in reporting modified episode lengths and rewards, if other wrappers happen to modify these. Consider wrapping environment first with ``Monitor`` wrapper.\n",
      "  warnings.warn(\n",
      "  0%|          | 3/1000 [03:40<20:25:34, 73.76s/it, 220.54/3600 seconds]"
     ]
    },
    {
     "name": "stdout",
     "output_type": "stream",
     "text": [
      "\u001b[32m[I 2022-02-24 09:14:06,037]\u001b[0m Trial 2 finished with value: -1896.361507844925 and parameters: {'n_steps': 5248, 'gamma': 0.9246512695420032, 'learning_rate': 2.7403035783197963e-05, 'clip_range': 0.1491968491508225, 'gae_lambda': 0.9502051496910219}. Best is trial 1 with value: 946.3818915713579.\u001b[0m\n"
     ]
    }
   ],
   "source": [
    "# Importing the optimzation frame - HPO\n",
    "import optuna\n",
    "# PPO algo for RL\n",
    "from stable_baselines3 import PPO\n",
    "# Bring in the eval policy method for metric calculation\n",
    "from stable_baselines3.common.evaluation import evaluate_policy\n",
    "# Import the sb3 monitor for logging \n",
    "from stable_baselines3.common.monitor import Monitor\n",
    "# Import the vec wrappers to vectorize and frame stack\n",
    "from stable_baselines3.common.vec_env import DummyVecEnv, VecFrameStack\n",
    "# Import os to deal with filepaths\n",
    "import os\n",
    "\n",
    "\n",
    "# Function to return test hyperparameters - define the object function\n",
    "\n",
    "LOG_DIR = './train/logs/' + datetime.now().strftime('%Y-%m-%d_%H%M') + '/'\n",
    "OPT_DIR = './train/opt/'+ datetime.now().strftime('%Y-%m-%d_%H%M') + '/'\n",
    "\n",
    "def optimize_ppo(trial): \n",
    "    return {\n",
    "        'n_steps':trial.suggest_int('n_steps', 256, 8192, 64),\n",
    "        'gamma':trial.suggest_loguniform('gamma', 0.8, 0.9999),\n",
    "        'learning_rate':trial.suggest_loguniform('learning_rate', 1e-5, 1e-4),\n",
    "        'clip_range':trial.suggest_uniform('clip_range', 0.1, 0.4),\n",
    "        'gae_lambda':trial.suggest_uniform('gae_lambda', 0.8, 0.99)\n",
    "    }\n",
    "    \n",
    "SAVE_PATH = os.path.join(OPT_DIR, 'trial_{}_best_model'.format(1))\n",
    "\n",
    "# Run a training loop and return mean reward \n",
    "def optimize_agent(trial):\n",
    "    \n",
    "    # Get hyperparameters\n",
    "    model_params = optimize_ppo(trial) \n",
    "\n",
    "    # Create environment \n",
    "    env = SimpleWalk2DDynGoal()\n",
    "    # env = Monitor(env)\n",
    "    # env = DummyVecEnv([lambda: env])\n",
    "    # env = VecFrameStack(env, 4, channels_order='last')\n",
    "\n",
    "    # Create algo \n",
    "    model = PPO(\n",
    "        'MlpPolicy', \n",
    "        env, \n",
    "        tensorboard_log=LOG_DIR, \n",
    "        verbose=0, \n",
    "        **model_params)\n",
    "    model.learn(total_timesteps=50_000)\n",
    "    #model.learn(total_timesteps=100000)\n",
    "\n",
    "    # Evaluate model \n",
    "    mean_reward, _ = evaluate_policy(model, env, n_eval_episodes=20)\n",
    "    env.close()\n",
    "\n",
    "    SAVE_PATH = os.path.join(OPT_DIR, 'trial_{}_best_model'.format(trial.number))\n",
    "    model.save(SAVE_PATH)\n",
    "\n",
    "    return mean_reward\n",
    "\n",
    "    \n",
    "# Creating the experiment \n",
    "study = optuna.create_study(direction='maximize')\n",
    "study.optimize(\n",
    "    optimize_agent, \n",
    "    n_trials=1_000,\n",
    "    timeout=60*60*1,\n",
    "    show_progress_bar=True,\n",
    "    )\n",
    "#study.optimize(optimize_agent, n_trials=100, n_jobs=1)\n",
    "\n",
    "study.best_params\n",
    "\n",
    "study.best_trial\n",
    "\n",
    "#model = PPO.load(os.path.join(OPT_DIR, 'trial_5_best_model.zip'))\n"
   ]
  },
  {
   "cell_type": "code",
   "execution_count": null,
   "metadata": {},
   "outputs": [
    {
     "data": {
      "text/plain": [
       "{'n_steps': 4096,\n",
       " 'gamma': 0.814916887081507,\n",
       " 'learning_rate': 9.988928342451913e-05,\n",
       " 'clip_range': 0.2805024112319538,\n",
       " 'gae_lambda': 0.8322603084029443}"
      ]
     },
     "execution_count": 4,
     "metadata": {},
     "output_type": "execute_result"
    }
   ],
   "source": [
    "study.best_params\n"
   ]
  },
  {
   "cell_type": "code",
   "execution_count": null,
   "metadata": {},
   "outputs": [
    {
     "data": {
      "text/plain": [
       "486"
      ]
     },
     "execution_count": 5,
     "metadata": {},
     "output_type": "execute_result"
    }
   ],
   "source": [
    "study.best_trial.number"
   ]
  },
  {
   "cell_type": "code",
   "execution_count": null,
   "metadata": {},
   "outputs": [
    {
     "data": {
      "text/plain": [
       "['./train/opt/study.pkl']"
      ]
     },
     "execution_count": 7,
     "metadata": {},
     "output_type": "execute_result"
    }
   ],
   "source": [
    "import joblib\n",
    "joblib.dump(study, OPT_DIR + 'study.pkl')"
   ]
  },
  {
   "cell_type": "code",
   "execution_count": null,
   "metadata": {},
   "outputs": [
    {
     "name": "stdout",
     "output_type": "stream",
     "text": [
      "Box([0. 0. 0. 0. 0. 0.], [20. 20. 20. 20. 20. 20.], (6,), float32)\n",
      "Box([-1. -1.], [1. 1.], (2,), float32)\n",
      "Box([0. 0. 0. 0. 0. 0. 0. 0. 0. 0. 0. 0. 0. 0. 0. 0. 0. 0. 0. 0. 0. 0. 0. 0.], [20. 20. 20. 20. 20. 20. 20. 20. 20. 20. 20. 20. 20. 20. 20. 20. 20. 20.\n",
      " 20. 20. 20. 20. 20. 20.], (24,), float32)\n"
     ]
    }
   ],
   "source": [
    "load_path = os.path.join(OPT_DIR, 'trial_{}_best_model.zip'.format(study.best_trial.number))\n",
    "\n",
    "# model = PPO('MlpPolicy', env, tensorboard_log=LOG_DIR, verbose=0, **study.best_params)\n",
    "\n",
    "env = SimpleWalk2DDynGoal()\n",
    "print(env.observation_space)\n",
    "env = Monitor(env)\n",
    "\n",
    "model = PPO.load(\n",
    "    path = load_path,\n",
    "    env = env,\n",
    "    )\n",
    "\n",
    "print(model.action_space)\n",
    "print(model.observation_space)\n"
   ]
  },
  {
   "cell_type": "code",
   "execution_count": null,
   "metadata": {},
   "outputs": [
    {
     "data": {
      "text/plain": [
       "<stable_baselines3.ppo.ppo.PPO at 0x7f7dfa3fce50>"
      ]
     },
     "execution_count": 10,
     "metadata": {},
     "output_type": "execute_result"
    }
   ],
   "source": [
    "model"
   ]
  },
  {
   "cell_type": "code",
   "execution_count": null,
   "metadata": {},
   "outputs": [
    {
     "data": {
      "text/plain": [
       "<stable_baselines3.ppo.ppo.PPO at 0x7f7dfa36c4c0>"
      ]
     },
     "execution_count": 14,
     "metadata": {},
     "output_type": "execute_result"
    }
   ],
   "source": [
    "model.learn(\n",
    "    total_timesteps=300_000, \n",
    "    callback=TrainAndLoggingCallback(\n",
    "        check_freq=10_000, \n",
    "        save_path=LOG_DIR\n",
    "        )\n",
    "    )"
   ]
  },
  {
   "cell_type": "markdown",
   "metadata": {},
   "source": []
  },
  {
   "cell_type": "code",
   "execution_count": null,
   "metadata": {},
   "outputs": [
    {
     "data": {
      "text/plain": [
       "'\\nenv_name = \\'SW2DDynGoal\\'\\n\\nCHECKPOINT_DIR = \\'./train/train_\\' + env_name\\nLOG_DIR = \\'./train/log_\\' + env_name\\n\\ncallback = TrainAndLoggingCallback(check_freq=10_000, save_path=CHECKPOINT_DIR)\\n\\nlog_path = os.path.join(\\'Training\\', \\'Logs\\')\\n\\nmodel = PPO(\\n    \"MlpPolicy\", \\n    env, \\n    verbose=0, \\n    tensorboard_log=log_path,\\n    #learning_rate=0.0001,\\n    #n_steps =2048\\n    )\\nlogger.setLevel(logging.INFO)\\n\\nmodel.learn(\\n    total_timesteps=300_000, \\n    callback = callback\\n    )\\n\\nmodel.save(\\'PPO\\')\\n\\nlogger.setLevel(logging.DEBUG)\\n'"
      ]
     },
     "execution_count": 15,
     "metadata": {},
     "output_type": "execute_result"
    }
   ],
   "source": [
    "\"\"\"\n",
    "env_name = 'SW2DDynGoal'\n",
    "\n",
    "CHECKPOINT_DIR = './train/train_' + env_name\n",
    "LOG_DIR = './train/log_' + env_name\n",
    "\n",
    "callback = TrainAndLoggingCallback(check_freq=10_000, save_path=CHECKPOINT_DIR)\n",
    "\n",
    "log_path = os.path.join('Training', 'Logs')\n",
    "\n",
    "model = PPO(\n",
    "    \"MlpPolicy\", \n",
    "    env, \n",
    "    verbose=0, \n",
    "    tensorboard_log=log_path,\n",
    "    #learning_rate=0.0001,\n",
    "    #n_steps =2048\n",
    "    )\n",
    "logger.setLevel(logging.INFO)\n",
    "\n",
    "model.learn(\n",
    "    total_timesteps=300_000, \n",
    "    callback = callback\n",
    "    )\n",
    "\n",
    "model.save('PPO')\n",
    "\n",
    "logger.setLevel(logging.DEBUG)\n",
    "\"\"\""
   ]
  },
  {
   "cell_type": "markdown",
   "metadata": {},
   "source": [
    "## Test Model"
   ]
  },
  {
   "cell_type": "code",
   "execution_count": null,
   "metadata": {},
   "outputs": [],
   "source": [
    "from stable_baselines3 import PPO\n",
    "from SimpleWalk2D import SimpleWalk2DDynGoal\n",
    "\n",
    "env = SimpleWalk2DDynGoal()\n"
   ]
  },
  {
   "cell_type": "code",
   "execution_count": null,
   "metadata": {},
   "outputs": [
    {
     "name": "stderr",
     "output_type": "stream",
     "text": [
      "DEBUG:root:\n",
      "DEBUG:root:reset\n"
     ]
    },
    {
     "ename": "ValueError",
     "evalue": "Error: Unexpected observation shape (6,) for Box environment, please use (24,) or (n_env, 24) for the observation shape.",
     "output_type": "error",
     "traceback": [
      "\u001b[0;31m---------------------------------------------------------------------------\u001b[0m",
      "\u001b[0;31mValueError\u001b[0m                                Traceback (most recent call last)",
      "\u001b[1;32m/home/luttkule/git/rl-test/SimpleWalk/train_and_test_model.ipynb Cell 17'\u001b[0m in \u001b[0;36m<module>\u001b[0;34m\u001b[0m\n\u001b[1;32m      <a href='vscode-notebook-cell:/home/luttkule/git/rl-test/SimpleWalk/train_and_test_model.ipynb#ch0000010?line=5'>6</a>\u001b[0m env\u001b[39m.\u001b[39mreset()\n\u001b[1;32m      <a href='vscode-notebook-cell:/home/luttkule/git/rl-test/SimpleWalk/train_and_test_model.ipynb#ch0000010?line=7'>8</a>\u001b[0m \u001b[39mwhile\u001b[39;00m \u001b[39mTrue\u001b[39;00m:\n\u001b[0;32m----> <a href='vscode-notebook-cell:/home/luttkule/git/rl-test/SimpleWalk/train_and_test_model.ipynb#ch0000010?line=8'>9</a>\u001b[0m     action, _states \u001b[39m=\u001b[39m model\u001b[39m.\u001b[39;49mpredict(env\u001b[39m.\u001b[39;49mstate)\n\u001b[1;32m     <a href='vscode-notebook-cell:/home/luttkule/git/rl-test/SimpleWalk/train_and_test_model.ipynb#ch0000010?line=9'>10</a>\u001b[0m     obs, rewards, done, info \u001b[39m=\u001b[39m env\u001b[39m.\u001b[39mstep(action)\n\u001b[1;32m     <a href='vscode-notebook-cell:/home/luttkule/git/rl-test/SimpleWalk/train_and_test_model.ipynb#ch0000010?line=10'>11</a>\u001b[0m     \u001b[39mif\u001b[39;00m done:\n",
      "File \u001b[0;32m~/anaconda3/envs/rl-test/lib/python3.9/site-packages/stable_baselines3/common/base_class.py:562\u001b[0m, in \u001b[0;36mBaseAlgorithm.predict\u001b[0;34m(self, observation, state, episode_start, deterministic)\u001b[0m\n\u001b[1;32m    <a href='file:///home/luttkule/anaconda3/envs/rl-test/lib/python3.9/site-packages/stable_baselines3/common/base_class.py?line=541'>542</a>\u001b[0m \u001b[39mdef\u001b[39;00m \u001b[39mpredict\u001b[39m(\n\u001b[1;32m    <a href='file:///home/luttkule/anaconda3/envs/rl-test/lib/python3.9/site-packages/stable_baselines3/common/base_class.py?line=542'>543</a>\u001b[0m     \u001b[39mself\u001b[39m,\n\u001b[1;32m    <a href='file:///home/luttkule/anaconda3/envs/rl-test/lib/python3.9/site-packages/stable_baselines3/common/base_class.py?line=543'>544</a>\u001b[0m     observation: np\u001b[39m.\u001b[39mndarray,\n\u001b[0;32m   (...)\u001b[0m\n\u001b[1;32m    <a href='file:///home/luttkule/anaconda3/envs/rl-test/lib/python3.9/site-packages/stable_baselines3/common/base_class.py?line=546'>547</a>\u001b[0m     deterministic: \u001b[39mbool\u001b[39m \u001b[39m=\u001b[39m \u001b[39mFalse\u001b[39;00m,\n\u001b[1;32m    <a href='file:///home/luttkule/anaconda3/envs/rl-test/lib/python3.9/site-packages/stable_baselines3/common/base_class.py?line=547'>548</a>\u001b[0m ) \u001b[39m-\u001b[39m\u001b[39m>\u001b[39m Tuple[np\u001b[39m.\u001b[39mndarray, Optional[Tuple[np\u001b[39m.\u001b[39mndarray, \u001b[39m.\u001b[39m\u001b[39m.\u001b[39m\u001b[39m.\u001b[39m]]]:\n\u001b[1;32m    <a href='file:///home/luttkule/anaconda3/envs/rl-test/lib/python3.9/site-packages/stable_baselines3/common/base_class.py?line=548'>549</a>\u001b[0m     \u001b[39m\"\"\"\u001b[39;00m\n\u001b[1;32m    <a href='file:///home/luttkule/anaconda3/envs/rl-test/lib/python3.9/site-packages/stable_baselines3/common/base_class.py?line=549'>550</a>\u001b[0m \u001b[39m    Get the policy action from an observation (and optional hidden state).\u001b[39;00m\n\u001b[1;32m    <a href='file:///home/luttkule/anaconda3/envs/rl-test/lib/python3.9/site-packages/stable_baselines3/common/base_class.py?line=550'>551</a>\u001b[0m \u001b[39m    Includes sugar-coating to handle different observations (e.g. normalizing images).\u001b[39;00m\n\u001b[0;32m   (...)\u001b[0m\n\u001b[1;32m    <a href='file:///home/luttkule/anaconda3/envs/rl-test/lib/python3.9/site-packages/stable_baselines3/common/base_class.py?line=559'>560</a>\u001b[0m \u001b[39m        (used in recurrent policies)\u001b[39;00m\n\u001b[1;32m    <a href='file:///home/luttkule/anaconda3/envs/rl-test/lib/python3.9/site-packages/stable_baselines3/common/base_class.py?line=560'>561</a>\u001b[0m \u001b[39m    \"\"\"\u001b[39;00m\n\u001b[0;32m--> <a href='file:///home/luttkule/anaconda3/envs/rl-test/lib/python3.9/site-packages/stable_baselines3/common/base_class.py?line=561'>562</a>\u001b[0m     \u001b[39mreturn\u001b[39;00m \u001b[39mself\u001b[39;49m\u001b[39m.\u001b[39;49mpolicy\u001b[39m.\u001b[39;49mpredict(observation, state, episode_start, deterministic)\n",
      "File \u001b[0;32m~/anaconda3/envs/rl-test/lib/python3.9/site-packages/stable_baselines3/common/policies.py:335\u001b[0m, in \u001b[0;36mBasePolicy.predict\u001b[0;34m(self, observation, state, episode_start, deterministic)\u001b[0m\n\u001b[1;32m    <a href='file:///home/luttkule/anaconda3/envs/rl-test/lib/python3.9/site-packages/stable_baselines3/common/policies.py?line=326'>327</a>\u001b[0m \u001b[39m# TODO (GH/1): add support for RNN policies\u001b[39;00m\n\u001b[1;32m    <a href='file:///home/luttkule/anaconda3/envs/rl-test/lib/python3.9/site-packages/stable_baselines3/common/policies.py?line=327'>328</a>\u001b[0m \u001b[39m# if state is None:\u001b[39;00m\n\u001b[1;32m    <a href='file:///home/luttkule/anaconda3/envs/rl-test/lib/python3.9/site-packages/stable_baselines3/common/policies.py?line=328'>329</a>\u001b[0m \u001b[39m#     state = self.initial_state\u001b[39;00m\n\u001b[1;32m    <a href='file:///home/luttkule/anaconda3/envs/rl-test/lib/python3.9/site-packages/stable_baselines3/common/policies.py?line=329'>330</a>\u001b[0m \u001b[39m# if episode_start is None:\u001b[39;00m\n\u001b[1;32m    <a href='file:///home/luttkule/anaconda3/envs/rl-test/lib/python3.9/site-packages/stable_baselines3/common/policies.py?line=330'>331</a>\u001b[0m \u001b[39m#     episode_start = [False for _ in range(self.n_envs)]\u001b[39;00m\n\u001b[1;32m    <a href='file:///home/luttkule/anaconda3/envs/rl-test/lib/python3.9/site-packages/stable_baselines3/common/policies.py?line=331'>332</a>\u001b[0m \u001b[39m# Switch to eval mode (this affects batch norm / dropout)\u001b[39;00m\n\u001b[1;32m    <a href='file:///home/luttkule/anaconda3/envs/rl-test/lib/python3.9/site-packages/stable_baselines3/common/policies.py?line=332'>333</a>\u001b[0m \u001b[39mself\u001b[39m\u001b[39m.\u001b[39mset_training_mode(\u001b[39mFalse\u001b[39;00m)\n\u001b[0;32m--> <a href='file:///home/luttkule/anaconda3/envs/rl-test/lib/python3.9/site-packages/stable_baselines3/common/policies.py?line=334'>335</a>\u001b[0m observation, vectorized_env \u001b[39m=\u001b[39m \u001b[39mself\u001b[39;49m\u001b[39m.\u001b[39;49mobs_to_tensor(observation)\n\u001b[1;32m    <a href='file:///home/luttkule/anaconda3/envs/rl-test/lib/python3.9/site-packages/stable_baselines3/common/policies.py?line=336'>337</a>\u001b[0m \u001b[39mwith\u001b[39;00m th\u001b[39m.\u001b[39mno_grad():\n\u001b[1;32m    <a href='file:///home/luttkule/anaconda3/envs/rl-test/lib/python3.9/site-packages/stable_baselines3/common/policies.py?line=337'>338</a>\u001b[0m     actions \u001b[39m=\u001b[39m \u001b[39mself\u001b[39m\u001b[39m.\u001b[39m_predict(observation, deterministic\u001b[39m=\u001b[39mdeterministic)\n",
      "File \u001b[0;32m~/anaconda3/envs/rl-test/lib/python3.9/site-packages/stable_baselines3/common/policies.py:250\u001b[0m, in \u001b[0;36mBaseModel.obs_to_tensor\u001b[0;34m(self, observation)\u001b[0m\n\u001b[1;32m    <a href='file:///home/luttkule/anaconda3/envs/rl-test/lib/python3.9/site-packages/stable_baselines3/common/policies.py?line=245'>246</a>\u001b[0m     observation \u001b[39m=\u001b[39m np\u001b[39m.\u001b[39marray(observation)\n\u001b[1;32m    <a href='file:///home/luttkule/anaconda3/envs/rl-test/lib/python3.9/site-packages/stable_baselines3/common/policies.py?line=247'>248</a>\u001b[0m \u001b[39mif\u001b[39;00m \u001b[39mnot\u001b[39;00m \u001b[39misinstance\u001b[39m(observation, \u001b[39mdict\u001b[39m):\n\u001b[1;32m    <a href='file:///home/luttkule/anaconda3/envs/rl-test/lib/python3.9/site-packages/stable_baselines3/common/policies.py?line=248'>249</a>\u001b[0m     \u001b[39m# Dict obs need to be handled separately\u001b[39;00m\n\u001b[0;32m--> <a href='file:///home/luttkule/anaconda3/envs/rl-test/lib/python3.9/site-packages/stable_baselines3/common/policies.py?line=249'>250</a>\u001b[0m     vectorized_env \u001b[39m=\u001b[39m is_vectorized_observation(observation, \u001b[39mself\u001b[39;49m\u001b[39m.\u001b[39;49mobservation_space)\n\u001b[1;32m    <a href='file:///home/luttkule/anaconda3/envs/rl-test/lib/python3.9/site-packages/stable_baselines3/common/policies.py?line=250'>251</a>\u001b[0m     \u001b[39m# Add batch dimension if needed\u001b[39;00m\n\u001b[1;32m    <a href='file:///home/luttkule/anaconda3/envs/rl-test/lib/python3.9/site-packages/stable_baselines3/common/policies.py?line=251'>252</a>\u001b[0m     observation \u001b[39m=\u001b[39m observation\u001b[39m.\u001b[39mreshape((\u001b[39m-\u001b[39m\u001b[39m1\u001b[39m,) \u001b[39m+\u001b[39m \u001b[39mself\u001b[39m\u001b[39m.\u001b[39mobservation_space\u001b[39m.\u001b[39mshape)\n",
      "File \u001b[0;32m~/anaconda3/envs/rl-test/lib/python3.9/site-packages/stable_baselines3/common/utils.py:375\u001b[0m, in \u001b[0;36mis_vectorized_observation\u001b[0;34m(observation, observation_space)\u001b[0m\n\u001b[1;32m    <a href='file:///home/luttkule/anaconda3/envs/rl-test/lib/python3.9/site-packages/stable_baselines3/common/utils.py?line=372'>373</a>\u001b[0m \u001b[39mfor\u001b[39;00m space_type, is_vec_obs_func \u001b[39min\u001b[39;00m is_vec_obs_func_dict\u001b[39m.\u001b[39mitems():\n\u001b[1;32m    <a href='file:///home/luttkule/anaconda3/envs/rl-test/lib/python3.9/site-packages/stable_baselines3/common/utils.py?line=373'>374</a>\u001b[0m     \u001b[39mif\u001b[39;00m \u001b[39misinstance\u001b[39m(observation_space, space_type):\n\u001b[0;32m--> <a href='file:///home/luttkule/anaconda3/envs/rl-test/lib/python3.9/site-packages/stable_baselines3/common/utils.py?line=374'>375</a>\u001b[0m         \u001b[39mreturn\u001b[39;00m is_vec_obs_func(observation, observation_space)\n\u001b[1;32m    <a href='file:///home/luttkule/anaconda3/envs/rl-test/lib/python3.9/site-packages/stable_baselines3/common/utils.py?line=375'>376</a>\u001b[0m \u001b[39melse\u001b[39;00m:\n\u001b[1;32m    <a href='file:///home/luttkule/anaconda3/envs/rl-test/lib/python3.9/site-packages/stable_baselines3/common/utils.py?line=376'>377</a>\u001b[0m     \u001b[39m# for-else happens if no break is called\u001b[39;00m\n\u001b[1;32m    <a href='file:///home/luttkule/anaconda3/envs/rl-test/lib/python3.9/site-packages/stable_baselines3/common/utils.py?line=377'>378</a>\u001b[0m     \u001b[39mraise\u001b[39;00m \u001b[39mValueError\u001b[39;00m(\u001b[39mf\u001b[39m\u001b[39m\"\u001b[39m\u001b[39mError: Cannot determine if the observation is vectorized with the space type \u001b[39m\u001b[39m{\u001b[39;00mobservation_space\u001b[39m}\u001b[39;00m\u001b[39m.\u001b[39m\u001b[39m\"\u001b[39m)\n",
      "File \u001b[0;32m~/anaconda3/envs/rl-test/lib/python3.9/site-packages/stable_baselines3/common/utils.py:242\u001b[0m, in \u001b[0;36mis_vectorized_box_observation\u001b[0;34m(observation, observation_space)\u001b[0m\n\u001b[1;32m    <a href='file:///home/luttkule/anaconda3/envs/rl-test/lib/python3.9/site-packages/stable_baselines3/common/utils.py?line=239'>240</a>\u001b[0m     \u001b[39mreturn\u001b[39;00m \u001b[39mTrue\u001b[39;00m\n\u001b[1;32m    <a href='file:///home/luttkule/anaconda3/envs/rl-test/lib/python3.9/site-packages/stable_baselines3/common/utils.py?line=240'>241</a>\u001b[0m \u001b[39melse\u001b[39;00m:\n\u001b[0;32m--> <a href='file:///home/luttkule/anaconda3/envs/rl-test/lib/python3.9/site-packages/stable_baselines3/common/utils.py?line=241'>242</a>\u001b[0m     \u001b[39mraise\u001b[39;00m \u001b[39mValueError\u001b[39;00m(\n\u001b[1;32m    <a href='file:///home/luttkule/anaconda3/envs/rl-test/lib/python3.9/site-packages/stable_baselines3/common/utils.py?line=242'>243</a>\u001b[0m         \u001b[39mf\u001b[39m\u001b[39m\"\u001b[39m\u001b[39mError: Unexpected observation shape \u001b[39m\u001b[39m{\u001b[39;00mobservation\u001b[39m.\u001b[39mshape\u001b[39m}\u001b[39;00m\u001b[39m for \u001b[39m\u001b[39m\"\u001b[39m\n\u001b[1;32m    <a href='file:///home/luttkule/anaconda3/envs/rl-test/lib/python3.9/site-packages/stable_baselines3/common/utils.py?line=243'>244</a>\u001b[0m         \u001b[39m+\u001b[39m \u001b[39mf\u001b[39m\u001b[39m\"\u001b[39m\u001b[39mBox environment, please use \u001b[39m\u001b[39m{\u001b[39;00mobservation_space\u001b[39m.\u001b[39mshape\u001b[39m}\u001b[39;00m\u001b[39m \u001b[39m\u001b[39m\"\u001b[39m\n\u001b[1;32m    <a href='file:///home/luttkule/anaconda3/envs/rl-test/lib/python3.9/site-packages/stable_baselines3/common/utils.py?line=244'>245</a>\u001b[0m         \u001b[39m+\u001b[39m \u001b[39m\"\u001b[39m\u001b[39mor (n_env, \u001b[39m\u001b[39m{}\u001b[39;00m\u001b[39m) for the observation shape.\u001b[39m\u001b[39m\"\u001b[39m\u001b[39m.\u001b[39mformat(\u001b[39m\"\u001b[39m\u001b[39m, \u001b[39m\u001b[39m\"\u001b[39m\u001b[39m.\u001b[39mjoin(\u001b[39mmap\u001b[39m(\u001b[39mstr\u001b[39m, observation_space\u001b[39m.\u001b[39mshape)))\n\u001b[1;32m    <a href='file:///home/luttkule/anaconda3/envs/rl-test/lib/python3.9/site-packages/stable_baselines3/common/utils.py?line=245'>246</a>\u001b[0m     )\n",
      "\u001b[0;31mValueError\u001b[0m: Error: Unexpected observation shape (6,) for Box environment, please use (24,) or (n_env, 24) for the observation shape."
     ]
    }
   ],
   "source": [
    "\n",
    "# test prediction\n",
    "logger.setLevel(logging.DEBUG)\n",
    "\n",
    "episodes = 10\n",
    "for episode in range(episodes):\n",
    "    env.reset()\n",
    "\n",
    "    while True:\n",
    "        action, _states = model.predict(env.state)\n",
    "        obs, rewards, done, info = env.step(action)\n",
    "        if done:\n",
    "            print('done')\n",
    "            print(\"info\", info)\n",
    "            break\n",
    "    env.render()"
   ]
  },
  {
   "cell_type": "code",
   "execution_count": null,
   "metadata": {},
   "outputs": [],
   "source": []
  },
  {
   "cell_type": "code",
   "execution_count": null,
   "metadata": {},
   "outputs": [],
   "source": [
    "from stable_baselines3.common.evaluation import evaluate_policy\n",
    "\n",
    "evaluate_policy(model, env, n_eval_episodes=10, render=False)\n",
    "\n",
    "# TODO render doesn't work"
   ]
  }
 ],
 "metadata": {
  "interpreter": {
   "hash": "e9e60918770726085cb8af52fcf721483d216e54725aaf2e5694162f2c52f93a"
  },
  "kernelspec": {
   "display_name": "Python 3.9.10 ('rl-test')",
   "language": "python",
   "name": "python3"
  },
  "language_info": {
   "codemirror_mode": {
    "name": "ipython",
    "version": 3
   },
   "file_extension": ".py",
   "mimetype": "text/x-python",
   "name": "python",
   "nbconvert_exporter": "python",
   "pygments_lexer": "ipython3",
   "version": "3.9.10"
  },
  "orig_nbformat": 4
 },
 "nbformat": 4,
 "nbformat_minor": 2
}
