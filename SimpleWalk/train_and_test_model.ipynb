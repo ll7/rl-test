{
 "cells": [
  {
   "cell_type": "markdown",
   "metadata": {},
   "source": [
    "## Train Model"
   ]
  },
  {
   "cell_type": "code",
   "execution_count": 1,
   "metadata": {},
   "outputs": [],
   "source": [
    "import os\n",
    "import logging\n",
    "from stable_baselines3 import PPO\n",
    "from stable_baselines3.common.callbacks import BaseCallback\n",
    "\n",
    "logger = logging.getLogger()\n",
    "logger.setLevel(logging.DEBUG)\n",
    "\n",
    "from SimpleWalk2D import SimpleWalk2DDynGoal\n",
    "\n",
    "env = SimpleWalk2DDynGoal()"
   ]
  },
  {
   "cell_type": "markdown",
   "metadata": {},
   "source": [
    "### Train Callback"
   ]
  },
  {
   "cell_type": "code",
   "execution_count": 2,
   "metadata": {},
   "outputs": [],
   "source": [
    "class TrainAndLoggingCallback(BaseCallback):\n",
    "    \n",
    "    def __init__(self, check_freq, save_path, verbose=1):\n",
    "        super(TrainAndLoggingCallback, self).__init__(verbose)\n",
    "        self.check_freq = check_freq\n",
    "        self.save_path = save_path\n",
    "        \n",
    "    def _init_callback(self):\n",
    "        if self.save_path is not None:\n",
    "            os.makedirs(self.save_path, exist_ok = True)\n",
    "            \n",
    "    def _on_step(self):\n",
    "        if self.n_calls % self.check_freq == 0:\n",
    "            model_path = os.path.join(self.save_path, 'best_model_{}'.format(self.n_calls))\n",
    "            self.model.save(model_path)\n",
    "            \n",
    "        return True"
   ]
  },
  {
   "cell_type": "markdown",
   "metadata": {},
   "source": [
    "### Optuna\n"
   ]
  },
  {
   "cell_type": "code",
   "execution_count": null,
   "metadata": {},
   "outputs": [],
   "source": [
    "import os\n",
    "import optuna\n",
    "\n",
    "# Function to return test hyperparameters - define the object function\n",
    "\n",
    "LOG_DIR = './logs/'\n",
    "OPT_DIR = './opt/'\n",
    "\n",
    "def optimize_ppo(trial): \n",
    "    return {\n",
    "        'n_steps':trial.suggest_int('n_steps', 2048, 8192),\n",
    "        'gamma':trial.suggest_loguniform('gamma', 0.8, 0.9999),\n",
    "        'learning_rate':trial.suggest_loguniform('learning_rate', 1e-5, 1e-4),\n",
    "        'clip_range':trial.suggest_uniform('clip_range', 0.1, 0.4),\n",
    "        'gae_lambda':trial.suggest_uniform('gae_lambda', 0.8, 0.99)\n",
    "    }\n",
    "    \n",
    "SAVE_PATH = os.path.join(OPT_DIR, 'trial_{}_best_model'.format(1))\n",
    "\n",
    "# Run a training loop and return mean reward \n",
    "def optimize_agent(trial):\n",
    "    try:\n",
    "        model_params = optimize_ppo(trial) \n",
    "\n",
    "        # Create environment \n",
    "        env = StreetFighter()\n",
    "        env = Monitor(env, LOG_DIR)\n",
    "        env = DummyVecEnv([lambda: env])\n",
    "        env = VecFrameStack(env, 4, channels_order='last')\n",
    "\n",
    "        # Create algo \n",
    "        model = PPO('CnnPolicy', env, tensorboard_log=LOG_DIR, verbose=0, **model_params)\n",
    "        model.learn(total_timesteps=30000)\n",
    "        #model.learn(total_timesteps=100000)\n",
    "\n",
    "        # Evaluate model \n",
    "        mean_reward, _ = evaluate_policy(model, env, n_eval_episodes=5)\n",
    "        env.close()\n",
    "\n",
    "        SAVE_PATH = os.path.join(OPT_DIR, 'trial_{}_best_model'.format(trial.number))\n",
    "        model.save(SAVE_PATH)\n",
    "\n",
    "        return mean_reward\n",
    "\n",
    "    except Exception as e:\n",
    "        return -1000\n",
    "    \n",
    "# Creating the experiment \n",
    "study = optuna.create_study(direction='maximize')\n",
    "study.optimize(optimize_agent, n_trials=10, n_jobs=1)\n",
    "#study.optimize(optimize_agent, n_trials=100, n_jobs=1)\n",
    "\n",
    "study.best_params\n",
    "\n",
    "study.best_trial\n",
    "\n",
    "model = PPO.load(os.path.join(OPT_DIR, 'trial_5_best_model.zip'))\n"
   ]
  },
  {
   "cell_type": "code",
   "execution_count": 3,
   "metadata": {},
   "outputs": [],
   "source": [
    "env_name = 'SW2DDynGoal'\n",
    "\n",
    "CHECKPOINT_DIR = './train/train_' + env_name\n",
    "LOG_DIR = './train/log_' + env_name\n",
    "\n",
    "callback = TrainAndLoggingCallback(check_freq=10_000, save_path=CHECKPOINT_DIR)\n",
    "\n",
    "log_path = os.path.join('Training', 'Logs')\n",
    "\n",
    "model = PPO(\n",
    "    \"MlpPolicy\", \n",
    "    env, \n",
    "    verbose=0, \n",
    "    tensorboard_log=log_path,\n",
    "    #learning_rate=0.0001,\n",
    "    #n_steps =2048\n",
    "    )\n",
    "logger.setLevel(logging.INFO)\n",
    "\n",
    "model.learn(\n",
    "    total_timesteps=300_000, \n",
    "    callback = callback\n",
    "    )\n",
    "\n",
    "model.save('PPO')\n",
    "\n",
    "logger.setLevel(logging.DEBUG)"
   ]
  },
  {
   "cell_type": "markdown",
   "metadata": {},
   "source": [
    "## Test Model"
   ]
  },
  {
   "cell_type": "code",
   "execution_count": 4,
   "metadata": {},
   "outputs": [],
   "source": [
    "from stable_baselines3 import PPO\n",
    "from SimpleWalk2D import SimpleWalk2DDynGoal\n",
    "\n",
    "env = SimpleWalk2DDynGoal()\n",
    "\n",
    "model = PPO.load(\"PPO\", env=env)"
   ]
  },
  {
   "cell_type": "code",
   "execution_count": 5,
   "metadata": {},
   "outputs": [
    {
     "name": "stderr",
     "output_type": "stream",
     "text": [
      "DEBUG:root:\n",
      "DEBUG:root:reset\n",
      "DEBUG:root:movement: 1.3819007873535156\n",
      "DEBUG:root:movement: 1.8366508483886719\n",
      "DEBUG:root:vector 1: [1. 1.]\n",
      "DEBUG:root:vector 2: [1. 1.]\n",
      "DEBUG:root:angle: 0.0003452669847162036\n",
      "DEBUG:root:movement: 1.390979290008545\n",
      "DEBUG:root:vector 1: [1. 1.]\n",
      "DEBUG:root:vector 2: [0.506762 1.      ]\n",
      "DEBUG:root:angle: 0.3163556671063765\n",
      "DEBUG:root:movement: 1.7975654602050781\n",
      "DEBUG:root:vector 1: [0.506762 1.      ]\n",
      "DEBUG:root:vector 2: [1. 1.]\n",
      "DEBUG:root:angle: 0.3163556671063765\n",
      "DEBUG:root:movement: 1.6233530044555664\n",
      "DEBUG:root:vector 1: [1. 1.]\n",
      "DEBUG:root:vector 2: [0.9999995 0.5958195]\n",
      "DEBUG:root:angle: 0.24805826265454028\n",
      "DEBUG:root:movement: 1.6697534322738647\n",
      "DEBUG:root:vector 1: [0.9999995 0.5958195]\n",
      "DEBUG:root:vector 2: [1. 1.]\n",
      "DEBUG:root:angle: 0.24805826265454028\n",
      "DEBUG:root:reached goal\n",
      "DEBUG:root:x: [4.154978, 5.154978, 6.154978, 6.66174, 7.66174, 8.661739, 9.661739, 10.650923]\n",
      "DEBUG:root:y: [4.819565, 5.819565, 6.819565, 7.819565, 8.819565, 9.415384, 10.415384, 10.238518]\n",
      "DEBUG:root:goal: [11.111797 10.355038]\n"
     ]
    },
    {
     "name": "stdout",
     "output_type": "stream",
     "text": [
      "done\n",
      "info {'distance_to_goal': 1.9055549, 'steps_taken': 7, 'previous_state': array([10.650923, 10.238518, 11.111797, 10.355038, 11.565419, 10.499897],\n",
      "      dtype=float32), 'new_state': array([10.650923, 10.238518, 11.111797, 10.355038, 11.565419, 10.499897],\n",
      "      dtype=float32)}\n"
     ]
    },
    {
     "data": {
      "image/png": "[encoded data removed]",
      "text/plain": [
       "<Figure size 432x288 with 1 Axes>"
      ]
     },
     "metadata": {
      "needs_background": "light"
     },
     "output_type": "display_data"
    },
    {
     "name": "stderr",
     "output_type": "stream",
     "text": [
      "DEBUG:root:\n",
      "DEBUG:root:reset\n",
      "DEBUG:root:movement: 1.2622756958007812\n",
      "DEBUG:root:movement: 1.8836116790771484\n",
      "DEBUG:root:vector 1: [0.77154446 1.        ]\n",
      "DEBUG:root:vector 2: [1. 1.]\n",
      "DEBUG:root:angle: 0.1282503112938372\n",
      "DEBUG:root:movement: 1.8821773529052734\n",
      "DEBUG:root:vector 1: [1. 1.]\n",
      "DEBUG:root:vector 2: [1. 1.]\n",
      "DEBUG:root:angle: 0.0003452669847162036\n",
      "DEBUG:root:movement: 1.879765510559082\n",
      "DEBUG:root:vector 1: [1. 1.]\n",
      "DEBUG:root:vector 2: [1.        1.0000005]\n",
      "DEBUG:root:angle: 0.0\n",
      "DEBUG:root:movement: 1.8752360343933105\n",
      "DEBUG:root:vector 1: [1.        1.0000005]\n",
      "DEBUG:root:vector 2: [1. 1.]\n",
      "DEBUG:root:angle: 0.0\n",
      "DEBUG:root:movement: 1.8651175498962402\n",
      "DEBUG:root:vector 1: [1. 1.]\n",
      "DEBUG:root:vector 2: [1. 1.]\n",
      "DEBUG:root:angle: 0.0003452669847162036\n",
      "DEBUG:root:movement: 1.6499178409576416\n",
      "DEBUG:root:vector 1: [1. 1.]\n",
      "DEBUG:root:vector 2: [0.61844444 1.        ]\n",
      "DEBUG:root:angle: 0.23152696512782583\n",
      "DEBUG:root:movement: 1.7942452430725098\n",
      "DEBUG:root:vector 1: [0.61844444 1.        ]\n",
      "DEBUG:root:vector 2: [1. 1.]\n",
      "DEBUG:root:angle: 0.23152696512782583\n",
      "DEBUG:root:movement: 0.1320590376853943\n",
      "DEBUG:root:vector 1: [1. 1.]\n",
      "DEBUG:root:vector 2: [0.9119873 1.       ]\n",
      "DEBUG:root:angle: 0.04599849017528541\n",
      "DEBUG:root:reached goal\n",
      "DEBUG:root:x: [4.9266987, 5.698243, 6.698243, 7.698243, 8.698243, 9.698243, 10.698243, 11.316688, 12.316688, 13.228675, 12.228675]\n",
      "DEBUG:root:y: [4.252826, 5.252826, 6.252826, 7.252826, 8.252827, 9.252827, 10.252827, 11.252827, 12.252827, 13.252827, 12.252827]\n",
      "DEBUG:root:goal: [11.996011 12.585473]\n"
     ]
    },
    {
     "name": "stdout",
     "output_type": "stream",
     "text": [
      "done\n",
      "info {'distance_to_goal': 0.9854358, 'steps_taken': 10, 'previous_state': array([12.228675, 12.252827, 11.996011, 12.585473, 12.287006, 12.962406],\n",
      "      dtype=float32), 'new_state': array([12.228675, 12.252827, 11.996011, 12.585473, 12.287006, 12.962406],\n",
      "      dtype=float32)}\n"
     ]
    },
    {
     "data": {
      "image/png": "[encoded data removed]",
      "text/plain": [
       "<Figure size 432x288 with 1 Axes>"
      ]
     },
     "metadata": {
      "needs_background": "light"
     },
     "output_type": "display_data"
    },
    {
     "name": "stderr",
     "output_type": "stream",
     "text": [
      "DEBUG:root:\n",
      "DEBUG:root:reset\n",
      "DEBUG:root:movement: 1.3675537109375\n",
      "DEBUG:root:movement: 1.7812995910644531\n",
      "DEBUG:root:vector 1: [-1.  1.]\n",
      "DEBUG:root:vector 2: [-1.         1.0000001]\n",
      "DEBUG:root:angle: 0.0003452669847162036\n",
      "DEBUG:root:movement: 1.779494285583496\n",
      "DEBUG:root:vector 1: [-1.         1.0000001]\n",
      "DEBUG:root:vector 2: [-1.  1.]\n",
      "DEBUG:root:angle: 0.0003452669847162036\n",
      "DEBUG:root:movement: 1.7768611907958984\n",
      "DEBUG:root:vector 1: [-1.  1.]\n",
      "DEBUG:root:vector 2: [-1.  1.]\n",
      "DEBUG:root:angle: 0.0003452669847162036\n",
      "DEBUG:root:movement: 1.7727956771850586\n",
      "DEBUG:root:vector 1: [-1.  1.]\n",
      "DEBUG:root:vector 2: [-1.  1.]\n",
      "DEBUG:root:angle: 0.0003452669847162036\n",
      "DEBUG:root:movement: 1.7660503387451172\n",
      "DEBUG:root:vector 1: [-1.  1.]\n",
      "DEBUG:root:vector 2: [-1.  1.]\n",
      "DEBUG:root:angle: 0.0003452669847162036\n",
      "DEBUG:root:movement: 1.753633975982666\n",
      "DEBUG:root:vector 1: [-1.  1.]\n",
      "DEBUG:root:vector 2: [-1.  1.]\n",
      "DEBUG:root:angle: 0.0003452669847162036\n",
      "DEBUG:root:movement: 1.268467903137207\n",
      "DEBUG:root:vector 1: [-1.  1.]\n",
      "DEBUG:root:vector 2: [-1.        -0.1634512]\n",
      "DEBUG:root:angle: 0.9474166364707006\n",
      "DEBUG:root:movement: 1.3221073150634766\n",
      "DEBUG:root:vector 1: [-1.        -0.1634512]\n",
      "DEBUG:root:vector 2: [-1.          0.15818024]\n",
      "DEBUG:root:angle: 0.3188989190447942\n",
      "DEBUG:root:movement: 1.6529736518859863\n",
      "DEBUG:root:vector 1: [-1.          0.15818024]\n",
      "DEBUG:root:vector 2: [-1.         0.8182974]\n",
      "DEBUG:root:angle: 0.5289182401983117\n",
      "DEBUG:root:movement: 1.0686874389648438\n",
      "DEBUG:root:vector 1: [-1.         0.8182974]\n",
      "DEBUG:root:vector 2: [-0.5608387   0.56194496]\n",
      "DEBUG:root:angle: 0.10058447361200949\n",
      "DEBUG:root:reached goal\n",
      "DEBUG:root:x: [18.926424, 17.926424, 16.926424, 15.926424, 14.926424, 13.926424, 12.926424, 11.926424, 10.926424, 9.926424, 8.926424, 8.365585, 8.108871]\n",
      "DEBUG:root:y: [0.7531022, 1.7531022, 2.7531023, 3.7531023, 4.7531023, 5.7531023, 6.7531023, 7.7531023, 7.589651, 7.7478313, 8.566129, 9.128074, 10.128074]\n",
      "DEBUG:root:goal: [ 8.444039 10.029729]\n"
     ]
    },
    {
     "name": "stdout",
     "output_type": "stream",
     "text": [
      "done\n",
      "info {'distance_to_goal': 0.99377626, 'steps_taken': 12, 'previous_state': array([ 8.108871, 10.128074,  8.444039, 10.029729,  7.967936, 10.038824],\n",
      "      dtype=float32), 'new_state': array([ 8.108871, 10.128074,  8.444039, 10.029729,  7.967936, 10.038824],\n",
      "      dtype=float32)}\n"
     ]
    },
    {
     "data": {
      "image/png": "[encoded data removed]",
      "text/plain": [
       "<Figure size 432x288 with 1 Axes>"
      ]
     },
     "metadata": {
      "needs_background": "light"
     },
     "output_type": "display_data"
    },
    {
     "name": "stderr",
     "output_type": "stream",
     "text": [
      "DEBUG:root:\n",
      "DEBUG:root:reset\n",
      "DEBUG:root:movement: 1.373025894165039\n",
      "DEBUG:root:movement: 1.7971086502075195\n",
      "DEBUG:root:vector 1: [-1. -1.]\n",
      "DEBUG:root:vector 2: [-1. -1.]\n",
      "DEBUG:root:angle: 0.0003452669847162036\n",
      "DEBUG:root:movement: 1.7495002746582031\n",
      "DEBUG:root:vector 1: [-1. -1.]\n",
      "DEBUG:root:vector 2: [-1. -1.]\n",
      "DEBUG:root:angle: 0.0003452669847162036\n",
      "DEBUG:root:movement: 1.6557531356811523\n",
      "DEBUG:root:vector 1: [-1. -1.]\n",
      "DEBUG:root:vector 2: [-1. -1.]\n",
      "DEBUG:root:angle: 0.0003452669847162036\n",
      "DEBUG:root:movement: 1.4445164203643799\n",
      "DEBUG:root:vector 1: [-1. -1.]\n",
      "DEBUG:root:vector 2: [-0.7936268 -1.       ]\n",
      "DEBUG:root:angle: 0.11455599198057059\n",
      "DEBUG:root:movement: 1.2067439556121826\n",
      "DEBUG:root:vector 1: [-0.7936268 -1.       ]\n",
      "DEBUG:root:vector 2: [ 1. -1.]\n",
      "DEBUG:root:angle: 1.4562409211252416\n",
      "DEBUG:root:movement: 0.29033565521240234\n",
      "DEBUG:root:vector 1: [ 1. -1.]\n",
      "DEBUG:root:vector 2: [0.14716244 0.05373859]\n",
      "DEBUG:root:angle: 1.135518770953537\n",
      "DEBUG:root:movement: 1.0531315803527832\n",
      "DEBUG:root:vector 1: [0.14716244 0.05373859]\n",
      "DEBUG:root:vector 2: [-1. -1.]\n",
      "DEBUG:root:angle: 2.706315146960732\n",
      "DEBUG:root:reached goal\n",
      "DEBUG:root:x: [14.963071, 13.963071, 12.963071, 11.963071, 10.963071, 10.169444, 11.169444, 11.3166065, 10.3166065, 11.3166065]\n",
      "DEBUG:root:y: [19.059881, 18.059881, 17.059881, 16.059881, 15.059881, 14.059881, 13.059881, 13.11362, 12.11362, 11.223633]\n",
      "DEBUG:root:goal: [11.562549 11.265021]\n"
     ]
    },
    {
     "name": "stdout",
     "output_type": "stream",
     "text": [
      "done\n",
      "info {'distance_to_goal': 1.4441352, 'steps_taken': 9, 'previous_state': array([11.3166065, 11.223633 , 11.562549 , 11.265021 , 11.192444 ,\n",
      "       10.965388 ], dtype=float32), 'new_state': array([11.3166065, 11.223633 , 11.562549 , 11.265021 , 11.192444 ,\n",
      "       10.965388 ], dtype=float32)}\n"
     ]
    },
    {
     "data": {
      "image/png": "[encoded data removed]",
      "text/plain": [
       "<Figure size 432x288 with 1 Axes>"
      ]
     },
     "metadata": {
      "needs_background": "light"
     },
     "output_type": "display_data"
    },
    {
     "name": "stderr",
     "output_type": "stream",
     "text": [
      "DEBUG:root:\n",
      "DEBUG:root:reset\n",
      "DEBUG:root:movement: 1.0501108169555664\n",
      "DEBUG:root:movement: 0.8977895975112915\n",
      "DEBUG:root:vector 1: [0.44088554 1.        ]\n",
      "DEBUG:root:vector 2: [-1.  1.]\n",
      "DEBUG:root:angle: 1.200646705374057\n",
      "DEBUG:root:reached goal\n",
      "DEBUG:root:x: [12.950452, 13.391337, 12.391337, 12.518794]\n",
      "DEBUG:root:y: [8.077157, 9.077157, 10.077157, 11.077157]\n",
      "DEBUG:root:goal: [12.604936 10.761043]\n"
     ]
    },
    {
     "name": "stdout",
     "output_type": "stream",
     "text": [
      "done\n",
      "info {'distance_to_goal': 1.0573534, 'steps_taken': 3, 'previous_state': array([12.518794, 11.077157, 12.604936, 10.761043, 13.062018, 10.894582],\n",
      "      dtype=float32), 'new_state': array([12.518794, 11.077157, 12.604936, 10.761043, 13.062018, 10.894582],\n",
      "      dtype=float32)}\n"
     ]
    },
    {
     "data": {
      "image/png": "[encoded data removed]",
      "text/plain": [
       "<Figure size 432x288 with 1 Axes>"
      ]
     },
     "metadata": {
      "needs_background": "light"
     },
     "output_type": "display_data"
    },
    {
     "name": "stderr",
     "output_type": "stream",
     "text": [
      "DEBUG:root:\n",
      "DEBUG:root:reset\n",
      "DEBUG:root:movement: 1.1818199157714844\n",
      "DEBUG:root:movement: 1.6282882690429688\n",
      "DEBUG:root:vector 1: [0.8168793 1.       ]\n",
      "DEBUG:root:vector 2: [0.9646492 1.       ]\n",
      "DEBUG:root:angle: 0.08245833678537974\n",
      "DEBUG:root:movement: 1.349410057067871\n",
      "DEBUG:root:vector 1: [0.9646492 1.       ]\n",
      "DEBUG:root:vector 2: [-0.5898447  1.       ]\n",
      "DEBUG:root:angle: 1.300325587477877\n",
      "DEBUG:root:movement: 1.5900390148162842\n",
      "DEBUG:root:vector 1: [-0.5898447  1.       ]\n",
      "DEBUG:root:vector 2: [1. 1.]\n",
      "DEBUG:root:angle: 1.318317088698795\n",
      "DEBUG:root:movement: 1.369135856628418\n",
      "DEBUG:root:vector 1: [1. 1.]\n",
      "DEBUG:root:vector 2: [0.4345951 1.       ]\n",
      "DEBUG:root:angle: 0.3754284646522005\n",
      "DEBUG:root:movement: 0.8776618242263794\n",
      "DEBUG:root:vector 1: [0.4345951 1.       ]\n",
      "DEBUG:root:vector 2: [0.35475636 1.        ]\n",
      "DEBUG:root:angle: 0.06906280509570646\n",
      "DEBUG:root:movement: 0.36990731954574585\n",
      "DEBUG:root:vector 1: [0.35475636 1.        ]\n",
      "DEBUG:root:vector 2: [-1.        -0.6843376]\n",
      "DEBUG:root:angle: 2.5118390436304576\n",
      "DEBUG:root:movement: 0.06734156608581543\n",
      "DEBUG:root:vector 1: [-1.        -0.6843376]\n",
      "DEBUG:root:vector 2: [-0.9334688  1.       ]\n",
      "DEBUG:root:angle: 1.4199316416169971\n",
      "DEBUG:root:reached goal\n",
      "DEBUG:root:x: [9.613636, 10.430515, 11.3951645, 10.80532, 11.80532, 12.239915, 12.594671, 11.594671, 10.661202, 11.417967]\n",
      "DEBUG:root:y: [7.4545135, 8.454514, 9.454514, 10.454514, 11.454514, 12.454514, 13.454514, 12.770176, 13.770176, 12.770176]\n",
      "DEBUG:root:goal: [11.008534 12.708563]\n"
     ]
    },
    {
     "name": "stdout",
     "output_type": "stream",
     "text": [
      "done\n",
      "info {'distance_to_goal': 0.80146164, 'steps_taken': 9, 'previous_state': array([11.417967, 12.770176, 11.008534, 12.708563, 11.1747  , 13.154821],\n",
      "      dtype=float32), 'new_state': array([11.417967, 12.770176, 11.008534, 12.708563, 11.1747  , 13.154821],\n",
      "      dtype=float32)}\n"
     ]
    },
    {
     "data": {
      "image/png": "[encoded data removed]",
      "text/plain": [
       "<Figure size 432x288 with 1 Axes>"
      ]
     },
     "metadata": {
      "needs_background": "light"
     },
     "output_type": "display_data"
    },
    {
     "name": "stderr",
     "output_type": "stream",
     "text": [
      "DEBUG:root:\n",
      "DEBUG:root:reset\n",
      "DEBUG:root:movement: 1.2125473022460938\n",
      "DEBUG:root:movement: 1.6125726699829102\n",
      "DEBUG:root:vector 1: [-1. -1.]\n",
      "DEBUG:root:vector 2: [-1. -1.]\n",
      "DEBUG:root:angle: 0.0003452669847162036\n",
      "DEBUG:root:movement: 1.5771875381469727\n",
      "DEBUG:root:vector 1: [-1. -1.]\n",
      "DEBUG:root:vector 2: [-1. -1.]\n",
      "DEBUG:root:angle: 0.0003452669847162036\n",
      "DEBUG:root:movement: 1.5224494934082031\n",
      "DEBUG:root:vector 1: [-1. -1.]\n",
      "DEBUG:root:vector 2: [-1. -1.]\n",
      "DEBUG:root:angle: 0.0003452669847162036\n",
      "DEBUG:root:movement: 1.4351496696472168\n",
      "DEBUG:root:vector 1: [-1. -1.]\n",
      "DEBUG:root:vector 2: [-1.         -0.97816086]\n",
      "DEBUG:root:angle: 0.01103780462132407\n",
      "DEBUG:root:movement: 1.4837141036987305\n",
      "DEBUG:root:vector 1: [-1.         -0.97816086]\n",
      "DEBUG:root:vector 2: [-1.  1.]\n",
      "DEBUG:root:angle: 1.55975660708306\n",
      "DEBUG:root:movement: 1.4797673225402832\n",
      "DEBUG:root:vector 1: [-1.  1.]\n",
      "DEBUG:root:vector 2: [-1.        -0.5934124]\n",
      "DEBUG:root:angle: 1.3209598150418038\n",
      "DEBUG:root:movement: 1.298710823059082\n",
      "DEBUG:root:vector 1: [-1.        -0.5934124]\n",
      "DEBUG:root:vector 2: [-1. -1.]\n",
      "DEBUG:root:angle: 0.2498368409793211\n",
      "DEBUG:root:movement: 1.2836308479309082\n",
      "DEBUG:root:vector 1: [-1. -1.]\n",
      "DEBUG:root:vector 2: [-0.8927765   0.01418591]\n",
      "DEBUG:root:angle: 0.8012865787434542\n",
      "DEBUG:root:reached goal\n",
      "DEBUG:root:x: [17.56973, 16.56973, 15.569731, 14.569731, 13.569731, 12.569731, 11.569731, 10.569731, 9.569731, 8.676954, 7.9363422]\n",
      "DEBUG:root:y: [15.274677, 14.274677, 13.274677, 12.274677, 11.274677, 10.296516, 11.296516, 10.703104, 9.703104, 9.71729, 10.71729]\n",
      "DEBUG:root:goal: [ 7.705175 10.488205]\n"
     ]
    },
    {
     "name": "stdout",
     "output_type": "stream",
     "text": [
      "done\n",
      "info {'distance_to_goal': 1.6803107, 'steps_taken': 10, 'previous_state': array([ 7.9363422, 10.71729  ,  7.705175 , 10.488205 ,  7.239408 ,\n",
      "       10.587293 ], dtype=float32), 'new_state': array([ 7.9363422, 10.71729  ,  7.705175 , 10.488205 ,  7.239408 ,\n",
      "       10.587293 ], dtype=float32)}\n"
     ]
    },
    {
     "data": {
      "image/png": "[encoded data removed]",
      "text/plain": [
       "<Figure size 432x288 with 1 Axes>"
      ]
     },
     "metadata": {
      "needs_background": "light"
     },
     "output_type": "display_data"
    },
    {
     "name": "stderr",
     "output_type": "stream",
     "text": [
      "DEBUG:root:\n",
      "DEBUG:root:reset\n",
      "DEBUG:root:movement: 0.9958734512329102\n",
      "DEBUG:root:movement: 1.2775425910949707\n",
      "DEBUG:root:vector 1: [ 1.        -0.2913208]\n",
      "DEBUG:root:vector 2: [1.0000005 0.6498709]\n",
      "DEBUG:root:angle: 0.8597596453558922\n",
      "DEBUG:root:movement: 1.3373069763183594\n",
      "DEBUG:root:vector 1: [1.0000005 0.6498709]\n",
      "DEBUG:root:vector 2: [ 1.         -0.56010246]\n",
      "DEBUG:root:angle: 1.086850571524199\n",
      "DEBUG:root:movement: 1.2842590808868408\n",
      "DEBUG:root:vector 1: [ 1.         -0.56010246]\n",
      "DEBUG:root:vector 2: [ 1.         -0.22170734]\n",
      "DEBUG:root:angle: 0.2923878479104494\n",
      "DEBUG:root:movement: 1.1117968559265137\n",
      "DEBUG:root:vector 1: [ 1.         -0.22170734]\n",
      "DEBUG:root:vector 2: [1.         0.04135036]\n",
      "DEBUG:root:angle: 0.25950462822164727\n",
      "DEBUG:root:movement: 1.3073017597198486\n",
      "DEBUG:root:vector 1: [1.         0.04135036]\n",
      "DEBUG:root:vector 2: [ 1.        -0.7672806]\n",
      "DEBUG:root:angle: 0.6957959665997031\n",
      "DEBUG:root:reached goal\n",
      "DEBUG:root:x: [6.2053313, 7.2053313, 8.205332, 9.205332, 10.205332, 11.205332, 12.205332, 12.296893]\n",
      "DEBUG:root:y: [14.834411, 14.54309, 15.192961, 14.632858, 14.411151, 14.452501, 13.685221, 12.685221]\n",
      "DEBUG:root:goal: [12.457188 12.68304 ]\n"
     ]
    },
    {
     "name": "stdout",
     "output_type": "stream",
     "text": [
      "done\n",
      "info {'distance_to_goal': 0.86756945, 'steps_taken': 7, 'previous_state': array([12.296893, 12.685221, 12.457188, 12.68304 , 12.7788  , 13.034213],\n",
      "      dtype=float32), 'new_state': array([12.296893, 12.685221, 12.457188, 12.68304 , 12.7788  , 13.034213],\n",
      "      dtype=float32)}\n"
     ]
    },
    {
     "data": {
      "image/png": "[encoded data removed]",
      "text/plain": [
       "<Figure size 432x288 with 1 Axes>"
      ]
     },
     "metadata": {
      "needs_background": "light"
     },
     "output_type": "display_data"
    },
    {
     "name": "stderr",
     "output_type": "stream",
     "text": [
      "DEBUG:root:\n",
      "DEBUG:root:reset\n",
      "DEBUG:root:movement: 1.3582463264465332\n",
      "DEBUG:root:movement: 0.9498200416564941\n",
      "DEBUG:root:vector 1: [ 0.9999999 -1.       ]\n",
      "DEBUG:root:vector 2: [ 1. -1.]\n",
      "DEBUG:root:angle: 0.0\n",
      "DEBUG:root:movement: 0.9425563812255859\n",
      "DEBUG:root:vector 1: [ 1. -1.]\n",
      "DEBUG:root:vector 2: [ 1. -1.]\n",
      "DEBUG:root:angle: 0.0003452669847162036\n",
      "DEBUG:root:movement: 0.9294698238372803\n",
      "DEBUG:root:vector 1: [ 1. -1.]\n",
      "DEBUG:root:vector 2: [ 1. -1.]\n",
      "DEBUG:root:angle: 0.0003452669847162036\n",
      "DEBUG:root:movement: 0.9024579524993896\n",
      "DEBUG:root:vector 1: [ 1. -1.]\n",
      "DEBUG:root:vector 2: [ 1. -1.]\n",
      "DEBUG:root:angle: 0.0003452669847162036\n",
      "DEBUG:root:movement: 0.7301044464111328\n",
      "DEBUG:root:vector 1: [ 1. -1.]\n",
      "DEBUG:root:vector 2: [ 1.        -0.3671236]\n",
      "DEBUG:root:angle: 0.43355074074753425\n",
      "DEBUG:root:movement: 0.8586040735244751\n",
      "DEBUG:root:vector 1: [ 1.        -0.3671236]\n",
      "DEBUG:root:vector 2: [ 1.0000005  -0.84857845]\n",
      "DEBUG:root:angle: 0.35182044753859837\n",
      "DEBUG:root:reached goal\n",
      "DEBUG:root:x: [1.7636849, 2.7636847, 3.7636847, 4.7636847, 5.7636847, 6.7636847, 7.7636847, 8.763685, 9.763685]\n",
      "DEBUG:root:y: [16.798803, 15.798803, 14.798803, 13.798803, 12.798803, 11.798803, 11.43168, 10.583101, 10.305549]\n",
      "DEBUG:root:goal: [10.013233  9.975754]\n"
     ]
    },
    {
     "name": "stdout",
     "output_type": "stream",
     "text": [
      "done\n",
      "info {'distance_to_goal': 1.0388244, 'steps_taken': 8, 'previous_state': array([ 9.763685 , 10.305549 , 10.013233 ,  9.975754 ,  9.785106 ,\n",
      "       10.3937435], dtype=float32), 'new_state': array([ 9.763685 , 10.305549 , 10.013233 ,  9.975754 ,  9.785106 ,\n",
      "       10.3937435], dtype=float32)}\n"
     ]
    },
    {
     "data": {
      "image/png": "[encoded data removed]",
      "text/plain": [
       "<Figure size 432x288 with 1 Axes>"
      ]
     },
     "metadata": {
      "needs_background": "light"
     },
     "output_type": "display_data"
    },
    {
     "name": "stderr",
     "output_type": "stream",
     "text": [
      "DEBUG:root:\n",
      "DEBUG:root:reset\n",
      "DEBUG:root:movement: 0.9849667549133301\n",
      "DEBUG:root:movement: 1.5462415218353271\n",
      "DEBUG:root:vector 1: [0.9652195  0.21143627]\n",
      "DEBUG:root:vector 2: [1.        0.5353222]\n",
      "DEBUG:root:angle: 0.2758555061006775\n",
      "DEBUG:root:movement: 1.5167531967163086\n",
      "DEBUG:root:vector 1: [1.        0.5353222]\n",
      "DEBUG:root:vector 2: [0.9542055 0.9548521]\n",
      "DEBUG:root:angle: 0.29423233521684816\n",
      "DEBUG:root:movement: -0.8272087574005127\n",
      "DEBUG:root:vector 1: [0.9542055 0.9548521]\n",
      "DEBUG:root:vector 2: [-0.9082041  0.9985447]\n",
      "DEBUG:root:angle: 1.523113677295573\n",
      "DEBUG:root:movement: -0.19785428047180176\n",
      "DEBUG:root:vector 1: [-0.9082041  0.9985447]\n",
      "DEBUG:root:vector 2: [0.9487438 0.865345 ]\n",
      "DEBUG:root:angle: 1.5693928753682913\n",
      "DEBUG:root:movement: 0.9906135201454163\n",
      "DEBUG:root:vector 1: [0.9487438 0.865345 ]\n",
      "DEBUG:root:vector 2: [-0.21445751 -1.        ]\n",
      "DEBUG:root:angle: 2.5215115489626503\n",
      "DEBUG:root:movement: -0.8707155585289001\n",
      "DEBUG:root:vector 1: [-0.21445751 -1.        ]\n",
      "DEBUG:root:vector 2: [-1.  1.]\n",
      "DEBUG:root:angle: 2.144936953466098\n",
      "DEBUG:root:movement: 0.7946996688842773\n",
      "DEBUG:root:vector 1: [-1.  1.]\n",
      "DEBUG:root:vector 2: [-1. -1.]\n",
      "DEBUG:root:angle: 1.5707963267948966\n",
      "DEBUG:root:movement: 0.1687995195388794\n",
      "DEBUG:root:vector 1: [-1. -1.]\n",
      "DEBUG:root:vector 2: [ 1.         -0.97014236]\n",
      "DEBUG:root:angle: 1.5859502850351355\n",
      "DEBUG:root:reached goal\n",
      "DEBUG:root:x: [12.065996, 13.031216, 14.031216, 14.985421, 14.077217, 15.025961, 14.811503, 13.811503, 12.811503, 13.811503, 12.811503]\n",
      "DEBUG:root:y: [7.7045174, 7.9159536, 8.451276, 9.406128, 10.404673, 11.270018, 10.270018, 11.270018, 10.270018, 9.299875, 9.377812]\n",
      "DEBUG:root:goal: [12.558252  9.663201]\n"
     ]
    },
    {
     "name": "stdout",
     "output_type": "stream",
     "text": [
      "done\n",
      "info {'distance_to_goal': 0.837183, 'steps_taken': 10, 'previous_state': array([12.811503,  9.377812, 12.558252,  9.663201, 13.030369,  9.601047],\n",
      "      dtype=float32), 'new_state': array([12.811503,  9.377812, 12.558252,  9.663201, 13.030369,  9.601047],\n",
      "      dtype=float32)}\n"
     ]
    },
    {
     "data": {
      "image/png": "[encoded data removed]",
      "text/plain": [
       "<Figure size 432x288 with 1 Axes>"
      ]
     },
     "metadata": {
      "needs_background": "light"
     },
     "output_type": "display_data"
    }
   ],
   "source": [
    "\n",
    "# test prediction\n",
    "logger.setLevel(logging.DEBUG)\n",
    "\n",
    "episodes = 10\n",
    "for episode in range(episodes):\n",
    "    env.reset()\n",
    "\n",
    "    while True:\n",
    "        action, _states = model.predict(env.state)\n",
    "        obs, rewards, done, info = env.step(action)\n",
    "        if done:\n",
    "            print('done')\n",
    "            print(\"info\", info)\n",
    "            break\n",
    "    env.render()"
   ]
  },
  {
   "cell_type": "code",
   "execution_count": null,
   "metadata": {},
   "outputs": [],
   "source": []
  },
  {
   "cell_type": "code",
   "execution_count": 6,
   "metadata": {},
   "outputs": [
    {
     "name": "stderr",
     "output_type": "stream",
     "text": [
      "/home/luttkule/anaconda3/envs/rl-test/lib/python3.9/site-packages/stable_baselines3/common/evaluation.py:65: UserWarning: Evaluation environment is not wrapped with a ``Monitor`` wrapper. This may result in reporting modified episode lengths and rewards, if other wrappers happen to modify these. Consider wrapping environment first with ``Monitor`` wrapper.\n",
      "  warnings.warn(\n",
      "DEBUG:root:\n",
      "DEBUG:root:reset\n",
      "DEBUG:root:movement: 1.365138292312622\n",
      "DEBUG:root:movement: 0.9925427436828613\n",
      "DEBUG:root:vector 1: [-1.  1.]\n",
      "DEBUG:root:vector 2: [-1.  1.]\n",
      "DEBUG:root:angle: 0.0003452669847162036\n",
      "DEBUG:root:movement: 0.9649845361709595\n",
      "DEBUG:root:vector 1: [-1.  1.]\n",
      "DEBUG:root:vector 2: [-1.  1.]\n",
      "DEBUG:root:angle: 0.0003452669847162036\n",
      "DEBUG:root:reached goal\n",
      "DEBUG:root:\n",
      "DEBUG:root:reset\n",
      "DEBUG:root:movement: 1.2967567443847656\n",
      "DEBUG:root:movement: 1.7515506744384766\n",
      "DEBUG:root:vector 1: [ 0.99999994 -1.        ]\n",
      "DEBUG:root:vector 2: [ 1. -1.]\n",
      "DEBUG:root:angle: 0.0003452669847162036\n",
      "DEBUG:root:movement: 1.7206220626831055\n",
      "DEBUG:root:vector 1: [ 1. -1.]\n",
      "DEBUG:root:vector 2: [ 1.        -0.9831953]\n",
      "DEBUG:root:angle: 0.00847138840369312\n",
      "DEBUG:root:movement: 1.6267824172973633\n",
      "DEBUG:root:vector 1: [ 1.        -0.9831953]\n",
      "DEBUG:root:vector 2: [ 1.        -0.7256155]\n",
      "DEBUG:root:angle: 0.14921297723270122\n",
      "DEBUG:root:movement: 1.5576801300048828\n",
      "DEBUG:root:vector 1: [ 1.        -0.7256155]\n",
      "DEBUG:root:vector 2: [ 1.        -0.4852724]\n",
      "DEBUG:root:angle: 0.17591539780868132\n",
      "DEBUG:root:movement: 1.5120744705200195\n",
      "DEBUG:root:vector 1: [ 1.        -0.4852724]\n",
      "DEBUG:root:vector 2: [ 1.         -0.28829575]\n",
      "DEBUG:root:angle: 0.17111199560581214\n",
      "DEBUG:root:movement: 1.4833736419677734\n",
      "DEBUG:root:vector 1: [ 1.         -0.28829575]\n",
      "DEBUG:root:vector 2: [ 1.         -0.14470768]\n",
      "DEBUG:root:angle: 0.1369748244984133\n",
      "DEBUG:root:movement: 1.4661483764648438\n",
      "DEBUG:root:vector 1: [ 1.         -0.14470768]\n",
      "DEBUG:root:vector 2: [ 0.9999995  -0.06065178]\n",
      "DEBUG:root:angle: 0.08313221661954598\n",
      "DEBUG:root:movement: 1.4578156471252441\n",
      "DEBUG:root:vector 1: [ 0.9999995  -0.06065178]\n",
      "DEBUG:root:vector 2: [ 1.         -0.03874207]\n",
      "DEBUG:root:angle: 0.021853407511025807\n",
      "DEBUG:root:movement: 1.4601848125457764\n",
      "DEBUG:root:vector 1: [ 1.         -0.03874207]\n",
      "DEBUG:root:vector 2: [ 1.        -0.0828352]\n",
      "DEBUG:root:angle: 0.04392442264189836\n",
      "DEBUG:root:movement: 1.4519447088241577\n",
      "DEBUG:root:vector 1: [ 1.        -0.0828352]\n",
      "DEBUG:root:vector 2: [ 1.         -0.14630604]\n",
      "DEBUG:root:angle: 0.06263123574984472\n",
      "DEBUG:root:reached goal\n",
      "DEBUG:root:\n",
      "DEBUG:root:reset\n",
      "DEBUG:root:movement: 1.409632682800293\n",
      "DEBUG:root:movement: 1.8841257095336914\n",
      "DEBUG:root:vector 1: [-1.          0.99999976]\n",
      "DEBUG:root:vector 2: [-1.  1.]\n",
      "DEBUG:root:angle: 0.0003452669847162036\n",
      "DEBUG:root:movement: 1.883371353149414\n",
      "DEBUG:root:vector 1: [-1.  1.]\n",
      "DEBUG:root:vector 2: [-1.  1.]\n",
      "DEBUG:root:angle: 0.0003452669847162036\n",
      "DEBUG:root:movement: 1.882176399230957\n",
      "DEBUG:root:vector 1: [-1.  1.]\n",
      "DEBUG:root:vector 2: [-1.  1.]\n",
      "DEBUG:root:angle: 0.0003452669847162036\n",
      "DEBUG:root:movement: 1.8801321983337402\n",
      "DEBUG:root:vector 1: [-1.  1.]\n",
      "DEBUG:root:vector 2: [-1.  1.]\n",
      "DEBUG:root:angle: 0.0003452669847162036\n",
      "DEBUG:root:movement: 1.8761777877807617\n",
      "DEBUG:root:vector 1: [-1.  1.]\n",
      "DEBUG:root:vector 2: [-1.  1.]\n",
      "DEBUG:root:angle: 0.0003452669847162036\n",
      "DEBUG:root:movement: 1.8668866157531738\n",
      "DEBUG:root:vector 1: [-1.  1.]\n",
      "DEBUG:root:vector 2: [-1.  1.]\n",
      "DEBUG:root:angle: 0.0003452669847162036\n",
      "DEBUG:root:movement: 1.8352341651916504\n",
      "DEBUG:root:vector 1: [-1.  1.]\n",
      "DEBUG:root:vector 2: [-1.  1.]\n",
      "DEBUG:root:angle: 0.0003452669847162036\n",
      "DEBUG:root:movement: 1.5263571739196777\n",
      "DEBUG:root:vector 1: [-1.  1.]\n",
      "DEBUG:root:vector 2: [-1.          0.36298943]\n",
      "DEBUG:root:angle: 0.4371985318749269\n",
      "DEBUG:root:reached goal\n",
      "DEBUG:root:\n",
      "DEBUG:root:reset\n",
      "DEBUG:root:movement: 1.4105072021484375\n",
      "DEBUG:root:movement: 1.824427604675293\n",
      "DEBUG:root:vector 1: [1. 1.]\n",
      "DEBUG:root:vector 2: [1.        1.0000005]\n",
      "DEBUG:root:angle: 0.0\n",
      "DEBUG:root:movement: 1.822035312652588\n",
      "DEBUG:root:vector 1: [1.        1.0000005]\n",
      "DEBUG:root:vector 2: [1. 1.]\n",
      "DEBUG:root:angle: 0.0\n",
      "DEBUG:root:movement: 1.817436695098877\n",
      "DEBUG:root:vector 1: [1. 1.]\n",
      "DEBUG:root:vector 2: [1. 1.]\n",
      "DEBUG:root:angle: 0.0003452669847162036\n",
      "DEBUG:root:movement: 1.806746006011963\n",
      "DEBUG:root:vector 1: [1. 1.]\n",
      "DEBUG:root:vector 2: [1. 1.]\n",
      "DEBUG:root:angle: 0.0003452669847162036\n",
      "DEBUG:root:movement: 1.7712483406066895\n",
      "DEBUG:root:vector 1: [1. 1.]\n",
      "DEBUG:root:vector 2: [0.9999995 1.       ]\n",
      "DEBUG:root:angle: 0.0\n",
      "DEBUG:root:movement: 1.4909377098083496\n",
      "DEBUG:root:vector 1: [0.9999995 1.       ]\n",
      "DEBUG:root:vector 2: [1.        0.9252367]\n",
      "DEBUG:root:angle: 0.0388123494136511\n",
      "DEBUG:root:reached goal\n",
      "DEBUG:root:\n",
      "DEBUG:root:reset\n",
      "DEBUG:root:movement: 1.2439260482788086\n",
      "DEBUG:root:movement: 1.6747760772705078\n",
      "DEBUG:root:vector 1: [1. 1.]\n",
      "DEBUG:root:vector 2: [1. 1.]\n",
      "DEBUG:root:angle: 0.0003452669847162036\n",
      "DEBUG:root:movement: 1.6380424499511719\n",
      "DEBUG:root:vector 1: [1. 1.]\n",
      "DEBUG:root:vector 2: [1. 1.]\n",
      "DEBUG:root:angle: 0.0003452669847162036\n",
      "DEBUG:root:movement: 1.5811767578125\n",
      "DEBUG:root:vector 1: [1. 1.]\n",
      "DEBUG:root:vector 2: [1. 1.]\n",
      "DEBUG:root:angle: 0.0003452669847162036\n",
      "DEBUG:root:movement: 1.4974288940429688\n",
      "DEBUG:root:vector 1: [1. 1.]\n",
      "DEBUG:root:vector 2: [1.         0.70499516]\n",
      "DEBUG:root:angle: 0.17132783715400426\n",
      "DEBUG:root:movement: 1.4594130516052246\n",
      "DEBUG:root:vector 1: [1.         0.70499516]\n",
      "DEBUG:root:vector 2: [1.         0.36217594]\n",
      "DEBUG:root:angle: 0.26659028303388543\n",
      "DEBUG:root:movement: 1.4538512229919434\n",
      "DEBUG:root:vector 1: [1.         0.36217594]\n",
      "DEBUG:root:vector 2: [1.         0.13783932]\n",
      "DEBUG:root:angle: 0.21050489830912514\n",
      "DEBUG:root:movement: 1.4592318534851074\n",
      "DEBUG:root:vector 1: [1.         0.13783932]\n",
      "DEBUG:root:vector 2: [ 1.0000005  -0.01648235]\n",
      "DEBUG:root:angle: 0.15345723532027533\n",
      "DEBUG:root:movement: 1.467534065246582\n",
      "DEBUG:root:vector 1: [ 1.0000005  -0.01648235]\n",
      "DEBUG:root:vector 2: [ 1.         -0.13878632]\n",
      "DEBUG:root:angle: 0.12142401396499358\n",
      "DEBUG:root:reached goal\n",
      "DEBUG:root:\n",
      "DEBUG:root:reset\n",
      "DEBUG:root:movement: 1.1421728134155273\n",
      "DEBUG:root:movement: 1.412055492401123\n",
      "DEBUG:root:vector 1: [ 1.        -0.6085987]\n",
      "DEBUG:root:vector 2: [ 1.         -0.54358006]\n",
      "DEBUG:root:angle: 0.048815879009838296\n",
      "DEBUG:root:movement: 1.3867809772491455\n",
      "DEBUG:root:vector 1: [ 1.         -0.54358006]\n",
      "DEBUG:root:vector 2: [ 1.         -0.56109333]\n",
      "DEBUG:root:angle: 0.013421175072793367\n",
      "DEBUG:root:reached goal\n",
      "DEBUG:root:\n",
      "DEBUG:root:reset\n",
      "DEBUG:root:movement: 1.112818717956543\n",
      "DEBUG:root:movement: 1.5168366432189941\n",
      "DEBUG:root:vector 1: [ 1.        -0.6249981]\n",
      "DEBUG:root:vector 2: [ 1.         -0.48488426]\n",
      "DEBUG:root:angle: 0.10711514667465782\n",
      "DEBUG:root:movement: 1.49409818649292\n",
      "DEBUG:root:vector 1: [ 1.         -0.48488426]\n",
      "DEBUG:root:vector 2: [ 1.       -0.367445]\n",
      "DEBUG:root:angle: 0.09935178934283125\n",
      "DEBUG:root:movement: 1.4779276847839355\n",
      "DEBUG:root:vector 1: [ 1.       -0.367445]\n",
      "DEBUG:root:vector 2: [ 1.0000005  -0.28519154]\n",
      "DEBUG:root:angle: 0.07431451089451033\n",
      "DEBUG:root:movement: 1.4674608707427979\n",
      "DEBUG:root:vector 1: [ 1.0000005  -0.28519154]\n",
      "DEBUG:root:vector 2: [ 1.        -0.2528143]\n",
      "DEBUG:root:angle: 0.030189803593679124\n",
      "DEBUG:root:movement: 1.4664186239242554\n",
      "DEBUG:root:vector 1: [ 1.        -0.2528143]\n",
      "DEBUG:root:vector 2: [ 1.        -0.2935505]\n",
      "DEBUG:root:angle: 0.037903085973723896\n",
      "DEBUG:root:reached goal\n",
      "DEBUG:root:\n",
      "DEBUG:root:reset\n",
      "DEBUG:root:movement: 1.4095540046691895\n",
      "DEBUG:root:movement: 1.8473873138427734\n",
      "DEBUG:root:vector 1: [1. 1.]\n",
      "DEBUG:root:vector 2: [1. 1.]\n",
      "DEBUG:root:angle: 0.0003452669847162036\n",
      "DEBUG:root:movement: 1.8119862079620361\n",
      "DEBUG:root:vector 1: [1. 1.]\n",
      "DEBUG:root:vector 2: [1. 1.]\n",
      "DEBUG:root:angle: 0.0003452669847162036\n",
      "DEBUG:root:movement: 1.5959981679916382\n",
      "DEBUG:root:vector 1: [1. 1.]\n",
      "DEBUG:root:vector 2: [0.7274647 1.       ]\n",
      "DEBUG:root:angle: 0.15647594904782972\n",
      "DEBUG:root:reached goal\n",
      "DEBUG:root:\n",
      "DEBUG:root:reset\n",
      "DEBUG:root:movement: 1.0406168699264526\n",
      "DEBUG:root:movement: 0.8544976115226746\n",
      "DEBUG:root:vector 1: [-1.         -0.40820122]\n",
      "DEBUG:root:vector 2: [-1.         -0.40585327]\n",
      "DEBUG:root:angle: 0.0020426273730099597\n",
      "DEBUG:root:reached goal\n",
      "DEBUG:root:\n",
      "DEBUG:root:reset\n",
      "DEBUG:root:movement: 1.0435209274291992\n",
      "DEBUG:root:movement: 1.4036149978637695\n",
      "DEBUG:root:vector 1: [ 1.0000001  -0.34347153]\n",
      "DEBUG:root:vector 2: [ 1.         -0.12362099]\n",
      "DEBUG:root:angle: 0.20785009844212993\n",
      "DEBUG:root:movement: 1.3766446113586426\n",
      "DEBUG:root:vector 1: [ 1.         -0.12362099]\n",
      "DEBUG:root:vector 2: [1.         0.04801464]\n",
      "DEBUG:root:angle: 0.1709747243430511\n",
      "DEBUG:root:movement: 1.3621621131896973\n",
      "DEBUG:root:vector 1: [1.         0.04801464]\n",
      "DEBUG:root:vector 2: [1.         0.15882206]\n",
      "DEBUG:root:angle: 0.10952887779921634\n",
      "DEBUG:root:movement: 1.3541135787963867\n",
      "DEBUG:root:vector 1: [1.         0.15882206]\n",
      "DEBUG:root:vector 2: [1.        0.2180624]\n",
      "DEBUG:root:angle: 0.05719509878187929\n",
      "DEBUG:root:movement: 1.3511962890625\n",
      "DEBUG:root:vector 1: [1.        0.2180624]\n",
      "DEBUG:root:vector 2: [1.         0.22521591]\n",
      "DEBUG:root:angle: 0.006818489792359065\n",
      "DEBUG:root:movement: 1.3529701232910156\n",
      "DEBUG:root:vector 1: [1.         0.22521591]\n",
      "DEBUG:root:vector 2: [0.9999995 0.1916027]\n",
      "DEBUG:root:angle: 0.03221315548145148\n",
      "DEBUG:root:movement: 1.3524092435836792\n",
      "DEBUG:root:vector 1: [0.9999995 0.1916027]\n",
      "DEBUG:root:vector 2: [1.        0.1474247]\n",
      "DEBUG:root:angle: 0.042938743767372084\n",
      "DEBUG:root:reached goal\n",
      "DEBUG:root:\n",
      "DEBUG:root:reset\n"
     ]
    },
    {
     "data": {
      "text/plain": [
       "(1122.3294204235076, 131.20227888547666)"
      ]
     },
     "execution_count": 6,
     "metadata": {},
     "output_type": "execute_result"
    }
   ],
   "source": [
    "from stable_baselines3.common.evaluation import evaluate_policy\n",
    "\n",
    "evaluate_policy(model, env, n_eval_episodes=10, render=False)\n",
    "\n",
    "# TODO render doesn't work"
   ]
  }
 ],
 "metadata": {
  "interpreter": {
   "hash": "e9e60918770726085cb8af52fcf721483d216e54725aaf2e5694162f2c52f93a"
  },
  "kernelspec": {
   "display_name": "Python 3.9.10 ('rl-test')",
   "language": "python",
   "name": "python3"
  },
  "language_info": {
   "codemirror_mode": {
    "name": "ipython",
    "version": 3
   },
   "file_extension": ".py",
   "mimetype": "text/x-python",
   "name": "python",
   "nbconvert_exporter": "python",
   "pygments_lexer": "ipython3",
   "version": "3.9.10"
  },
  "orig_nbformat": 4
 },
 "nbformat": 4,
 "nbformat_minor": 2
}
