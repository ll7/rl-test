{
 "cells": [
  {
   "cell_type": "markdown",
   "metadata": {},
   "source": [
    "# Simple Walk 1D"
   ]
  },
  {
   "cell_type": "markdown",
   "metadata": {},
   "source": [
    "## Create a simple environment where you can walk around\n",
    "\n",
    "input is the direction up, down, left or right\n",
    "try to reach a goal\n",
    "terminate if you reach goal or cross border\n",
    "reward is -distance for goal and -1 for step\n",
    "\n",
    "base environment on https://github.com/nicknochnack/ReinforcementLearningCourse/blob/main/Project%203%20-%20Custom%20Environment.ipynb"
   ]
  },
  {
   "cell_type": "markdown",
   "metadata": {},
   "source": [
    "## 1. Import Dependencies"
   ]
  },
  {
   "cell_type": "code",
   "execution_count": 13,
   "metadata": {},
   "outputs": [],
   "source": [
    "import gym \n",
    "from gym import Env\n",
    "from gym.spaces import Discrete, Box, Dict, Tuple, MultiBinary, MultiDiscrete \n",
    "import numpy as np\n",
    "import random\n",
    "import os\n",
    "from stable_baselines3 import PPO\n",
    "from stable_baselines3.common.vec_env import VecFrameStack\n",
    "from stable_baselines3.common.evaluation import evaluate_policy"
   ]
  },
  {
   "cell_type": "code",
   "execution_count": 14,
   "metadata": {},
   "outputs": [],
   "source": [
    "class SimpleWalk1D(Env):\n",
    "    def __init__(self):\n",
    "        # go left or right\n",
    "        self.action_space = Discrete(2) # 0: left, 1: right\n",
    "        \n",
    "        self.observation_space = MultiDiscrete([10, 10])\n",
    "        \n",
    "        self.state = (random.randint(0,9), random.randint(0,9))\n",
    "        \n",
    "        # set max steps\n",
    "        self.steps = 10\n",
    "        \n",
    "        \n",
    "    def step(self, action):\n",
    "        self.steps -= 1\n",
    "        \n",
    "        # calculate correct action\n",
    "        action2 = action * 2 - 1\n",
    "        \n",
    "        # update state\n",
    "        self.state = (self.state[0] + action2, self.state[1])\n",
    "        \n",
    "        if self.state[0] == -1 or self.state[0] == 10:\n",
    "            # went over bounds\n",
    "            done = True\n",
    "            reward = -10\n",
    "        elif self.state[0] == self.state[1]:\n",
    "            # reached goal\n",
    "            done = True\n",
    "            reward = 100\n",
    "        elif self.steps == 0:\n",
    "            # ran out of steps\n",
    "            done = True\n",
    "            reward = -10\n",
    "        else:\n",
    "            done = False\n",
    "            reward = -1\n",
    "\n",
    "        return self.state, reward, done, {}\n",
    "\n",
    "    def render(self):\n",
    "        pass\n",
    "    \n",
    "    def reset(self):\n",
    "        self.state = (random.randint(0,9), random.randint(0,9))\n",
    "        self.steps = 10\n",
    "        return self.state\n",
    "        \n",
    "        \n",
    "        \n",
    "        \n",
    "        \n",
    "        "
   ]
  },
  {
   "cell_type": "code",
   "execution_count": 15,
   "metadata": {},
   "outputs": [
    {
     "data": {
      "text/plain": [
       "tuple"
      ]
     },
     "execution_count": 15,
     "metadata": {},
     "output_type": "execute_result"
    }
   ],
   "source": [
    "env = SimpleWalk1D()\n",
    "type(env.reset())"
   ]
  },
  {
   "cell_type": "code",
   "execution_count": 16,
   "metadata": {},
   "outputs": [
    {
     "name": "stdout",
     "output_type": "stream",
     "text": [
      "Episode:1 Score:-19\n",
      "Episode:2 Score:-19\n",
      "Episode:3 Score:100\n",
      "Episode:4 Score:99\n",
      "Episode:5 Score:-19\n"
     ]
    }
   ],
   "source": [
    "episodes = 5\n",
    "for episode in range(1, episodes+1):\n",
    "    state = env.reset()\n",
    "    done = False\n",
    "    score = 0 \n",
    "    \n",
    "    while not done:\n",
    "        env.render()\n",
    "        action = env.action_space.sample()\n",
    "        n_state, reward, done, info = env.step(action)\n",
    "        score+=reward\n",
    "    print('Episode:{} Score:{}'.format(episode, score))\n",
    "env.close()"
   ]
  },
  {
   "cell_type": "code",
   "execution_count": 17,
   "metadata": {},
   "outputs": [],
   "source": [
    "log_path = os.path.join('Training', 'Logs')"
   ]
  },
  {
   "cell_type": "code",
   "execution_count": 18,
   "metadata": {},
   "outputs": [
    {
     "name": "stdout",
     "output_type": "stream",
     "text": [
      "Using cuda device\n",
      "Wrapping the env with a `Monitor` wrapper\n",
      "Wrapping the env in a DummyVecEnv.\n"
     ]
    }
   ],
   "source": [
    "model = PPO(\"MlpPolicy\", env, verbose=1, tensorboard_log=log_path)"
   ]
  },
  {
   "cell_type": "code",
   "execution_count": 24,
   "metadata": {},
   "outputs": [],
   "source": [
    "# callback\n",
    "from stable_baselines3.common.callbacks import EvalCallback, StopTrainingOnRewardThreshold\n",
    "\n",
    "stop_callback = StopTrainingOnRewardThreshold(reward_threshold=97, verbose=1)\n",
    "\n",
    "eval_callback = EvalCallback(env, \n",
    "                             callback_on_new_best=stop_callback,\n",
    "                             eval_freq=1000,\n",
    "                             best_model_save_path=os.path.join(log_path, 'best_model'),\n",
    "                             verbose=1)\n",
    "                             "
   ]
  },
  {
   "cell_type": "code",
   "execution_count": 25,
   "metadata": {},
   "outputs": [
    {
     "name": "stdout",
     "output_type": "stream",
     "text": [
      "Logging to Training\\Logs\\PPO_7\n",
      "Eval num_timesteps=1000, episode_reward=97.20 +/- 2.64\n",
      "Episode length: 3.80 +/- 2.64\n",
      "---------------------------------\n",
      "| eval/              |          |\n",
      "|    mean_ep_length  | 3.8      |\n",
      "|    mean_reward     | 97.2     |\n",
      "| time/              |          |\n",
      "|    total_timesteps | 1000     |\n",
      "---------------------------------\n",
      "New best mean reward!\n",
      "Stopping training because the mean reward 97.20  is above the threshold 97\n"
     ]
    },
    {
     "data": {
      "text/plain": [
       "<stable_baselines3.ppo.ppo.PPO at 0x123acbe3940>"
      ]
     },
     "execution_count": 25,
     "metadata": {},
     "output_type": "execute_result"
    }
   ],
   "source": [
    "model.learn(total_timesteps=40_000, callback=eval_callback)"
   ]
  },
  {
   "cell_type": "code",
   "execution_count": 22,
   "metadata": {},
   "outputs": [],
   "source": [
    "model.save('PPO')"
   ]
  },
  {
   "cell_type": "code",
   "execution_count": 23,
   "metadata": {},
   "outputs": [
    {
     "data": {
      "text/plain": [
       "(97.0, 2.6076809620810595)"
      ]
     },
     "execution_count": 23,
     "metadata": {},
     "output_type": "execute_result"
    }
   ],
   "source": [
    "evaluate_policy(model, env, n_eval_episodes=10, render=False)"
   ]
  }
 ],
 "metadata": {
  "interpreter": {
   "hash": "aff22e454c7c7c2b414196c91e128cfd95ef64f890c08d8c85042177f44e9549"
  },
  "kernelspec": {
   "display_name": "Python 3.9.7 64-bit ('rl-test': conda)",
   "language": "python",
   "name": "python3"
  },
  "language_info": {
   "codemirror_mode": {
    "name": "ipython",
    "version": 3
   },
   "file_extension": ".py",
   "mimetype": "text/x-python",
   "name": "python",
   "nbconvert_exporter": "python",
   "pygments_lexer": "ipython3",
   "version": "3.9.7"
  },
  "orig_nbformat": 4
 },
 "nbformat": 4,
 "nbformat_minor": 2
}
